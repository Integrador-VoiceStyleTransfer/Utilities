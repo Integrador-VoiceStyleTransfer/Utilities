{
 "cells": [
  {
   "cell_type": "code",
   "execution_count": 4,
   "metadata": {},
   "outputs": [],
   "source": [
    "from resemblyzer import VoiceEncoder, preprocess_wav\n",
    "from pathlib import Path\n",
    "import numpy as np\n",
    "import matplotlib as plt"
   ]
  },
  {
   "cell_type": "code",
   "execution_count": 1,
   "metadata": {},
   "outputs": [
    {
     "name": "stdout",
     "output_type": "stream",
     "text": [
      "Loaded the voice encoder model on cuda in 2.80 seconds.\n",
      "[0.    0.05  0.011 0.    0.015 0.036 0.135 0.025 0.052 0.    0.286 0.101\n",
      " 0.016 0.    0.073 0.    0.062 0.    0.    0.    0.    0.035 0.    0.\n",
      " 0.    0.085 0.    0.    0.    0.    0.095 0.025 0.    0.    0.    0.06\n",
      " 0.048 0.    0.013 0.007 0.    0.    0.086 0.001 0.    0.    0.    0.062\n",
      " 0.028 0.    0.    0.008 0.    0.    0.077 0.    0.052 0.    0.    0.\n",
      " 0.    0.    0.    0.065 0.    0.    0.037 0.113 0.    0.    0.    0.\n",
      " 0.08  0.008 0.014 0.02  0.    0.045 0.    0.107 0.    0.    0.068 0.124\n",
      " 0.017 0.    0.    0.    0.    0.021 0.108 0.    0.012 0.    0.003 0.\n",
      " 0.036 0.    0.    0.    0.    0.    0.03  0.103 0.    0.189 0.034 0.008\n",
      " 0.    0.204 0.    0.102 0.    0.109 0.    0.    0.    0.055 0.02  0.\n",
      " 0.018 0.042 0.256 0.    0.036 0.035 0.075 0.059 0.032 0.    0.    0.\n",
      " 0.051 0.295 0.014 0.066 0.003 0.    0.    0.101 0.    0.025 0.107 0.002\n",
      " 0.025 0.025 0.023 0.    0.077 0.    0.05  0.107 0.    0.05  0.    0.083\n",
      " 0.    0.    0.    0.    0.062 0.    0.    0.004 0.072 0.059 0.008 0.048\n",
      " 0.154 0.082 0.    0.    0.021 0.008 0.    0.033 0.059 0.193 0.029 0.\n",
      " 0.033 0.042 0.    0.06  0.029 0.    0.    0.053 0.025 0.    0.    0.02\n",
      " 0.    0.005 0.    0.    0.029 0.161 0.    0.    0.091 0.009 0.    0.012\n",
      " 0.    0.    0.023 0.054 0.    0.044 0.    0.    0.014 0.029 0.    0.07\n",
      " 0.    0.    0.023 0.    0.014 0.056 0.01  0.    0.025 0.028 0.026 0.\n",
      " 0.    0.    0.    0.    0.016 0.    0.    0.01  0.112 0.    0.262 0.063\n",
      " 0.    0.015 0.083 0.016 0.002 0.193 0.194 0.    0.    0.235 0.003 0.184\n",
      " 0.049 0.004 0.015 0.   ]\n"
     ]
    }
   ],
   "source": [
    "\n",
    "PATH = './Resources/Audios_test/Carlos/C_SAME.wav'\n",
    "\n",
    "fpath = Path(PATH)\n",
    "wav = preprocess_wav(fpath)\n",
    "\n",
    "encoder = VoiceEncoder()\n",
    "embed = encoder.embed_utterance(wav)\n",
    "np.set_printoptions(precision=3, suppress=True)\n",
    "print(embed)"
   ]
  },
  {
   "cell_type": "markdown",
   "metadata": {},
   "source": [
    "https://github.com/resemble-ai/Resemblyzer/blob/master/demo01_similarity.py"
   ]
  }
 ],
 "metadata": {
  "kernelspec": {
   "display_name": "Python 3",
   "language": "python",
   "name": "python3"
  },
  "language_info": {
   "codemirror_mode": {
    "name": "ipython",
    "version": 3
   },
   "file_extension": ".py",
   "mimetype": "text/x-python",
   "name": "python",
   "nbconvert_exporter": "python",
   "pygments_lexer": "ipython3",
   "version": "3.7.4"
  }
 },
 "nbformat": 4,
 "nbformat_minor": 2
}
