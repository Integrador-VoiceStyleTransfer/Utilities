{
 "cells": [
  {
   "cell_type": "markdown",
   "metadata": {},
   "source": [
    " La voz puede caracterizarse por varios parámetros. El <b>TONO</b> de la voz es una de las características principales, pero en el campo de las tecnologías acústicas, el nombre correcto de este parámetro es la <b>frecuencia fundamental</b>.\n",
    " \n",
    " La frecuencia fundamental está directamente <b>relacionada</b> con lo que llamamos <b>entonación</b>. Y la entonación, por ejemplo, está asociada con características expresivas de la voz. "
   ]
  },
  {
   "cell_type": "markdown",
   "metadata": {},
   "source": [
    "### F0 = La frecuencia fundamental"
   ]
  },
  {
   "cell_type": "markdown",
   "metadata": {},
   "source": [
    "Frecuencia de vibración de los ligamentos al pronunciar sonidos sonoros.\n",
    "En sonidos sordos como por ejemplo: susurrar o silbar, los ligamentos no vibran, por lo tanto esta característica no es relevante."
   ]
  },
  {
   "cell_type": "markdown",
   "metadata": {},
   "source": [
    "### Variabilidad de la frecuencia fundamental"
   ]
  },
  {
   "cell_type": "markdown",
   "metadata": {},
   "source": [
    "Puede variar por genero, discurso emocional, etc.\n",
    "\n",
    "- Voces masculinas, el menor promedio esta entre 70–200 Hz\n",
    "- Voces femeninas, pueden alcanzar los 400Hz"
   ]
  },
  {
   "cell_type": "markdown",
   "metadata": {},
   "source": [
    "### Campos de aplicación del F0"
   ]
  },
  {
   "cell_type": "markdown",
   "metadata": {},
   "source": [
    "1. Emotion Recognition\n",
    "2. Sex determination (male/female voices)\n",
    "3. Speaker deterioration, or splitting the speech into phrases\n",
    "4. In healthcare, detection of the pathological characteristics of the voice.\n",
    "\n",
    "<b>Nota: </b> Utilizando los parámetros acústicos de Jitter y Shimmer): F0 podría utilizarse para la detección de signos de la enfermedad de <b>Parkinson</b>. Estos parametros también puede utilizarse para el reconocimiento de emociones."
   ]
  },
  {
   "cell_type": "markdown",
   "metadata": {},
   "source": [
    "### ilusión auditiva de Laurel y Yanny"
   ]
  },
  {
   "cell_type": "markdown",
   "metadata": {},
   "source": [
    "[![IMAGE ALT TEXT HERE](https://img.youtube.com/vi/YOUTUBE_VIDEO_ID_HERE/0.jpg)](https://www.youtube.com/watch?v=yDiXQl7grPQ)"
   ]
  },
  {
   "cell_type": "markdown",
   "metadata": {},
   "source": [
    "La percepción de F0, que está influenciada por muchos factores: la edad del oyente, el grado de cansancio del oyente, la calidad del sistema de audio"
   ]
  },
  {
   "cell_type": "markdown",
   "metadata": {},
   "source": [
    "# F0 métodos de estimación"
   ]
  },
  {
   "cell_type": "markdown",
   "metadata": {},
   "source": [
    "Se dividen en tres categorías\n",
    "\n",
    "1. Basados en dinámica temporal de la señal o dominio de tiempo\n",
    "2. Basados en la estructura de la frecuencia o dominio de la frecuencia\n",
    "3. Métodos híbridos"
   ]
  },
  {
   "cell_type": "markdown",
   "metadata": {},
   "source": [
    "### Etapas de los métodos de estimación\n",
    "1. Preprocesamiento (filtrado de la señal, división en ventanas)\n",
    "2. Buscando posibles valores para F0 (candidatos)\n",
    "3. Seguimiento: la elección de la trayectoria F0 más probable (lo cual es importante ya que en cada momento tenemos varios candidatos compitiendo simultáneamente)"
   ]
  },
  {
   "cell_type": "markdown",
   "metadata": {},
   "source": [
    "## 1. Time-domain"
   ]
  },
  {
   "cell_type": "markdown",
   "metadata": {},
   "source": [
    "Antes de aplicar los métodos del dominio del tiempo, la señal se filtra para dejar sólo las frecuencias bajas. \n",
    "\n",
    "##### Consideraciones\n",
    "\n",
    "- Se establecen los umbrales: frecuencias mínimas y máximas, por ejemplo, de 75 a 500 Hz. \n",
    "- La estimación de F0 sólo se realiza para el discurso armónico.\n",
    "- Las secciones con pausas o manchas de ruido pueden alterar los neighboring frames y conducir a errores cuando se aplica la interpolación o el suavizado. \n",
    "- La longitud del frame se elige de manera que comprenda al menos tres intervalos"
   ]
  },
  {
   "cell_type": "markdown",
   "metadata": {},
   "source": [
    "### Autocorrelations\n",
    "\n",
    "Principal algoritmo,\n",
    "\n",
    "- Se calcula la función de autocorrelación y luego se define su primer máximo que reflejará la componente de frecuencia más destacada de la señal.\n",
    "\n",
    "El problema de este algoritmo es que el primer máximo no siempre puede corresponder a la frecuencia deseada. En condiciones casi perfectas en grabaciones de alta calidad, el algoritmo es propenso a errores debido a la compleja estructura de la señal. En las condiciones cercanas a la realidad, el número de errores aumenta drásticamente. Además, en las grabaciones de baja calidad inicial y ruidosas se puede presentar la ausencia del pico deseado."
   ]
  },
  {
   "cell_type": "markdown",
   "metadata": {},
   "source": [
    "A pesar de los errores es ampliamente utilizado en muchos algoritmos, incluyendo el YIN. El nombre en sí mismo se refiere a la idea del equilibrio entre la conveniencia y la inexactitud de la autocorrelación: \"El nombre YIN de ''yin'' y ''yang'' de la filosofía oriental alude a la interacción entre la autocorrelación y la cancelación que implica\"."
   ]
  },
  {
   "cell_type": "code",
   "execution_count": null,
   "metadata": {},
   "outputs": [],
   "source": []
  },
  {
   "cell_type": "code",
   "execution_count": null,
   "metadata": {},
   "outputs": [],
   "source": []
  },
  {
   "cell_type": "code",
   "execution_count": null,
   "metadata": {},
   "outputs": [],
   "source": []
  },
  {
   "cell_type": "code",
   "execution_count": null,
   "metadata": {},
   "outputs": [],
   "source": []
  },
  {
   "cell_type": "markdown",
   "metadata": {},
   "source": [
    "#### Pitch-tracking, or how to estimate the fundamental frequency in speech, on the examples of Praat, YAAPT, and YIN algorithms"
   ]
  }
 ],
 "metadata": {
  "kernelspec": {
   "display_name": "Python 3",
   "language": "python",
   "name": "python3"
  },
  "language_info": {
   "codemirror_mode": {
    "name": "ipython",
    "version": 3
   },
   "file_extension": ".py",
   "mimetype": "text/x-python",
   "name": "python",
   "nbconvert_exporter": "python",
   "pygments_lexer": "ipython3",
   "version": "3.7.4"
  }
 },
 "nbformat": 4,
 "nbformat_minor": 2
}
