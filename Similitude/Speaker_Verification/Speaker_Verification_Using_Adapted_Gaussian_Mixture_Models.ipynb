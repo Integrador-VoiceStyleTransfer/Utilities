{
  "nbformat": 4,
  "nbformat_minor": 0,
  "metadata": {
    "colab": {
      "name": "Speaker_Verification_Using_Adapted_Gaussian_Mixture_Models.ipynb",
      "provenance": [],
      "collapsed_sections": [
        "tLSYdk1lHHO1",
        "84FP1xWmULJ-",
        "zb9DvVpmJmg_",
        "hRQcnRjNJtDz",
        "zBH8IziAJtXM",
        "ymWToQ3gJtqu",
        "fGYxUn_GGRn3",
        "SCTGgk_6MsSm",
        "KpmTTz8iMuQr",
        "3KrBIrqLMvkv"
      ],
      "toc_visible": true
    },
    "kernelspec": {
      "name": "python3",
      "display_name": "Python 3"
    }
  },
  "cells": [
    {
      "cell_type": "markdown",
      "metadata": {
        "id": "GDm2RtyiBg19",
        "colab_type": "text"
      },
      "source": [
        "# Speaker Verification Using Adapted Gaussain Mixture Models\n",
        "\n",
        "Se empleo Maximum A-Posterior (MAP) adaptation, para crear un modelo por cada speaker, usando un UBM previamente entrenado.\n"
      ]
    },
    {
      "cell_type": "markdown",
      "metadata": {
        "id": "WLpkyo-8BBON",
        "colab_type": "text"
      },
      "source": [
        "# Paper base\n",
        "Se tomo como base el siguiente articulo para realizar la adaptación\n",
        "[Speaker Verification Using Adapted Gaussian Mixture Models\n",
        "](http://citeseerx.ist.psu.edu/viewdoc/download?doi=10.1.1.117.338&rep=rep1&type=pdf)\n"
      ]
    },
    {
      "cell_type": "code",
      "metadata": {
        "id": "bXVwt2pCCK3K",
        "colab_type": "code",
        "outputId": "2091e61a-f8f2-48e3-fc76-dd609a71e745",
        "colab": {
          "base_uri": "https://localhost:8080/",
          "height": 70
        }
      },
      "source": [
        "from sklearn.mixture import GaussianMixture\n",
        "import pylab as pl\n",
        "from scipy import linalg\n",
        "import numpy as np\n",
        "import matplotlib as mpl\n",
        "from joblib import dump, load\n",
        "import pandas as pd\n",
        "import seaborn as sns\n",
        "import matplotlib.pyplot as plt"
      ],
      "execution_count": 1,
      "outputs": [
        {
          "output_type": "stream",
          "text": [
            "/usr/local/lib/python3.6/dist-packages/statsmodels/tools/_testing.py:19: FutureWarning: pandas.util.testing is deprecated. Use the functions in the public API at pandas.testing instead.\n",
            "  import pandas.util.testing as tm\n"
          ],
          "name": "stderr"
        }
      ]
    },
    {
      "cell_type": "markdown",
      "metadata": {
        "id": "j6cmVT6NHv_j",
        "colab_type": "text"
      },
      "source": [
        "# MAP ADAPTATION\n",
        "\n",
        "Solo adaptamos el vector de medias"
      ]
    },
    {
      "cell_type": "code",
      "metadata": {
        "id": "UTCKYZlsA2aS",
        "colab_type": "code",
        "colab": {}
      },
      "source": [
        "\n",
        "def map_adaptation(gmm,data,max_iterations=300,likelihood_threshold= 1e-20, relevance_factor = 16):\n",
        "    T = data.shape[0] #Número de ventanas\n",
        "    D = data.shape[1]  # Dimensiones (Número de coeficientes MFCCS)\n",
        "    M = gmm.n_components #Número de componentes\n",
        "    \n",
        "    #Parametros del UBM\n",
        "    mu_k = gmm.means_\n",
        "    cov_k = gmm.covariances_\n",
        "    pi_k = gmm.weights_\n",
        "    \n",
        "    #Inicializamos los parametros del nuevo modelo, los cuales se actualizarán usando el Algoritmo de EM\n",
        "    mu_new = np.zeros((M,D)) #Vector de medias (300,20) # cada compoenente tiene un vector de medias (1,20)\n",
        "    cov_new = np.ones((M,D))#Matriz de covarianza\n",
        "    weights_new = np.zeros((M,1))#Vector de pesos\n",
        "    \n",
        "    #Variables auxiliares\n",
        "    n_i = np.zeros((T,M)) #Vector de probabilidades por compoenentes (300,1) probabilidad de cada componente\n",
        "    \n",
        "    #Probabilidades\n",
        "    # Estas son usadas como condiciona de parada de la adaptación\n",
        "    old_likelihood = gmm.score(data)\n",
        "    new_likelihood = 0 # Ya que no se ha creado el modelo nuevo(Adaptado)\n",
        "    iterations = 0\n",
        "    # likelihood ratios (LLR) \n",
        "    while(abs(old_likelihood - new_likelihood) > likelihood_threshold and iterations < max_iterations):\n",
        "        iterations +=1\n",
        "        old_likelihood = new_likelihood # Actualizamos la probabilidad antigua, que va ser \n",
        "        \n",
        "    #1 Paso: first determine the probabilistic alignment of the training vectors into the UBM mixture components\n",
        "        \n",
        "        z_n_k = gmm.predict_proba(data) # (T,300) probabilidad de que un vector pertenezca a la componente M.\n",
        "        n_i = np.sum(z_n_k,axis=0)   # Suma de las probabilidades (300,1) de todos los tiempos en las componentes\n",
        "        \n",
        "    #2 Paso: Use Pr(i | x t ) and x t to compute the sufficient statistics for the weight, mean, and variance parameters  \n",
        "              \n",
        "        \n",
        "        for i in range(M): # Por cada componente\n",
        "            Ei = np.zeros((1,D))\n",
        "            for t in range(T): #Por cada vector t=0 ,.... T=N_Windows\n",
        "                xt=data[t,:]\n",
        "                Ei =Ei+ np.dot(z_n_k[t][i],xt)\n",
        "            #Normalizamos, dividiendo por n_i\n",
        "            mu_new[i]=(1/n_i[i])*Ei\n",
        "        #Calculamos el coeficiente de adaptación \n",
        "        adaptation_coefficient = n_i/(n_i+relevance_factor)\n",
        "    \n",
        "    #3 Paso: Calculo el nuevo valor de los parametros usando el coeficiente de adaptación\n",
        "        for i in range(M):\n",
        "            #Actualizo vector de medias\n",
        "            mu_k[i] = (adaptation_coefficient[i]*mu_new[i])+((1-adaptation_coefficient[i])*mu_k[i])\n",
        "            \n",
        "    #4 Paso: actualizo parametros del modelo a retorna\n",
        "        gmm.means_=mu_k\n",
        "        \n",
        "        \n",
        "    \n",
        "    #5 Paso: calculo las nuevas probabilidades del modelo\n",
        "        log_likelihood = gmm.score(data)\n",
        "        \n",
        "        new_likelihood = log_likelihood\n",
        "        print(log_likelihood)\n",
        "    return gmm"
      ],
      "execution_count": 0,
      "outputs": []
    },
    {
      "cell_type": "markdown",
      "metadata": {
        "id": "8oQWvFRyCZpj",
        "colab_type": "text"
      },
      "source": [
        "# Data - Train\n",
        "\n",
        "Se extraen los MFCCS de 5 audios de una duración promedio de 7 segundo.\n",
        "- Angelower p225 \n",
        "- Carlos p226\n",
        "- Gabriel p227\n",
        "- Jose p228\n",
        "- Juan p229\n",
        "- Leon p230"
      ]
    },
    {
      "cell_type": "markdown",
      "metadata": {
        "id": "v0HJmsf7F1ZA",
        "colab_type": "text"
      },
      "source": [
        "Descargamos audios procesados y el modelo"
      ]
    },
    {
      "cell_type": "code",
      "metadata": {
        "id": "VUVvrtKGt277",
        "colab_type": "code",
        "outputId": "ee95bb99-c951-4684-c336-cae098de712e",
        "colab": {
          "base_uri": "https://localhost:8080/",
          "height": 1000
        }
      },
      "source": [
        "! wget https://github.com/Integrador-VoiceStyleTransfer/Utilities/raw/master/Similitude/Speaker_Verification/MFCCS_Train/p225.hd5\n",
        "! wget https://github.com/Integrador-VoiceStyleTransfer/Utilities/raw/master/Similitude/Speaker_Verification/MFCCS_Train/p226.hd5\n",
        "! wget https://github.com/Integrador-VoiceStyleTransfer/Utilities/raw/master/Similitude/Speaker_Verification/MFCCS_Train/p227.hd5\n",
        "! wget https://github.com/Integrador-VoiceStyleTransfer/Utilities/raw/master/Similitude/Speaker_Verification/MFCCS_Train/p228.hd5\n",
        "! wget https://github.com/Integrador-VoiceStyleTransfer/Utilities/raw/master/Similitude/Speaker_Verification/MFCCS_Train/p229.hd5\n",
        "! wget https://github.com/Integrador-VoiceStyleTransfer/Utilities/raw/master/Similitude/Speaker_Verification/MFCCS_Train/p230.hd5\n"
      ],
      "execution_count": 2,
      "outputs": [
        {
          "output_type": "stream",
          "text": [
            "--2020-05-03 14:23:19--  https://github.com/Integrador-VoiceStyleTransfer/Utilities/raw/master/Similitude/Speaker_Verification/MFCCS_Train/p225.hd5\n",
            "Resolving github.com (github.com)... 140.82.114.3\n",
            "Connecting to github.com (github.com)|140.82.114.3|:443... connected.\n",
            "HTTP request sent, awaiting response... 302 Found\n",
            "Location: https://raw.githubusercontent.com/Integrador-VoiceStyleTransfer/Utilities/master/Similitude/Speaker_Verification/MFCCS_Train/p225.hd5 [following]\n",
            "--2020-05-03 14:23:19--  https://raw.githubusercontent.com/Integrador-VoiceStyleTransfer/Utilities/master/Similitude/Speaker_Verification/MFCCS_Train/p225.hd5\n",
            "Resolving raw.githubusercontent.com (raw.githubusercontent.com)... 151.101.0.133, 151.101.64.133, 151.101.128.133, ...\n",
            "Connecting to raw.githubusercontent.com (raw.githubusercontent.com)|151.101.0.133|:443... connected.\n",
            "HTTP request sent, awaiting response... 200 OK\n",
            "Length: 254064 (248K) [application/octet-stream]\n",
            "Saving to: ‘p225.hd5’\n",
            "\n",
            "p225.hd5            100%[===================>] 248.11K  --.-KB/s    in 0.05s   \n",
            "\n",
            "2020-05-03 14:23:20 (4.57 MB/s) - ‘p225.hd5’ saved [254064/254064]\n",
            "\n",
            "--2020-05-03 14:23:21--  https://github.com/Integrador-VoiceStyleTransfer/Utilities/raw/master/Similitude/Speaker_Verification/MFCCS_Train/p226.hd5\n",
            "Resolving github.com (github.com)... 140.82.113.3\n",
            "Connecting to github.com (github.com)|140.82.113.3|:443... connected.\n",
            "HTTP request sent, awaiting response... 302 Found\n",
            "Location: https://raw.githubusercontent.com/Integrador-VoiceStyleTransfer/Utilities/master/Similitude/Speaker_Verification/MFCCS_Train/p226.hd5 [following]\n",
            "--2020-05-03 14:23:21--  https://raw.githubusercontent.com/Integrador-VoiceStyleTransfer/Utilities/master/Similitude/Speaker_Verification/MFCCS_Train/p226.hd5\n",
            "Resolving raw.githubusercontent.com (raw.githubusercontent.com)... 151.101.0.133, 151.101.64.133, 151.101.128.133, ...\n",
            "Connecting to raw.githubusercontent.com (raw.githubusercontent.com)|151.101.0.133|:443... connected.\n",
            "HTTP request sent, awaiting response... 200 OK\n",
            "Length: 253096 (247K) [application/octet-stream]\n",
            "Saving to: ‘p226.hd5’\n",
            "\n",
            "p226.hd5            100%[===================>] 247.16K  --.-KB/s    in 0.05s   \n",
            "\n",
            "2020-05-03 14:23:22 (4.82 MB/s) - ‘p226.hd5’ saved [253096/253096]\n",
            "\n",
            "--2020-05-03 14:23:23--  https://github.com/Integrador-VoiceStyleTransfer/Utilities/raw/master/Similitude/Speaker_Verification/MFCCS_Train/p227.hd5\n",
            "Resolving github.com (github.com)... 140.82.114.4\n",
            "Connecting to github.com (github.com)|140.82.114.4|:443... connected.\n",
            "HTTP request sent, awaiting response... 302 Found\n",
            "Location: https://raw.githubusercontent.com/Integrador-VoiceStyleTransfer/Utilities/master/Similitude/Speaker_Verification/MFCCS_Train/p227.hd5 [following]\n",
            "--2020-05-03 14:23:23--  https://raw.githubusercontent.com/Integrador-VoiceStyleTransfer/Utilities/master/Similitude/Speaker_Verification/MFCCS_Train/p227.hd5\n",
            "Resolving raw.githubusercontent.com (raw.githubusercontent.com)... 151.101.0.133, 151.101.64.133, 151.101.128.133, ...\n",
            "Connecting to raw.githubusercontent.com (raw.githubusercontent.com)|151.101.0.133|:443... connected.\n",
            "HTTP request sent, awaiting response... 200 OK\n",
            "Length: 297448 (290K) [application/octet-stream]\n",
            "Saving to: ‘p227.hd5’\n",
            "\n",
            "p227.hd5            100%[===================>] 290.48K  --.-KB/s    in 0.05s   \n",
            "\n",
            "2020-05-03 14:23:23 (5.82 MB/s) - ‘p227.hd5’ saved [297448/297448]\n",
            "\n",
            "--2020-05-03 14:23:24--  https://github.com/Integrador-VoiceStyleTransfer/Utilities/raw/master/Similitude/Speaker_Verification/MFCCS_Train/p228.hd5\n",
            "Resolving github.com (github.com)... 140.82.114.3\n",
            "Connecting to github.com (github.com)|140.82.114.3|:443... connected.\n",
            "HTTP request sent, awaiting response... 302 Found\n",
            "Location: https://raw.githubusercontent.com/Integrador-VoiceStyleTransfer/Utilities/master/Similitude/Speaker_Verification/MFCCS_Train/p228.hd5 [following]\n",
            "--2020-05-03 14:23:24--  https://raw.githubusercontent.com/Integrador-VoiceStyleTransfer/Utilities/master/Similitude/Speaker_Verification/MFCCS_Train/p228.hd5\n",
            "Resolving raw.githubusercontent.com (raw.githubusercontent.com)... 151.101.0.133, 151.101.64.133, 151.101.128.133, ...\n",
            "Connecting to raw.githubusercontent.com (raw.githubusercontent.com)|151.101.0.133|:443... connected.\n",
            "HTTP request sent, awaiting response... 200 OK\n",
            "Length: 235056 (230K) [application/octet-stream]\n",
            "Saving to: ‘p228.hd5’\n",
            "\n",
            "p228.hd5            100%[===================>] 229.55K  --.-KB/s    in 0.05s   \n",
            "\n",
            "2020-05-03 14:23:24 (4.42 MB/s) - ‘p228.hd5’ saved [235056/235056]\n",
            "\n",
            "--2020-05-03 14:23:25--  https://github.com/Integrador-VoiceStyleTransfer/Utilities/raw/master/Similitude/Speaker_Verification/MFCCS_Train/p229.hd5\n",
            "Resolving github.com (github.com)... 140.82.114.4\n",
            "Connecting to github.com (github.com)|140.82.114.4|:443... connected.\n",
            "HTTP request sent, awaiting response... 302 Found\n",
            "Location: https://raw.githubusercontent.com/Integrador-VoiceStyleTransfer/Utilities/master/Similitude/Speaker_Verification/MFCCS_Train/p229.hd5 [following]\n",
            "--2020-05-03 14:23:26--  https://raw.githubusercontent.com/Integrador-VoiceStyleTransfer/Utilities/master/Similitude/Speaker_Verification/MFCCS_Train/p229.hd5\n",
            "Resolving raw.githubusercontent.com (raw.githubusercontent.com)... 151.101.0.133, 151.101.64.133, 151.101.128.133, ...\n",
            "Connecting to raw.githubusercontent.com (raw.githubusercontent.com)|151.101.0.133|:443... connected.\n",
            "HTTP request sent, awaiting response... 200 OK\n",
            "Length: 305104 (298K) [application/octet-stream]\n",
            "Saving to: ‘p229.hd5’\n",
            "\n",
            "p229.hd5            100%[===================>] 297.95K  --.-KB/s    in 0.06s   \n",
            "\n",
            "2020-05-03 14:23:26 (4.96 MB/s) - ‘p229.hd5’ saved [305104/305104]\n",
            "\n",
            "--2020-05-03 14:23:27--  https://github.com/Integrador-VoiceStyleTransfer/Utilities/raw/master/Similitude/Speaker_Verification/MFCCS_Train/p230.hd5\n",
            "Resolving github.com (github.com)... 140.82.114.4\n",
            "Connecting to github.com (github.com)|140.82.114.4|:443... connected.\n",
            "HTTP request sent, awaiting response... 302 Found\n",
            "Location: https://raw.githubusercontent.com/Integrador-VoiceStyleTransfer/Utilities/master/Similitude/Speaker_Verification/MFCCS_Train/p230.hd5 [following]\n",
            "--2020-05-03 14:23:27--  https://raw.githubusercontent.com/Integrador-VoiceStyleTransfer/Utilities/master/Similitude/Speaker_Verification/MFCCS_Train/p230.hd5\n",
            "Resolving raw.githubusercontent.com (raw.githubusercontent.com)... 151.101.0.133, 151.101.64.133, 151.101.128.133, ...\n",
            "Connecting to raw.githubusercontent.com (raw.githubusercontent.com)|151.101.0.133|:443... connected.\n",
            "HTTP request sent, awaiting response... 200 OK\n",
            "Length: 341712 (334K) [application/octet-stream]\n",
            "Saving to: ‘p230.hd5’\n",
            "\n",
            "p230.hd5            100%[===================>] 333.70K  --.-KB/s    in 0.06s   \n",
            "\n",
            "2020-05-03 14:23:27 (5.23 MB/s) - ‘p230.hd5’ saved [341712/341712]\n",
            "\n"
          ],
          "name": "stdout"
        }
      ]
    },
    {
      "cell_type": "code",
      "metadata": {
        "id": "WUAm6ITFCU4j",
        "colab_type": "code",
        "colab": {}
      },
      "source": [
        "PATH_MFCS ='.'\n",
        "speakers = [225,226,227,228,229,230]\n",
        "audios_jose = pd.read_hdf(PATH_MFCS+'/p'+'228'+'.hd5').values\n",
        "audios_leo = pd.read_hdf(PATH_MFCS+'/p'+'230'+'.hd5').values\n",
        "audios_angelower = pd.read_hdf(PATH_MFCS+'/p'+'225'+'.hd5').values\n",
        "audios_gabriel = pd.read_hdf(PATH_MFCS+'/p'+'227'+'.hd5').values\n",
        "audios_juan=pd.read_hdf(PATH_MFCS+'/p'+'229'+'.hd5').values\n",
        "audios_carlos= pd.read_hdf(PATH_MFCS+'/p'+'226'+'.hd5').values"
      ],
      "execution_count": 0,
      "outputs": []
    },
    {
      "cell_type": "code",
      "metadata": {
        "id": "7dIKyseFGcvp",
        "colab_type": "code",
        "outputId": "648dadf1-f435-4876-c09f-06b898ecc561",
        "colab": {
          "base_uri": "https://localhost:8080/",
          "height": 34
        }
      },
      "source": [
        "audios_jose.shape"
      ],
      "execution_count": 5,
      "outputs": [
        {
          "output_type": "execute_result",
          "data": {
            "text/plain": [
              "(2588, 20)"
            ]
          },
          "metadata": {
            "tags": []
          },
          "execution_count": 5
        }
      ]
    },
    {
      "cell_type": "code",
      "metadata": {
        "id": "FU0_4fzQJ4-U",
        "colab_type": "code",
        "outputId": "8e4bc725-7644-40c0-94ec-0ea00fab4f35",
        "colab": {
          "base_uri": "https://localhost:8080/",
          "height": 235
        }
      },
      "source": [
        "audios_jose"
      ],
      "execution_count": 6,
      "outputs": [
        {
          "output_type": "execute_result",
          "data": {
            "text/plain": [
              "array([[-2.7393596 , -2.5081096 , -0.44896305, ...,  0.7683952 ,\n",
              "         1.9994147 ,  0.5807953 ],\n",
              "       [-2.7393596 , -2.5081096 , -0.44896305, ...,  0.7683952 ,\n",
              "         1.9994147 ,  0.5807953 ],\n",
              "       [-2.7393596 , -2.5081096 , -0.44896305, ...,  0.7683952 ,\n",
              "         1.9994147 ,  0.5807953 ],\n",
              "       ...,\n",
              "       [-1.7533679 , -0.6422811 ,  0.39061013, ...,  0.9090461 ,\n",
              "         2.3826962 ,  0.24748895],\n",
              "       [-2.7354023 , -2.1605017 , -0.02764809, ...,  0.6675646 ,\n",
              "         1.8938946 ,  0.44412825],\n",
              "       [-2.887313  , -2.508196  , -0.44910568, ...,  0.7679374 ,\n",
              "         1.9990138 ,  0.5803384 ]], dtype=float32)"
            ]
          },
          "metadata": {
            "tags": []
          },
          "execution_count": 6
        }
      ]
    },
    {
      "cell_type": "markdown",
      "metadata": {
        "id": "d0sUWu0PIMPl",
        "colab_type": "text"
      },
      "source": [
        "## **Download UBM Model**"
      ]
    },
    {
      "cell_type": "code",
      "metadata": {
        "id": "xZqwdZdHHBf0",
        "colab_type": "code",
        "outputId": "b72945a4-1682-4e64-a85a-d3bca0cd1cb5",
        "colab": {
          "base_uri": "https://localhost:8080/",
          "height": 306
        }
      },
      "source": [
        "! wget https://github.com/Integrador-VoiceStyleTransfer/Utilities/raw/master/Similitude/Speaker_Verification/GMM_300_NC.joblib"
      ],
      "execution_count": 7,
      "outputs": [
        {
          "output_type": "stream",
          "text": [
            "--2020-05-03 14:24:52--  https://github.com/Integrador-VoiceStyleTransfer/Utilities/raw/master/Similitude/Speaker_Verification/GMM_300_NC.joblib\n",
            "Resolving github.com (github.com)... 140.82.112.4\n",
            "Connecting to github.com (github.com)|140.82.112.4|:443... connected.\n",
            "HTTP request sent, awaiting response... 302 Found\n",
            "Location: https://raw.githubusercontent.com/Integrador-VoiceStyleTransfer/Utilities/master/Similitude/Speaker_Verification/GMM_300_NC.joblib [following]\n",
            "--2020-05-03 14:24:53--  https://raw.githubusercontent.com/Integrador-VoiceStyleTransfer/Utilities/master/Similitude/Speaker_Verification/GMM_300_NC.joblib\n",
            "Resolving raw.githubusercontent.com (raw.githubusercontent.com)... 151.101.0.133, 151.101.64.133, 151.101.128.133, ...\n",
            "Connecting to raw.githubusercontent.com (raw.githubusercontent.com)|151.101.0.133|:443... connected.\n",
            "HTTP request sent, awaiting response... 200 OK\n",
            "Length: 195363 (191K) [application/octet-stream]\n",
            "Saving to: ‘GMM_300_NC.joblib’\n",
            "\n",
            "GMM_300_NC.joblib   100%[===================>] 190.78K  --.-KB/s    in 0.05s   \n",
            "\n",
            "2020-05-03 14:24:53 (3.76 MB/s) - ‘GMM_300_NC.joblib’ saved [195363/195363]\n",
            "\n"
          ],
          "name": "stdout"
        }
      ]
    },
    {
      "cell_type": "markdown",
      "metadata": {
        "id": "keDJvJCLGtjZ",
        "colab_type": "text"
      },
      "source": [
        "# **Load UBM Model**\n",
        "GMM de 300 componentes, entrado con 20 speakers, cada uno con un promedio de 350 audios."
      ]
    },
    {
      "cell_type": "code",
      "metadata": {
        "id": "N3nR2aycGrsu",
        "colab_type": "code",
        "outputId": "9ee779c4-212c-43ea-dda8-fa2b899b3219",
        "colab": {
          "base_uri": "https://localhost:8080/",
          "height": 104
        }
      },
      "source": [
        "gmm_UBM = load('GMM_300_NC.joblib')"
      ],
      "execution_count": 8,
      "outputs": [
        {
          "output_type": "stream",
          "text": [
            "/usr/local/lib/python3.6/dist-packages/sklearn/utils/deprecation.py:144: FutureWarning: The sklearn.mixture.gaussian_mixture module is  deprecated in version 0.22 and will be removed in version 0.24. The corresponding classes / functions should instead be imported from sklearn.mixture. Anything that cannot be imported from sklearn.mixture is now part of the private API.\n",
            "  warnings.warn(message, FutureWarning)\n",
            "/usr/local/lib/python3.6/dist-packages/sklearn/base.py:318: UserWarning: Trying to unpickle estimator GaussianMixture from version 0.21.2 when using version 0.22.2.post1. This might lead to breaking code or invalid results. Use at your own risk.\n",
            "  UserWarning)\n"
          ],
          "name": "stderr"
        }
      ]
    },
    {
      "cell_type": "code",
      "metadata": {
        "id": "Q5GuxksWG9Re",
        "colab_type": "code",
        "outputId": "7f29987f-f7fd-44f9-8949-caf3fb383015",
        "colab": {
          "base_uri": "https://localhost:8080/",
          "height": 101
        }
      },
      "source": [
        "gmm_UBM"
      ],
      "execution_count": 9,
      "outputs": [
        {
          "output_type": "execute_result",
          "data": {
            "text/plain": [
              "GaussianMixture(covariance_type='diag', init_params='kmeans', max_iter=15,\n",
              "                means_init=None, n_components=300, n_init=1,\n",
              "                precisions_init=None, random_state=None, reg_covar=1e-06,\n",
              "                tol=0.001, verbose=1, verbose_interval=1, warm_start=False,\n",
              "                weights_init=None)"
            ]
          },
          "metadata": {
            "tags": []
          },
          "execution_count": 9
        }
      ]
    },
    {
      "cell_type": "code",
      "metadata": {
        "id": "QApb5GPzzk0t",
        "colab_type": "code",
        "outputId": "128c783f-7a42-407b-d1f8-7c0d7301cb7f",
        "colab": {
          "base_uri": "https://localhost:8080/",
          "height": 34
        }
      },
      "source": [
        "gmm_UBM.weights_.shape"
      ],
      "execution_count": 10,
      "outputs": [
        {
          "output_type": "execute_result",
          "data": {
            "text/plain": [
              "(300,)"
            ]
          },
          "metadata": {
            "tags": []
          },
          "execution_count": 10
        }
      ]
    },
    {
      "cell_type": "code",
      "metadata": {
        "id": "hVtfYDkmHDXu",
        "colab_type": "code",
        "outputId": "7be32246-d255-4a9f-8f25-8346fcf49f9d",
        "colab": {
          "base_uri": "https://localhost:8080/",
          "height": 34
        }
      },
      "source": [
        "gmm_UBM.means_.shape"
      ],
      "execution_count": 11,
      "outputs": [
        {
          "output_type": "execute_result",
          "data": {
            "text/plain": [
              "(300, 20)"
            ]
          },
          "metadata": {
            "tags": []
          },
          "execution_count": 11
        }
      ]
    },
    {
      "cell_type": "code",
      "metadata": {
        "id": "q2bK5UlpHEco",
        "colab_type": "code",
        "outputId": "9d3189f8-1536-464e-a2ba-afab7dddfa2c",
        "colab": {
          "base_uri": "https://localhost:8080/",
          "height": 34
        }
      },
      "source": [
        "gmm_UBM.covariances_.shape"
      ],
      "execution_count": 12,
      "outputs": [
        {
          "output_type": "execute_result",
          "data": {
            "text/plain": [
              "(300, 20)"
            ]
          },
          "metadata": {
            "tags": []
          },
          "execution_count": 12
        }
      ]
    },
    {
      "cell_type": "markdown",
      "metadata": {
        "id": "tLSYdk1lHHO1",
        "colab_type": "text"
      },
      "source": [
        "# Adaptation of Speaker Model\n",
        "\n",
        "Bayesian learning or maximum a posteriori (MAP) estimation\n",
        "\n"
      ]
    },
    {
      "cell_type": "markdown",
      "metadata": {
        "id": "6DTDoqwMIb2z",
        "colab_type": "text"
      },
      "source": [
        "\n",
        "**NOTA:** Cada vez que se ejecute la función ***map_adaptation***, se debe cargar nuevamente el UBM, es decir ejecutar la siguiente linea de código\n",
        "\n",
        "```\n",
        "gmm_UBM = load('GMM_300_NC.joblib')\n",
        "\n",
        "```\n",
        "\n"
      ]
    },
    {
      "cell_type": "markdown",
      "metadata": {
        "id": "84FP1xWmULJ-",
        "colab_type": "text"
      },
      "source": [
        "## Juan ADAPTATION"
      ]
    },
    {
      "cell_type": "code",
      "metadata": {
        "id": "SohyBk72Jzb_",
        "colab_type": "code",
        "outputId": "f19f0065-0cad-482f-a5d0-7e49401e043b",
        "colab": {
          "base_uri": "https://localhost:8080/",
          "height": 74
        }
      },
      "source": [
        "gmm_UBM = load('GMM_300_NC.joblib')"
      ],
      "execution_count": 0,
      "outputs": [
        {
          "output_type": "stream",
          "text": [
            "/usr/local/lib/python3.6/dist-packages/sklearn/base.py:318: UserWarning: Trying to unpickle estimator GaussianMixture from version 0.21.2 when using version 0.22.2.post1. This might lead to breaking code or invalid results. Use at your own risk.\n",
            "  UserWarning)\n"
          ],
          "name": "stderr"
        }
      ]
    },
    {
      "cell_type": "code",
      "metadata": {
        "id": "u3quDcXctHzB",
        "colab_type": "code",
        "outputId": "6192cc87-6293-4473-e2a9-b70805e404a2",
        "colab": {
          "base_uri": "https://localhost:8080/",
          "height": 1000
        }
      },
      "source": [
        "gmm_juan = map_adaptation(gmm_UBM,audios_juan)"
      ],
      "execution_count": 0,
      "outputs": [
        {
          "output_type": "stream",
          "text": [
            "-21.746138562293318\n",
            "-19.886523703460995\n",
            "-19.064523291423864\n",
            "-18.672829414972213\n",
            "-18.423923114593514\n",
            "-18.236588331658016\n",
            "-18.095272591386404\n",
            "-17.985907242325045\n",
            "-17.882880538976863\n",
            "-17.74041587971368\n",
            "-17.57040836809307\n",
            "-17.42887672379994\n",
            "-17.331650090691078\n",
            "-17.259767516657814\n",
            "-17.204351139357474\n",
            "-17.15870527736514\n",
            "-17.119402356738494\n",
            "-17.085339013913387\n",
            "-17.05536836184625\n",
            "-17.029420816065468\n",
            "-17.00673491304727\n",
            "-16.985315023198236\n",
            "-16.964248206448183\n",
            "-16.943206886024246\n",
            "-16.92236322554037\n",
            "-16.904649186551215\n",
            "-16.890034452002016\n",
            "-16.877136588524856\n",
            "-16.865145744661763\n",
            "-16.85348330213672\n",
            "-16.84208630870945\n",
            "-16.83136331352349\n",
            "-16.822176117004098\n",
            "-16.81447173800093\n",
            "-16.807508606025465\n",
            "-16.801032193336635\n",
            "-16.794985599458734\n",
            "-16.789263039426523\n",
            "-16.783615580735912\n",
            "-16.77767909450113\n",
            "-16.77148665494679\n",
            "-16.765197487362418\n",
            "-16.758615822928174\n",
            "-16.751596696542617\n",
            "-16.74392055344813\n",
            "-16.735660732918287\n",
            "-16.726697190080074\n",
            "-16.716227632288348\n",
            "-16.703094661264775\n",
            "-16.68666694505031\n",
            "-16.66330628486393\n",
            "-16.640287155754876\n",
            "-16.6248537703242\n",
            "-16.613924925607613\n",
            "-16.604198622949465\n",
            "-16.595012999162556\n",
            "-16.588063848238196\n",
            "-16.583078312785393\n",
            "-16.57900088953593\n",
            "-16.57533112834648\n",
            "-16.572003207634904\n",
            "-16.568954316504993\n",
            "-16.5661205318393\n",
            "-16.563491352833598\n",
            "-16.561049637047347\n",
            "-16.558725045756702\n",
            "-16.556455113351877\n",
            "-16.55422936972671\n",
            "-16.55201918302488\n",
            "-16.5497054714312\n",
            "-16.54707770101365\n",
            "-16.544029883554412\n",
            "-16.540746851517387\n",
            "-16.537366067663775\n",
            "-16.53441096746576\n",
            "-16.531989165174775\n",
            "-16.529751148470602\n",
            "-16.527473696172446\n",
            "-16.525105663549194\n",
            "-16.522668833233528\n",
            "-16.52018181245868\n",
            "-16.517708103890364\n",
            "-16.515388530288195\n",
            "-16.513286794350385\n",
            "-16.511342767016917\n",
            "-16.509446132108067\n",
            "-16.50746860654453\n",
            "-16.50530395985304\n",
            "-16.50295794148452\n",
            "-16.500552488385022\n",
            "-16.498260116211867\n",
            "-16.49627916927242\n",
            "-16.494647963156076\n",
            "-16.493259690282997\n",
            "-16.491963601823144\n",
            "-16.49060790467571\n",
            "-16.48911867766981\n",
            "-16.487504452452605\n",
            "-16.48575018290604\n",
            "-16.48389941242399\n",
            "-16.482098114238028\n",
            "-16.48049581756104\n",
            "-16.47916191698417\n",
            "-16.47807009873699\n",
            "-16.47714938479695\n",
            "-16.476324463224763\n",
            "-16.475521568353894\n",
            "-16.47464560025856\n",
            "-16.47353044345115\n",
            "-16.4720461358798\n",
            "-16.470439570183082\n",
            "-16.468869744933222\n",
            "-16.46725375685854\n",
            "-16.46548768880529\n",
            "-16.463709280365716\n",
            "-16.46205871045936\n",
            "-16.46053868922562\n",
            "-16.4591690834764\n",
            "-16.457927537003933\n",
            "-16.456716757672947\n",
            "-16.455414496302655\n",
            "-16.45400202267396\n",
            "-16.45265477744072\n",
            "-16.45148085014001\n",
            "-16.450400106828614\n",
            "-16.449338621366568\n",
            "-16.448326954106527\n",
            "-16.447398013441944\n",
            "-16.446543463899907\n",
            "-16.445753302661814\n",
            "-16.445023443771895\n",
            "-16.44435538541133\n",
            "-16.443751409856045\n",
            "-16.443205727217684\n",
            "-16.442704067968133\n",
            "-16.442233551130542\n",
            "-16.44178886130627\n",
            "-16.44136977213653\n",
            "-16.44097696732431\n",
            "-16.440610275831187\n",
            "-16.440268306630834\n",
            "-16.439948506398977\n",
            "-16.439647462244903\n",
            "-16.439361272840607\n",
            "-16.439085749749783\n",
            "-16.438816286415243\n",
            "-16.438547293704264\n",
            "-16.43827084007713\n",
            "-16.437971966374022\n",
            "-16.437604751129786\n",
            "-16.43696731926209\n",
            "-16.435513845745707\n",
            "-16.433585989081095\n",
            "-16.431938114788426\n",
            "-16.430559837535437\n",
            "-16.429368677607787\n",
            "-16.428290246464123\n",
            "-16.42722975055089\n",
            "-16.42602620134084\n",
            "-16.424509330324273\n",
            "-16.422571787643008\n",
            "-16.420553516462682\n",
            "-16.41881957927813\n",
            "-16.41691597649363\n",
            "-16.414567017730175\n",
            "-16.412909841969416\n",
            "-16.411765459730663\n",
            "-16.410774769799396\n",
            "-16.40976384446663\n",
            "-16.408685662163997\n",
            "-16.407618847640915\n",
            "-16.406655181426956\n",
            "-16.405804972705187\n",
            "-16.4050208958979\n",
            "-16.404245445043436\n",
            "-16.403435329149982\n",
            "-16.402540296848784\n",
            "-16.40146603191078\n",
            "-16.400130251541498\n",
            "-16.398581409065304\n",
            "-16.396920893487103\n",
            "-16.395269572734787\n",
            "-16.39376075665968\n",
            "-16.392471414204678\n",
            "-16.391418753881286\n",
            "-16.390562570860514\n",
            "-16.389847901769492\n",
            "-16.38924218234866\n",
            "-16.3887215190372\n",
            "-16.38827491010079\n",
            "-16.387900552078705\n",
            "-16.387586991257937\n",
            "-16.387312550685827\n",
            "-16.387060919872113\n",
            "-16.38683269791847\n",
            "-16.386636424919903\n",
            "-16.386471954193986\n",
            "-16.38633089407701\n",
            "-16.386203704673854\n",
            "-16.386082170836108\n",
            "-16.38595894866315\n",
            "-16.38582685079453\n",
            "-16.385679866487788\n",
            "-16.385517632877836\n",
            "-16.38534956116183\n",
            "-16.385188805283157\n",
            "-16.38504027674822\n",
            "-16.38489792123075\n",
            "-16.384749684888266\n",
            "-16.384582218819236\n",
            "-16.384385088903656\n",
            "-16.384156520499964\n",
            "-16.383907607937182\n",
            "-16.38365818114395\n",
            "-16.38342633220437\n",
            "-16.383221737370516\n",
            "-16.38304610134126\n",
            "-16.38289687644911\n",
            "-16.382770046668217\n",
            "-16.382660801217515\n",
            "-16.38256338652019\n",
            "-16.38247123718917\n",
            "-16.382377313309107\n",
            "-16.38227434307812\n",
            "-16.382155235770433\n",
            "-16.382014712708102\n",
            "-16.381852901583603\n",
            "-16.381676523928913\n",
            "-16.381491668488167\n",
            "-16.38129764982122\n",
            "-16.381094417595996\n",
            "-16.38089438925109\n",
            "-16.380716695925738\n",
            "-16.38056944247751\n",
            "-16.380445709582983\n",
            "-16.38033017182598\n",
            "-16.38020403214397\n",
            "-16.38004714643257\n",
            "-16.379842212426926\n",
            "-16.37958298373077\n",
            "-16.379275725252896\n",
            "-16.378924770560634\n",
            "-16.3785176033348\n",
            "-16.37802991822967\n",
            "-16.377449309367716\n",
            "-16.376761251530425\n",
            "-16.37589034008698\n",
            "-16.37477946837486\n",
            "-16.373595714749342\n",
            "-16.372551501975376\n",
            "-16.371717670376352\n",
            "-16.371104843176074\n",
            "-16.370687719745266\n",
            "-16.370410560091617\n",
            "-16.37021847946432\n",
            "-16.370073863778227\n",
            "-16.369954953939672\n",
            "-16.36985004279007\n",
            "-16.369752984654344\n",
            "-16.36966065548485\n",
            "-16.369571718509675\n",
            "-16.36948597327456\n",
            "-16.36940374997717\n",
            "-16.369325156662324\n",
            "-16.369249374864978\n",
            "-16.36917428678149\n",
            "-16.36909642608812\n",
            "-16.36901093575585\n",
            "-16.36891115879117\n",
            "-16.36878774801643\n",
            "-16.36862853506589\n",
            "-16.368424911252664\n",
            "-16.36819039943395\n",
            "-16.36796453121312\n",
            "-16.367777373690615\n",
            "-16.367632389075478\n",
            "-16.367520497228618\n",
            "-16.36743070562295\n",
            "-16.367352994783072\n",
            "-16.367278664090712\n",
            "-16.367200075755694\n",
            "-16.36711010139722\n",
            "-16.367000987109105\n",
            "-16.36686227033363\n",
            "-16.36667980793059\n",
            "-16.366443757623596\n",
            "-16.36616074159415\n",
            "-16.365831467519538\n",
            "-16.365412802810095\n",
            "-16.364854040972673\n",
            "-16.36423732633349\n",
            "-16.36369970282417\n",
            "-16.36324660639862\n",
            "-16.362808605729033\n",
            "-16.36236490261503\n",
            "-16.361999353366095\n",
            "-16.36175074412223\n",
            "-16.361584691009224\n",
            "-16.361464347003544\n",
            "-16.361366778218258\n"
          ],
          "name": "stdout"
        }
      ]
    },
    {
      "cell_type": "code",
      "metadata": {
        "id": "Ehp9-PJluzW5",
        "colab_type": "code",
        "outputId": "dc5a84dd-96b6-4849-d2da-0f8ca233f2d7",
        "colab": {
          "base_uri": "https://localhost:8080/",
          "height": 35
        }
      },
      "source": [
        "name_model = 'GMM_Juan'\n",
        "dump(gmm_juan, name_model+'.joblib')"
      ],
      "execution_count": 0,
      "outputs": [
        {
          "output_type": "execute_result",
          "data": {
            "text/plain": [
              "['GMM_Juan.joblib']"
            ]
          },
          "metadata": {
            "tags": []
          },
          "execution_count": 22
        }
      ]
    },
    {
      "cell_type": "markdown",
      "metadata": {
        "id": "zb9DvVpmJmg_",
        "colab_type": "text"
      },
      "source": [
        "## Jose ADAPTATION"
      ]
    },
    {
      "cell_type": "code",
      "metadata": {
        "id": "liKvuuJEJ1Q2",
        "colab_type": "code",
        "outputId": "cf0f57de-f37c-4cb5-fb00-d2deb380fcd3",
        "colab": {
          "base_uri": "https://localhost:8080/",
          "height": 74
        }
      },
      "source": [
        "gmm_UBM = load('GMM_300_NC.joblib')"
      ],
      "execution_count": 0,
      "outputs": [
        {
          "output_type": "stream",
          "text": [
            "/usr/local/lib/python3.6/dist-packages/sklearn/base.py:318: UserWarning: Trying to unpickle estimator GaussianMixture from version 0.21.2 when using version 0.22.2.post1. This might lead to breaking code or invalid results. Use at your own risk.\n",
            "  UserWarning)\n"
          ],
          "name": "stderr"
        }
      ]
    },
    {
      "cell_type": "code",
      "metadata": {
        "id": "MQ-HzEabHezY",
        "colab_type": "code",
        "outputId": "c163b697-3230-4543-a382-3a8bd53ec061",
        "colab": {
          "base_uri": "https://localhost:8080/",
          "height": 1000
        }
      },
      "source": [
        "gmm_jose = map_adaptation(gmm_UBM,audios_jose)"
      ],
      "execution_count": 0,
      "outputs": [
        {
          "output_type": "stream",
          "text": [
            "-26.723794640578415\n",
            "-25.421786014137027\n",
            "-24.69786030983258\n",
            "-24.233408758182176\n",
            "-23.886423164451898\n",
            "-23.61354416991685\n",
            "-23.41905639321985\n",
            "-23.272081571264067\n",
            "-23.1519011711468\n",
            "-23.05498313015803\n",
            "-22.973632283566968\n",
            "-22.90420714058376\n",
            "-22.841842366201718\n",
            "-22.782361151267555\n",
            "-22.722760811473304\n",
            "-22.65943883419617\n",
            "-22.59364892759307\n",
            "-22.527461878704322\n",
            "-22.459107392730978\n",
            "-22.385642265592853\n",
            "-22.31866081031613\n",
            "-22.264177042285187\n",
            "-22.213747123269226\n",
            "-22.169833249502254\n",
            "-22.134591437873727\n",
            "-22.1061393695364\n",
            "-22.083064024092145\n",
            "-22.063215961473595\n",
            "-22.04536225616591\n",
            "-22.030362454957892\n",
            "-22.018214949655096\n",
            "-22.007766836527562\n",
            "-21.997825177718408\n",
            "-21.987784556611864\n",
            "-21.97729851926823\n",
            "-21.966436223940487\n",
            "-21.955243615538794\n",
            "-21.94381800096719\n",
            "-21.933039409689464\n",
            "-21.92367725938591\n",
            "-21.91572175465232\n",
            "-21.908318042807455\n",
            "-21.900577571115\n",
            "-21.89204192702105\n",
            "-21.882446005246937\n",
            "-21.871932000678477\n",
            "-21.86119298644911\n",
            "-21.85037113063924\n",
            "-21.83963791960399\n",
            "-21.829414864704283\n",
            "-21.819436165330742\n",
            "-21.808903377786706\n",
            "-21.79758051055131\n",
            "-21.786826444356432\n",
            "-21.777020233721743\n",
            "-21.76815278166741\n",
            "-21.75980468482108\n",
            "-21.751489277699964\n",
            "-21.743229257165712\n",
            "-21.735452973224948\n",
            "-21.728648905306787\n",
            "-21.722915189392346\n",
            "-21.71805210466268\n",
            "-21.713786165557146\n",
            "-21.709769021507825\n",
            "-21.705720310867584\n",
            "-21.70181654217667\n",
            "-21.69834049323292\n",
            "-21.695156403969886\n",
            "-21.691973694821733\n",
            "-21.688561214396234\n",
            "-21.68496474353452\n",
            "-21.68118349669037\n",
            "-21.6766622728992\n",
            "-21.670290890312707\n",
            "-21.661189679348972\n",
            "-21.649568438292423\n",
            "-21.637945677528574\n",
            "-21.629052808613434\n",
            "-21.622400317054048\n",
            "-21.616653124482664\n",
            "-21.610762997920865\n",
            "-21.60507928721554\n",
            "-21.600554863693077\n",
            "-21.597042136577024\n",
            "-21.59406307320264\n",
            "-21.591173296538457\n",
            "-21.587930084163222\n",
            "-21.58391426001692\n",
            "-21.579201016861717\n",
            "-21.57461866426936\n",
            "-21.570831594853985\n",
            "-21.567861516682797\n",
            "-21.56551593032694\n",
            "-21.5634704489121\n",
            "-21.561373948404004\n",
            "-21.559133125536516\n",
            "-21.55702120210597\n",
            "-21.555157513857733\n",
            "-21.5534964810343\n",
            "-21.551951925878218\n",
            "-21.5503943057131\n",
            "-21.548705366834763\n",
            "-21.546943509668427\n",
            "-21.545314487959185\n",
            "-21.543877995687843\n",
            "-21.542582090468642\n",
            "-21.54133310340404\n",
            "-21.53999088661981\n",
            "-21.53835173132787\n",
            "-21.536194444545107\n",
            "-21.533469703997863\n",
            "-21.53034877959987\n",
            "-21.527193722726178\n",
            "-21.524305952706584\n",
            "-21.52170272973612\n",
            "-21.51944647289644\n",
            "-21.51762917484749\n",
            "-21.516189799135276\n",
            "-21.514967440221657\n",
            "-21.513873505551523\n",
            "-21.51286499413259\n",
            "-21.51187125748897\n",
            "-21.51075384369998\n",
            "-21.50930320379846\n",
            "-21.50737845548912\n",
            "-21.5050800386472\n",
            "-21.50254095938663\n",
            "-21.499777051936032\n",
            "-21.496846781430488\n",
            "-21.494023271783124\n",
            "-21.49156176430074\n",
            "-21.489507475914255\n",
            "-21.48777340776797\n",
            "-21.486247179401417\n",
            "-21.484894045051117\n",
            "-21.483703166857456\n",
            "-21.482640937390862\n",
            "-21.481680811898237\n",
            "-21.480807450588685\n",
            "-21.479996097752508\n",
            "-21.47920786246612\n",
            "-21.478402032050393\n",
            "-21.47755603703126\n",
            "-21.47668460752821\n",
            "-21.475838309899142\n",
            "-21.475073291641145\n",
            "-21.474414341157985\n",
            "-21.473843724739428\n",
            "-21.473318069072324\n",
            "-21.472790871988288\n",
            "-21.47223021691553\n",
            "-21.471622299669683\n",
            "-21.47095459239245\n",
            "-21.470197104187715\n",
            "-21.469304069781046\n",
            "-21.468287585231405\n",
            "-21.467297599074875\n",
            "-21.466420578135686\n",
            "-21.46561174186674\n",
            "-21.464828424578\n",
            "-21.464064399314122\n",
            "-21.463310289984285\n",
            "-21.462529806957825\n",
            "-21.461676589996586\n",
            "-21.460712484848013\n",
            "-21.459588404383904\n",
            "-21.45821321003932\n",
            "-21.45650844816604\n",
            "-21.45442016957833\n",
            "-21.451875639486435\n",
            "-21.449094850615445\n",
            "-21.446525351741183\n",
            "-21.444301950652154\n",
            "-21.442294342199812\n",
            "-21.440533831727798\n",
            "-21.439152945537433\n",
            "-21.438077971844\n",
            "-21.437126662528936\n",
            "-21.436169593506577\n",
            "-21.435169211796556\n",
            "-21.43413267685804\n",
            "-21.43300320793044\n",
            "-21.431615423024503\n",
            "-21.429939340204907\n",
            "-21.42820951158022\n",
            "-21.426412575570208\n",
            "-21.42423784473508\n",
            "-21.42137991164291\n",
            "-21.418121463442706\n",
            "-21.414767134221545\n",
            "-21.41149379730283\n",
            "-21.408718535838435\n",
            "-21.40638627834896\n",
            "-21.40439927475494\n",
            "-21.40267131367126\n",
            "-21.40114402569575\n",
            "-21.39986474112986\n",
            "-21.39887211277637\n",
            "-21.398105774687167\n",
            "-21.39749234933522\n",
            "-21.396984939441076\n",
            "-21.39655445982161\n",
            "-21.396179456189373\n",
            "-21.39584155603399\n",
            "-21.395523612085167\n",
            "-21.395208220719457\n",
            "-21.39487508250215\n",
            "-21.394494597236342\n",
            "-21.394010694453677\n",
            "-21.393296102474054\n",
            "-21.39213582011344\n",
            "-21.390617544143375\n",
            "-21.389126014542303\n",
            "-21.387780604213237\n",
            "-21.386549821468435\n",
            "-21.385344281411275\n",
            "-21.384144905271338\n",
            "-21.383053632117537\n",
            "-21.382114507335686\n",
            "-21.381282712451288\n",
            "-21.380497839798085\n",
            "-21.37969944403306\n",
            "-21.378819347299316\n",
            "-21.377776651013654\n",
            "-21.376555223536407\n",
            "-21.37528431230394\n",
            "-21.37409404888524\n",
            "-21.373013016565267\n",
            "-21.372009080019552\n",
            "-21.37103029385791\n",
            "-21.370006785011093\n",
            "-21.368832310607743\n",
            "-21.36733019780602\n",
            "-21.36534793178355\n",
            "-21.363226904387673\n",
            "-21.361394508045386\n",
            "-21.359819658015432\n",
            "-21.358338834944842\n",
            "-21.356880671051037\n",
            "-21.35552230748917\n",
            "-21.35431819710617\n",
            "-21.353222474317462\n",
            "-21.35214943399853\n",
            "-21.351056322009182\n",
            "-21.350015738659508\n",
            "-21.349089007943228\n",
            "-21.348269163439024\n",
            "-21.34753444202577\n",
            "-21.346863732534516\n",
            "-21.34622869761868\n",
            "-21.345596760642117\n",
            "-21.344947906409647\n",
            "-21.34427094235554\n",
            "-21.343531244149453\n",
            "-21.342681201607046\n",
            "-21.341740867033398\n",
            "-21.34084232749543\n",
            "-21.340108142573854\n",
            "-21.339543996617774\n",
            "-21.33908831953322\n",
            "-21.338680787625748\n",
            "-21.338285905668428\n",
            "-21.337892341252804\n",
            "-21.337500086867784\n",
            "-21.337107979253123\n",
            "-21.336714747309113\n",
            "-21.336325012974868\n",
            "-21.33594834066737\n",
            "-21.335593621888794\n",
            "-21.335263830901322\n",
            "-21.334952824938593\n",
            "-21.33464667877162\n",
            "-21.33433205290967\n",
            "-21.33401148004866\n",
            "-21.33370839902831\n",
            "-21.333443235686065\n",
            "-21.333215952963958\n",
            "-21.333017466831755\n",
            "-21.332841369376357\n",
            "-21.332685264487623\n",
            "-21.332547808854464\n",
            "-21.33242632736311\n",
            "-21.33231668157427\n",
            "-21.332214577090426\n",
            "-21.332116960404537\n",
            "-21.33202278936558\n",
            "-21.331932980833\n",
            "-21.331849673158395\n",
            "-21.33177512244068\n",
            "-21.33171060736295\n",
            "-21.3316558424599\n",
            "-21.331609222810695\n",
            "-21.33156859539791\n",
            "-21.33153195470593\n",
            "-21.33149776593167\n",
            "-21.331464980443656\n",
            "-21.331432910517655\n",
            "-21.33140107663858\n",
            "-21.331369071801067\n"
          ],
          "name": "stdout"
        }
      ]
    },
    {
      "cell_type": "markdown",
      "metadata": {
        "id": "pry4Q5RuK6n-",
        "colab_type": "text"
      },
      "source": [
        "Vemos que los valores de la media cambiarón, los pesos y la matriz de covanrianza se mantienen."
      ]
    },
    {
      "cell_type": "code",
      "metadata": {
        "id": "Se22TLemtXn0",
        "colab_type": "code",
        "outputId": "13324a93-9dea-4129-8c08-7cea9c106310",
        "colab": {
          "base_uri": "https://localhost:8080/",
          "height": 254
        }
      },
      "source": [
        "gmm_jose.means_"
      ],
      "execution_count": 0,
      "outputs": [
        {
          "output_type": "execute_result",
          "data": {
            "text/plain": [
              "array([[-0.47405847,  0.77795709,  0.74176243, ...,  0.68262007,\n",
              "         0.07991054, -1.06929745],\n",
              "       [-1.12090623, -0.78104588,  0.47939125, ...,  0.52273544,\n",
              "         0.62146064,  0.36452482],\n",
              "       [ 1.27123642,  0.71671819, -0.97022947, ..., -0.73384267,\n",
              "        -0.30346384, -1.15096092],\n",
              "       ...,\n",
              "       [ 0.50018052, -1.99246845,  1.39595043, ...,  0.64992682,\n",
              "        -0.66940025,  1.19049362],\n",
              "       [-1.51850986, -0.4170364 ,  0.56918476, ..., -0.39044059,\n",
              "         1.22237722,  0.11280448],\n",
              "       [ 0.35111886,  0.06563008, -0.28248564, ..., -0.56519293,\n",
              "        -0.05006237,  0.61350669]])"
            ]
          },
          "metadata": {
            "tags": []
          },
          "execution_count": 17
        }
      ]
    },
    {
      "cell_type": "code",
      "metadata": {
        "id": "-lgyZaHwuLy3",
        "colab_type": "code",
        "outputId": "071060ab-a57a-45bf-a5df-0deb1b8503da",
        "colab": {
          "base_uri": "https://localhost:8080/",
          "height": 35
        }
      },
      "source": [
        "name_model = 'GMM_Jose'\n",
        "dump(gmm_jose, name_model+'.joblib')"
      ],
      "execution_count": 0,
      "outputs": [
        {
          "output_type": "execute_result",
          "data": {
            "text/plain": [
              "['GMM_Jose.joblib']"
            ]
          },
          "metadata": {
            "tags": []
          },
          "execution_count": 19
        }
      ]
    },
    {
      "cell_type": "code",
      "metadata": {
        "id": "DqH8kY_CPxBc",
        "colab_type": "code",
        "outputId": "07247c09-6543-46ba-e689-a70d337c4db5",
        "colab": {
          "base_uri": "https://localhost:8080/",
          "height": 254
        }
      },
      "source": [
        "gmm_jose.predict_proba(audios_jose)"
      ],
      "execution_count": 0,
      "outputs": [
        {
          "output_type": "execute_result",
          "data": {
            "text/plain": [
              "array([[1.78788912e-064, 0.00000000e+000, 2.33910946e-092, ...,\n",
              "        1.47997993e-040, 2.61683220e-077, 9.13485698e-039],\n",
              "       [1.78788912e-064, 0.00000000e+000, 2.33910946e-092, ...,\n",
              "        1.47997993e-040, 2.61683220e-077, 9.13485698e-039],\n",
              "       [1.78788912e-064, 0.00000000e+000, 2.33910946e-092, ...,\n",
              "        1.47997993e-040, 2.61683220e-077, 9.13485698e-039],\n",
              "       ...,\n",
              "       [3.32778360e-016, 2.14258920e-258, 4.06926416e-045, ...,\n",
              "        1.43574120e-029, 3.20366720e-002, 3.25246732e-015],\n",
              "       [8.66073089e-057, 0.00000000e+000, 6.75555388e-087, ...,\n",
              "        2.40742003e-038, 1.38411487e-060, 5.09360111e-035],\n",
              "       [6.54289615e-068, 0.00000000e+000, 3.08642117e-096, ...,\n",
              "        9.52294755e-043, 2.37014066e-085, 2.84737841e-040]])"
            ]
          },
          "metadata": {
            "tags": []
          },
          "execution_count": 18
        }
      ]
    },
    {
      "cell_type": "markdown",
      "metadata": {
        "id": "hRQcnRjNJtDz",
        "colab_type": "text"
      },
      "source": [
        "## Angelower ADAPTATION"
      ]
    },
    {
      "cell_type": "code",
      "metadata": {
        "id": "Tt3dn8dOJ2HC",
        "colab_type": "code",
        "outputId": "26a720aa-1e67-458d-f0f0-f1d886b157cb",
        "colab": {
          "base_uri": "https://localhost:8080/",
          "height": 74
        }
      },
      "source": [
        "gmm_UBM = load('GMM_300_NC.joblib')"
      ],
      "execution_count": 0,
      "outputs": [
        {
          "output_type": "stream",
          "text": [
            "/usr/local/lib/python3.6/dist-packages/sklearn/base.py:318: UserWarning: Trying to unpickle estimator GaussianMixture from version 0.21.2 when using version 0.22.2.post1. This might lead to breaking code or invalid results. Use at your own risk.\n",
            "  UserWarning)\n"
          ],
          "name": "stderr"
        }
      ]
    },
    {
      "cell_type": "code",
      "metadata": {
        "id": "LcPVenzqJtON",
        "colab_type": "code",
        "outputId": "4bd817be-440c-4025-8447-338ddbb62f06",
        "colab": {
          "base_uri": "https://localhost:8080/",
          "height": 1000
        }
      },
      "source": [
        "gmm_angelower = map_adaptation(gmm_UBM,audios_angelower)"
      ],
      "execution_count": 0,
      "outputs": [
        {
          "output_type": "stream",
          "text": [
            "-26.23344308670775\n",
            "-24.964880778549723\n",
            "-24.344764093526507\n",
            "-23.971807396208884\n",
            "-23.711471990150613\n",
            "-23.49971631334793\n",
            "-23.319008769388688\n",
            "-23.16119309171978\n",
            "-23.023718305051805\n",
            "-22.904539818614428\n",
            "-22.81183303666401\n",
            "-22.73810554014443\n",
            "-22.6734359545621\n",
            "-22.613768204926636\n",
            "-22.55927348685028\n",
            "-22.510167523449404\n",
            "-22.468484523672036\n",
            "-22.43337041956572\n",
            "-22.40127424140846\n",
            "-22.37060198744756\n",
            "-22.34093859473256\n",
            "-22.31430647718704\n",
            "-22.291667666610643\n",
            "-22.27167761102075\n",
            "-22.2533273339723\n",
            "-22.23612943622218\n",
            "-22.21935005643698\n",
            "-22.202714970613762\n",
            "-22.18633314067866\n",
            "-22.1698683165386\n",
            "-22.15279306309835\n",
            "-22.135253862623255\n",
            "-22.118913596502257\n",
            "-22.104239006859636\n",
            "-22.090482355872883\n",
            "-22.07815683176139\n",
            "-22.067418761420168\n",
            "-22.057698414950135\n",
            "-22.048354206798415\n",
            "-22.03866421311546\n",
            "-22.027650237112276\n",
            "-22.014865021546655\n",
            "-22.001699637822494\n",
            "-21.98935187221075\n",
            "-21.977384925268584\n",
            "-21.9655700149313\n",
            "-21.954887930540956\n",
            "-21.945139084290286\n",
            "-21.935313186759938\n",
            "-21.925051703522122\n",
            "-21.91464059825985\n",
            "-21.90440040342293\n",
            "-21.895022671730427\n",
            "-21.886702769967112\n",
            "-21.87907726640147\n",
            "-21.87178569006585\n",
            "-21.864895860953588\n",
            "-21.85792961681616\n",
            "-21.850372179240107\n",
            "-21.84265001573914\n",
            "-21.83581235711695\n",
            "-21.82971635326722\n",
            "-21.823908949832003\n",
            "-21.818421601017906\n",
            "-21.813290754673837\n",
            "-21.8082200662494\n",
            "-21.80292402664421\n",
            "-21.797313092229093\n",
            "-21.791757491651257\n",
            "-21.78681343377005\n",
            "-21.782615405506697\n",
            "-21.779018861110686\n",
            "-21.77576565287056\n",
            "-21.772566775096724\n",
            "-21.76917447920079\n",
            "-21.76570013663964\n",
            "-21.762519293419114\n",
            "-21.75974915620746\n",
            "-21.75733443518426\n",
            "-21.75518788476513\n",
            "-21.75322545244448\n",
            "-21.751401653469237\n",
            "-21.749698489841858\n",
            "-21.748081777374995\n",
            "-21.746508184698094\n",
            "-21.744944946431183\n",
            "-21.743371915366467\n",
            "-21.741780694677285\n",
            "-21.740162820800357\n",
            "-21.73848790719336\n",
            "-21.73668329829358\n",
            "-21.73464118157062\n",
            "-21.73232436126244\n",
            "-21.729875874648766\n",
            "-21.72742175034236\n",
            "-21.724938192819177\n",
            "-21.722452996552395\n",
            "-21.72006364886747\n",
            "-21.717734517460002\n",
            "-21.71534211066537\n",
            "-21.712744005213523\n",
            "-21.709829497629713\n",
            "-21.706596565396932\n",
            "-21.70320304866328\n",
            "-21.699893275972357\n",
            "-21.696750559291143\n",
            "-21.69365644794901\n",
            "-21.690640787331166\n",
            "-21.687918416494846\n",
            "-21.685481752202087\n",
            "-21.68331957608333\n",
            "-21.681533724228824\n",
            "-21.680033273979145\n",
            "-21.67868554866487\n",
            "-21.677430264427795\n",
            "-21.676245361046895\n",
            "-21.675111153744954\n",
            "-21.674002085705624\n",
            "-21.672888720183927\n",
            "-21.671746881434757\n",
            "-21.670552574090618\n",
            "-21.669263979321624\n",
            "-21.667821401779488\n",
            "-21.666147944155504\n",
            "-21.66424079618191\n",
            "-21.662391150792228\n",
            "-21.660797669679\n",
            "-21.659366675744142\n",
            "-21.65806730617841\n",
            "-21.656957287141108\n",
            "-21.656020744637498\n",
            "-21.65519789429515\n",
            "-21.654436763838046\n",
            "-21.653701309928568\n",
            "-21.652976478161065\n",
            "-21.65228287008407\n",
            "-21.65165407521733\n",
            "-21.651089934403263\n",
            "-21.65056510780832\n",
            "-21.650064136749062\n",
            "-21.64960086963731\n",
            "-21.64919720409716\n",
            "-21.64884908657559\n",
            "-21.64853723804811\n",
            "-21.64824667657227\n",
            "-21.647969293076763\n",
            "-21.647699751619676\n",
            "-21.647431493634635\n",
            "-21.647155675236412\n",
            "-21.646862479113462\n",
            "-21.646542230433152\n",
            "-21.646186557590536\n",
            "-21.645793433432658\n",
            "-21.64537675367862\n",
            "-21.644968442906798\n",
            "-21.644600450148694\n",
            "-21.644285707563707\n",
            "-21.644019890278862\n",
            "-21.64379263531446\n",
            "-21.64359437789923\n",
            "-21.643417858988148\n",
            "-21.64325729344604\n",
            "-21.643107174241845\n",
            "-21.64296133053241\n",
            "-21.64281213287286\n",
            "-21.642649621562914\n",
            "-21.642460800662352\n",
            "-21.642230826982402\n",
            "-21.641949811906365\n",
            "-21.641624912976177\n",
            "-21.641283294241838\n",
            "-21.64095593421721\n",
            "-21.64066110197374\n",
            "-21.640403261581366\n",
            "-21.640179912427907\n",
            "-21.639986812143285\n",
            "-21.63981991073204\n",
            "-21.63967553373561\n",
            "-21.639550141430412\n",
            "-21.63944019866232\n",
            "-21.63934213926923\n",
            "-21.63925219311129\n",
            "-21.639165739349725\n",
            "-21.639075409974964\n",
            "-21.638965385860622\n",
            "-21.63879378838646\n",
            "-21.638456906338842\n",
            "-21.637850888197796\n",
            "-21.637082790350174\n",
            "-21.636208937366526\n",
            "-21.63505658619183\n",
            "-21.633659792342915\n",
            "-21.632375615548312\n",
            "-21.63123555633667\n",
            "-21.630163652543455\n",
            "-21.62915311792485\n",
            "-21.628242543394034\n",
            "-21.627434145064566\n",
            "-21.62669221568971\n",
            "-21.625949328928627\n",
            "-21.625130242761664\n",
            "-21.62425227356512\n",
            "-21.623367337362666\n",
            "-21.62238885431967\n",
            "-21.62109595189782\n",
            "-21.61936006251665\n",
            "-21.617514188978262\n",
            "-21.615702936071703\n",
            "-21.613640844647193\n",
            "-21.61147527641296\n",
            "-21.609746123053462\n",
            "-21.608479762689406\n",
            "-21.60755339211927\n",
            "-21.606896889063602\n",
            "-21.606427882964667\n",
            "-21.606075624850014\n",
            "-21.605791174827104\n",
            "-21.60554550966225\n",
            "-21.605324677507323\n",
            "-21.605123609599147\n",
            "-21.60493904245094\n",
            "-21.604766674829953\n",
            "-21.60460358015521\n",
            "-21.604450749062345\n",
            "-21.604311601321164\n",
            "-21.604188202634486\n",
            "-21.6040795448551\n",
            "-21.60398250438728\n",
            "-21.60389349891208\n",
            "-21.603809716408314\n",
            "-21.603729740240528\n",
            "-21.60365351371802\n",
            "-21.603581691361136\n",
            "-21.603514788051374\n",
            "-21.603452642259093\n",
            "-21.603394336989037\n",
            "-21.603338360784793\n",
            "-21.603282758811112\n",
            "-21.60322516029315\n",
            "-21.60316268872443\n",
            "-21.60309185652462\n",
            "-21.603008681788705\n",
            "-21.60290942156692\n",
            "-21.602792162412214\n",
            "-21.602658493863284\n",
            "-21.60251324239376\n",
            "-21.602361294103595\n",
            "-21.60220374229671\n",
            "-21.602036374310774\n",
            "-21.60185134727004\n",
            "-21.60164161740761\n",
            "-21.601406310104814\n",
            "-21.601151708159676\n",
            "-21.600884845491095\n",
            "-21.600604514958366\n",
            "-21.600293219929956\n",
            "-21.59990986263161\n",
            "-21.599402616075512\n",
            "-21.598784802269513\n",
            "-21.598144299168226\n",
            "-21.59752984398727\n",
            "-21.596930911206215\n",
            "-21.596290784201123\n",
            "-21.595480841800484\n",
            "-21.594300256474682\n",
            "-21.592804817204307\n",
            "-21.5913192950352\n",
            "-21.589922589101374\n",
            "-21.588592295278097\n",
            "-21.58735733168336\n",
            "-21.58629609540263\n",
            "-21.585400864241006\n",
            "-21.584643261750138\n",
            "-21.584041880430544\n",
            "-21.58360313557993\n",
            "-21.583289245978126\n",
            "-21.583056308472973\n",
            "-21.582873264231917\n",
            "-21.5827212852809\n",
            "-21.58258958824582\n",
            "-21.58247186051024\n",
            "-21.58236381148151\n",
            "-21.582261765636023\n",
            "-21.582162047070078\n",
            "-21.58206084830959\n",
            "-21.581954380761044\n",
            "-21.581839276610474\n",
            "-21.581713242433125\n",
            "-21.58157563760299\n",
            "-21.581427033977196\n",
            "-21.581266872731266\n",
            "-21.581089849418476\n",
            "-21.580882687010774\n",
            "-21.580622276147007\n",
            "-21.580276371769003\n",
            "-21.579809217895388\n",
            "-21.579193733248076\n",
            "-21.57842286512307\n",
            "-21.5775349125517\n",
            "-21.576615104350996\n"
          ],
          "name": "stdout"
        }
      ]
    },
    {
      "cell_type": "code",
      "metadata": {
        "id": "gANx0tNOuc4D",
        "colab_type": "code",
        "outputId": "140c81a9-7acc-46ef-e5e2-728d8e95c73e",
        "colab": {
          "base_uri": "https://localhost:8080/",
          "height": 35
        }
      },
      "source": [
        "name_model = 'GMM_Angelower'\n",
        "dump(gmm_angelower, name_model+'.joblib')"
      ],
      "execution_count": 0,
      "outputs": [
        {
          "output_type": "execute_result",
          "data": {
            "text/plain": [
              "['GMM_Angelower.joblib']"
            ]
          },
          "metadata": {
            "tags": []
          },
          "execution_count": 25
        }
      ]
    },
    {
      "cell_type": "markdown",
      "metadata": {
        "id": "zBH8IziAJtXM",
        "colab_type": "text"
      },
      "source": [
        "## Leo ADAPTATION"
      ]
    },
    {
      "cell_type": "code",
      "metadata": {
        "id": "kZez2lT0Jtg_",
        "colab_type": "code",
        "outputId": "33604123-828e-4493-831d-b4438e192ba8",
        "colab": {
          "base_uri": "https://localhost:8080/",
          "height": 74
        }
      },
      "source": [
        "gmm_UBM = load('GMM_300_NC.joblib')"
      ],
      "execution_count": 0,
      "outputs": [
        {
          "output_type": "stream",
          "text": [
            "/usr/local/lib/python3.6/dist-packages/sklearn/base.py:318: UserWarning: Trying to unpickle estimator GaussianMixture from version 0.21.2 when using version 0.22.2.post1. This might lead to breaking code or invalid results. Use at your own risk.\n",
            "  UserWarning)\n"
          ],
          "name": "stderr"
        }
      ]
    },
    {
      "cell_type": "code",
      "metadata": {
        "id": "-mJMCFDuJtz-",
        "colab_type": "code",
        "outputId": "260e2dc4-add5-47cd-d93d-2469c863ea3a",
        "colab": {
          "base_uri": "https://localhost:8080/",
          "height": 1000
        }
      },
      "source": [
        "gmm_leo = map_adaptation(gmm_UBM,audios_leo)"
      ],
      "execution_count": 0,
      "outputs": [
        {
          "output_type": "stream",
          "text": [
            "-24.355513906179723\n",
            "-22.8197789370562\n",
            "-22.127893963127786\n",
            "-21.706845225684045\n",
            "-21.39076477142423\n",
            "-21.110097310110504\n",
            "-20.906048907300757\n",
            "-20.765586967739317\n",
            "-20.659007445673705\n",
            "-20.571555323442972\n",
            "-20.496956917251442\n",
            "-20.431377164040228\n",
            "-20.37262172043008\n",
            "-20.32235821766931\n",
            "-20.27733308120029\n",
            "-20.232909842051132\n",
            "-20.189151981843853\n",
            "-20.14581889114746\n",
            "-20.10116233130701\n",
            "-20.057139834541548\n",
            "-20.013543312237775\n",
            "-19.96980186323137\n",
            "-19.93008712837779\n",
            "-19.88897585547337\n",
            "-19.8528148323698\n",
            "-19.82351418435109\n",
            "-19.798051070511587\n",
            "-19.77635369724721\n",
            "-19.758759163553382\n",
            "-19.744208812635648\n",
            "-19.73149530983396\n",
            "-19.7198285529856\n",
            "-19.70838954016068\n",
            "-19.697408110936017\n",
            "-19.687236512511014\n",
            "-19.677672715534975\n",
            "-19.66845502261996\n",
            "-19.65996339512649\n",
            "-19.651819974556773\n",
            "-19.643346882721364\n",
            "-19.634823739465777\n",
            "-19.626988522045437\n",
            "-19.620460276380935\n",
            "-19.61488824693858\n",
            "-19.610017950935227\n",
            "-19.605587114886195\n",
            "-19.6012020723455\n",
            "-19.596641968419622\n",
            "-19.591829730615512\n",
            "-19.586659973488914\n",
            "-19.581389897076214\n",
            "-19.575860643087413\n",
            "-19.56967770380328\n",
            "-19.562842383957967\n",
            "-19.55583714832214\n",
            "-19.54902734620262\n",
            "-19.542388276413295\n",
            "-19.535505250800824\n",
            "-19.527522564724105\n",
            "-19.518318275463727\n",
            "-19.509663116019052\n",
            "-19.50049272384375\n",
            "-19.48965091922122\n",
            "-19.48078834613185\n",
            "-19.473789927563974\n",
            "-19.46762618305521\n",
            "-19.461899674393546\n",
            "-19.456488672519757\n",
            "-19.451593947191427\n",
            "-19.44693976621097\n",
            "-19.442137655607358\n",
            "-19.43712147165875\n",
            "-19.43223452528101\n",
            "-19.42775459904577\n",
            "-19.42365962153107\n",
            "-19.419926551609073\n",
            "-19.41642847727318\n",
            "-19.413240395583607\n",
            "-19.410378924380307\n",
            "-19.407684832823715\n",
            "-19.40480984643596\n",
            "-19.40122943589981\n",
            "-19.39650728997405\n",
            "-19.390788721968487\n",
            "-19.385497405416626\n",
            "-19.381124721819468\n",
            "-19.37728430146836\n",
            "-19.373726402534068\n",
            "-19.37036682138299\n",
            "-19.367230723300928\n",
            "-19.36441071554427\n",
            "-19.361821595999967\n",
            "-19.35981515790876\n",
            "-19.35848666380426\n",
            "-19.357552543237773\n",
            "-19.35683583116818\n",
            "-19.356250530483482\n",
            "-19.3557489833844\n",
            "-19.355298917532842\n",
            "-19.354878931837103\n",
            "-19.354475601169312\n",
            "-19.35408045875255\n",
            "-19.35368848979978\n",
            "-19.353296105750236\n",
            "-19.352895924209374\n",
            "-19.352468702787636\n",
            "-19.351980199189757\n",
            "-19.351398913228785\n",
            "-19.3507232818051\n",
            "-19.349958315780952\n",
            "-19.34907974344944\n",
            "-19.348046434878757\n",
            "-19.346858335619412\n",
            "-19.345597881446118\n",
            "-19.344331394910277\n",
            "-19.343058611874905\n",
            "-19.34175524793033\n",
            "-19.340358653154276\n",
            "-19.338736326623145\n",
            "-19.336719463750015\n",
            "-19.334138350316795\n",
            "-19.33092723590696\n",
            "-19.327523044203055\n",
            "-19.32440106702224\n",
            "-19.321692169505674\n",
            "-19.31926079258293\n",
            "-19.316925047922176\n",
            "-19.314653968449228\n",
            "-19.312482747535395\n",
            "-19.31044333349306\n",
            "-19.30856527094743\n",
            "-19.306810292913926\n",
            "-19.30510280407926\n",
            "-19.303380731763497\n",
            "-19.301599165341894\n",
            "-19.299726328728227\n",
            "-19.297734865224772\n",
            "-19.295618145737777\n",
            "-19.293391488000612\n",
            "-19.29107400807559\n",
            "-19.288711365435805\n",
            "-19.28631561816434\n",
            "-19.28389953128916\n",
            "-19.281648803098793\n",
            "-19.279628560403374\n",
            "-19.277703405428255\n",
            "-19.275645669626982\n",
            "-19.27314783938857\n",
            "-19.269940235755403\n",
            "-19.26600502743587\n",
            "-19.261077916404805\n",
            "-19.255762229848045\n",
            "-19.249666082479983\n",
            "-19.24217682767128\n",
            "-19.23580850632699\n",
            "-19.22999319460184\n",
            "-19.224216760104152\n",
            "-19.218322041978162\n",
            "-19.212079449942117\n",
            "-19.20551611007553\n",
            "-19.199087660371838\n",
            "-19.193145959185852\n",
            "-19.188378171260123\n",
            "-19.184497927233416\n",
            "-19.180666315240707\n",
            "-19.17677734738774\n",
            "-19.173122042272244\n",
            "-19.169888635594205\n",
            "-19.16624961625077\n",
            "-19.16204613098768\n",
            "-19.15879079080535\n",
            "-19.15649012284601\n",
            "-19.154745292660163\n",
            "-19.153282838433693\n",
            "-19.15197331497268\n",
            "-19.150731171344166\n",
            "-19.149511437324627\n",
            "-19.148325515391054\n",
            "-19.147206206474305\n",
            "-19.146162260890843\n",
            "-19.145180919652432\n",
            "-19.144242157299907\n",
            "-19.143318791297457\n",
            "-19.142374430642924\n",
            "-19.141365943049824\n",
            "-19.140241319159525\n",
            "-19.13893947565987\n",
            "-19.137401383607198\n",
            "-19.135607440569558\n",
            "-19.133680818719125\n",
            "-19.131896980549\n",
            "-19.130386643479056\n",
            "-19.129090346416135\n",
            "-19.127899871305186\n",
            "-19.126686573361965\n",
            "-19.125313042913437\n",
            "-19.12363814110994\n",
            "-19.121666936710433\n",
            "-19.119623339933153\n",
            "-19.117624510228584\n",
            "-19.115625353216927\n",
            "-19.113939232851862\n",
            "-19.11262725074977\n",
            "-19.111468914495614\n",
            "-19.110282426339644\n",
            "-19.10901910162081\n",
            "-19.10763127815044\n",
            "-19.106064445918857\n",
            "-19.10451248910443\n",
            "-19.10312283649444\n",
            "-19.101936280244264\n",
            "-19.10096062782114\n",
            "-19.100129808834147\n",
            "-19.09934333178373\n",
            "-19.09855083927777\n",
            "-19.097744481236393\n",
            "-19.0969233160332\n",
            "-19.096070427569373\n",
            "-19.09509165094287\n",
            "-19.093754497876823\n",
            "-19.092013519710193\n",
            "-19.0905026068542\n",
            "-19.089480084216714\n",
            "-19.088726822960716\n",
            "-19.088071028216692\n",
            "-19.08745124551161\n",
            "-19.08682406721691\n",
            "-19.086129414580117\n",
            "-19.085344625946476\n",
            "-19.08446016559875\n",
            "-19.083432794514238\n",
            "-19.082263812661427\n",
            "-19.081072956340332\n",
            "-19.080007199910472\n",
            "-19.079124460092746\n",
            "-19.078410288724005\n",
            "-19.077831465241594\n",
            "-19.07735572670837\n",
            "-19.076952884277855\n",
            "-19.076596055556966\n",
            "-19.076265797493356\n",
            "-19.075959602189958\n",
            "-19.075691515709384\n",
            "-19.075467622625762\n",
            "-19.075277523537455\n",
            "-19.075107228797698\n",
            "-19.074945391374794\n",
            "-19.07478277836413\n",
            "-19.074611151799214\n",
            "-19.07442376890445\n",
            "-19.074217618696313\n",
            "-19.073993141258267\n",
            "-19.073742359623974\n",
            "-19.07342282270769\n",
            "-19.072948819063978\n",
            "-19.072287284867766\n",
            "-19.07156295770198\n",
            "-19.070874494771406\n",
            "-19.07025003852567\n",
            "-19.069724398868267\n",
            "-19.069290995763083\n",
            "-19.068919451105366\n",
            "-19.068597836897137\n",
            "-19.068336451512334\n",
            "-19.068134712375826\n",
            "-19.067974751195322\n",
            "-19.067832516615407\n",
            "-19.067680819854044\n",
            "-19.067491792286102\n",
            "-19.067254877859394\n",
            "-19.066986567370446\n",
            "-19.066700734885853\n",
            "-19.066405743581164\n",
            "-19.066118548270776\n",
            "-19.065845109332972\n",
            "-19.06556246645964\n",
            "-19.065221700161366\n",
            "-19.064768049976426\n",
            "-19.06420726794605\n",
            "-19.06363182275519\n",
            "-19.06315611293447\n",
            "-19.06282015008358\n",
            "-19.062579113145425\n",
            "-19.062381836316305\n",
            "-19.06219562282259\n",
            "-19.06200195943343\n",
            "-19.061794593156918\n",
            "-19.06157820225401\n",
            "-19.061358221816107\n",
            "-19.061132465441165\n",
            "-19.06089357953753\n",
            "-19.060633983572227\n",
            "-19.060347799723395\n",
            "-19.060026786716353\n",
            "-19.05965237173076\n",
            "-19.059194673419338\n",
            "-19.058622956129128\n",
            "-19.05791241220137\n",
            "-19.057034764020734\n",
            "-19.05595859866244\n"
          ],
          "name": "stdout"
        }
      ]
    },
    {
      "cell_type": "code",
      "metadata": {
        "id": "mrJyRSHIulfn",
        "colab_type": "code",
        "outputId": "9872d478-87bf-4950-a123-0fefd5775396",
        "colab": {
          "base_uri": "https://localhost:8080/",
          "height": 35
        }
      },
      "source": [
        "name_model = 'GMM_Leo'\n",
        "dump(gmm_leo, name_model+'.joblib')"
      ],
      "execution_count": 0,
      "outputs": [
        {
          "output_type": "execute_result",
          "data": {
            "text/plain": [
              "['GMM_Leo.joblib']"
            ]
          },
          "metadata": {
            "tags": []
          },
          "execution_count": 28
        }
      ]
    },
    {
      "cell_type": "markdown",
      "metadata": {
        "id": "ymWToQ3gJtqu",
        "colab_type": "text"
      },
      "source": [
        "## Carlos ADAPTATION"
      ]
    },
    {
      "cell_type": "code",
      "metadata": {
        "id": "uXMpeYinJuEN",
        "colab_type": "code",
        "outputId": "185e0125-c67f-43b0-e522-5cc0b87e94d0",
        "colab": {
          "base_uri": "https://localhost:8080/",
          "height": 74
        }
      },
      "source": [
        "gmm_UBM = load('GMM_300_NC.joblib')"
      ],
      "execution_count": 0,
      "outputs": [
        {
          "output_type": "stream",
          "text": [
            "/usr/local/lib/python3.6/dist-packages/sklearn/base.py:318: UserWarning: Trying to unpickle estimator GaussianMixture from version 0.21.2 when using version 0.22.2.post1. This might lead to breaking code or invalid results. Use at your own risk.\n",
            "  UserWarning)\n"
          ],
          "name": "stderr"
        }
      ]
    },
    {
      "cell_type": "code",
      "metadata": {
        "id": "XF89ddJjKTBn",
        "colab_type": "code",
        "outputId": "0f3ea574-34cc-41db-cafa-cb26ee0d60f2",
        "colab": {
          "base_uri": "https://localhost:8080/",
          "height": 1000
        }
      },
      "source": [
        "gmm_carlos = map_adaptation(gmm_UBM,audios_carlos)"
      ],
      "execution_count": 0,
      "outputs": [
        {
          "output_type": "stream",
          "text": [
            "-26.432114664712305\n",
            "-25.23898979640401\n",
            "-24.58540038813077\n",
            "-24.179547996927337\n",
            "-23.889933355810044\n",
            "-23.66970361204602\n",
            "-23.49543500650295\n",
            "-23.353845314798154\n",
            "-23.233879450121677\n",
            "-23.131709818066817\n",
            "-23.045451795424473\n",
            "-22.97350089969257\n",
            "-22.91238136318932\n",
            "-22.857806225012258\n",
            "-22.808518024066185\n",
            "-22.764402365336256\n",
            "-22.723759813526932\n",
            "-22.685248280218254\n",
            "-22.64893652767737\n",
            "-22.61578286117555\n",
            "-22.58588577221078\n",
            "-22.558401523085738\n",
            "-22.533409193735462\n",
            "-22.51108650486932\n",
            "-22.490846478046198\n",
            "-22.47161767004269\n",
            "-22.452211202119873\n",
            "-22.432530649100087\n",
            "-22.413061375680858\n",
            "-22.393960349010648\n",
            "-22.376312117581527\n",
            "-22.36065154291886\n",
            "-22.34629701939242\n",
            "-22.332490873035297\n",
            "-22.319156014050506\n",
            "-22.306522480307358\n",
            "-22.29408511370939\n",
            "-22.28152917197277\n",
            "-22.26924650433046\n",
            "-22.257673060818117\n",
            "-22.246732991479924\n",
            "-22.236379083540104\n",
            "-22.226557467327027\n",
            "-22.2171690331513\n",
            "-22.207921088624328\n",
            "-22.198690579159862\n",
            "-22.18923975656533\n",
            "-22.17942172106404\n",
            "-22.16928260154821\n",
            "-22.159456305475484\n",
            "-22.150987536416466\n",
            "-22.14364791084511\n",
            "-22.137103984652633\n",
            "-22.13128564504409\n",
            "-22.12595584037874\n",
            "-22.12066051562788\n",
            "-22.115059166088223\n",
            "-22.10920327486797\n",
            "-22.103375586649555\n",
            "-22.09783182815307\n",
            "-22.092679735790863\n",
            "-22.087791293910303\n",
            "-22.082880106078388\n",
            "-22.077989213908776\n",
            "-22.073143083127096\n",
            "-22.0682198671923\n",
            "-22.0630959516831\n",
            "-22.057821371805243\n",
            "-22.052317385056377\n",
            "-22.04671814785472\n",
            "-22.04123215949702\n",
            "-22.035660641623817\n",
            "-22.029579783942985\n",
            "-22.02316506827683\n",
            "-22.01777511411337\n",
            "-22.01312843415035\n",
            "-22.008923017011497\n",
            "-22.005314862322077\n",
            "-22.00233763559856\n",
            "-21.99985662429729\n",
            "-21.997685924294625\n",
            "-21.995672222652423\n",
            "-21.993744993099686\n",
            "-21.99186825941996\n",
            "-21.98994346939124\n",
            "-21.987825028291468\n",
            "-21.985311397648328\n",
            "-21.982261862479664\n",
            "-21.979035805816892\n",
            "-21.975925784025705\n",
            "-21.972971374071548\n",
            "-21.97009532909345\n",
            "-21.967344309788363\n",
            "-21.965028754090934\n",
            "-21.962959182121995\n",
            "-21.960892540485172\n",
            "-21.959070701812838\n",
            "-21.957587445035\n",
            "-21.956374585041047\n",
            "-21.955362715555275\n",
            "-21.954498232033252\n",
            "-21.9537376276197\n",
            "-21.953034120754005\n",
            "-21.952320800521257\n",
            "-21.95150071680793\n",
            "-21.950500760414297\n",
            "-21.949415084066164\n",
            "-21.94843626919549\n",
            "-21.947625927992902\n",
            "-21.946945653795893\n",
            "-21.94634943784182\n",
            "-21.945809304262877\n",
            "-21.94531137647924\n",
            "-21.944844558000653\n",
            "-21.94439634995933\n",
            "-21.94395389165944\n",
            "-21.943497662039494\n",
            "-21.942993526681896\n",
            "-21.942405073463416\n",
            "-21.941737426506723\n",
            "-21.941049854688675\n",
            "-21.94039095085384\n",
            "-21.939772599742422\n",
            "-21.93918991219681\n",
            "-21.938631850508962\n",
            "-21.93808470872391\n",
            "-21.937532976794763\n",
            "-21.936962327465192\n",
            "-21.93636583652026\n",
            "-21.935741025474822\n",
            "-21.935068967575294\n",
            "-21.934293888774427\n",
            "-21.933336120303863\n",
            "-21.932211744716295\n",
            "-21.931073058359754\n",
            "-21.92997976226463\n",
            "-21.928899392886645\n",
            "-21.92783533347969\n",
            "-21.926828160741668\n",
            "-21.925891656576546\n",
            "-21.92501820240755\n",
            "-21.92419813679875\n",
            "-21.92341867360927\n",
            "-21.922656251235413\n",
            "-21.921865713771677\n",
            "-21.920964932423935\n",
            "-21.919851194808395\n",
            "-21.91851973738419\n",
            "-21.91709367796837\n",
            "-21.915737810903018\n",
            "-21.914560636149027\n",
            "-21.91348317417978\n",
            "-21.912413540165872\n",
            "-21.911337719892504\n",
            "-21.910264402784552\n",
            "-21.909134072948888\n",
            "-21.90775722166784\n",
            "-21.90598835131302\n",
            "-21.904009394637587\n",
            "-21.90192210866483\n",
            "-21.89994845722308\n",
            "-21.898292833441257\n",
            "-21.896883136043986\n",
            "-21.895610373830337\n",
            "-21.894409663774027\n",
            "-21.8932544180867\n",
            "-21.8921442485338\n",
            "-21.891111299036524\n",
            "-21.89018043289649\n",
            "-21.889338848615782\n",
            "-21.88856198209464\n",
            "-21.887833412571258\n",
            "-21.88714387509706\n",
            "-21.88647889902832\n",
            "-21.88580241904201\n",
            "-21.885038855876434\n",
            "-21.884101634955623\n",
            "-21.883038869002668\n",
            "-21.881979561920254\n",
            "-21.880975740829143\n",
            "-21.880038500172756\n",
            "-21.87914872216591\n",
            "-21.878224199250745\n",
            "-21.877096726484396\n",
            "-21.875661971906588\n",
            "-21.873938567143444\n",
            "-21.87202274919807\n",
            "-21.870158342399215\n",
            "-21.868510958311163\n",
            "-21.86712272913204\n",
            "-21.865955282989557\n",
            "-21.864952024006197\n",
            "-21.864073602209924\n",
            "-21.86328004766273\n",
            "-21.862524637253873\n",
            "-21.861765291555006\n",
            "-21.86097452143556\n",
            "-21.860146055050823\n",
            "-21.85928655946157\n",
            "-21.858384352152076\n",
            "-21.85738236112707\n",
            "-21.856191427408174\n",
            "-21.854761552036464\n",
            "-21.853123272649274\n",
            "-21.851302137051807\n",
            "-21.84932594821578\n",
            "-21.847297408539067\n",
            "-21.845382097135015\n",
            "-21.843697583591545\n",
            "-21.842358535141507\n",
            "-21.84134082525495\n",
            "-21.840528838019562\n",
            "-21.839815181979144\n",
            "-21.839138472534025\n",
            "-21.83850621370725\n",
            "-21.837935028735945\n",
            "-21.837343857901587\n",
            "-21.836558529507485\n",
            "-21.835681183747823\n",
            "-21.834955604396818\n",
            "-21.83434967542552\n",
            "-21.833823997818165\n",
            "-21.833369083720285\n",
            "-21.832973131628307\n",
            "-21.83260844645633\n",
            "-21.832232780125462\n",
            "-21.83180172845821\n",
            "-21.83129575581652\n",
            "-21.83075288621019\n",
            "-21.830241787798247\n",
            "-21.82978549830083\n",
            "-21.82935622498551\n",
            "-21.82889955396303\n",
            "-21.828340083544777\n",
            "-21.827611310049644\n",
            "-21.826765640209437\n",
            "-21.82593010952774\n",
            "-21.825121509050913\n",
            "-21.824279248902787\n",
            "-21.823359806575958\n",
            "-21.82240486250144\n",
            "-21.82153767255613\n",
            "-21.820823532848305\n",
            "-21.820233922654392\n",
            "-21.819724109134366\n",
            "-21.819243711151955\n",
            "-21.81873693533424\n",
            "-21.81817861843245\n",
            "-21.817616262890233\n",
            "-21.81710218330502\n",
            "-21.816638250898396\n",
            "-21.816208967088155\n",
            "-21.815811158616597\n",
            "-21.815460419276405\n",
            "-21.815173030549477\n",
            "-21.814945792565695\n",
            "-21.814760382871302\n",
            "-21.814596501300397\n",
            "-21.814437635159496\n",
            "-21.814273288209908\n",
            "-21.81410246633564\n",
            "-21.813934945780915\n",
            "-21.8137835524295\n",
            "-21.81365232642112\n",
            "-21.81353373946773\n",
            "-21.81341341433243\n",
            "-21.81327204456233\n",
            "-21.813084800850717\n",
            "-21.812831835988323\n",
            "-21.81252898708358\n",
            "-21.812229813735907\n",
            "-21.811973173089388\n",
            "-21.811762966209464\n",
            "-21.811587887888845\n",
            "-21.811435417227333\n",
            "-21.81129504185008\n",
            "-21.811159166484874\n",
            "-21.81102407924343\n",
            "-21.81088968592912\n",
            "-21.81075696808963\n",
            "-21.810624457496278\n",
            "-21.810486750199495\n",
            "-21.81033746407848\n",
            "-21.810176507255154\n",
            "-21.81001461579632\n",
            "-21.809866246909106\n",
            "-21.80973927056328\n",
            "-21.809633705590088\n",
            "-21.809545729202643\n",
            "-21.809470894806005\n",
            "-21.80940551197003\n",
            "-21.809346918038806\n",
            "-21.809293305970478\n",
            "-21.809243457857956\n",
            "-21.80919651867164\n",
            "-21.80915184095184\n",
            "-21.80910889123503\n",
            "-21.809067197111094\n",
            "-21.809026312912597\n",
            "-21.808985785438825\n"
          ],
          "name": "stdout"
        }
      ]
    },
    {
      "cell_type": "code",
      "metadata": {
        "id": "zdEYHaeEup8U",
        "colab_type": "code",
        "outputId": "0ba33593-a9fb-4557-af80-6679de8c3081",
        "colab": {
          "base_uri": "https://localhost:8080/",
          "height": 35
        }
      },
      "source": [
        "name_model = 'GMM_Carlos'\n",
        "dump(gmm_carlos, name_model+'.joblib')"
      ],
      "execution_count": 0,
      "outputs": [
        {
          "output_type": "execute_result",
          "data": {
            "text/plain": [
              "['GMM_Carlos.joblib']"
            ]
          },
          "metadata": {
            "tags": []
          },
          "execution_count": 31
        }
      ]
    },
    {
      "cell_type": "markdown",
      "metadata": {
        "id": "GpqVL4pjJt8m",
        "colab_type": "text"
      },
      "source": [
        "## Gabriel ADAPTATION"
      ]
    },
    {
      "cell_type": "code",
      "metadata": {
        "id": "e0NcTEPpKU7n",
        "colab_type": "code",
        "outputId": "eca53c81-599a-4d5c-c67a-52516963db86",
        "colab": {
          "base_uri": "https://localhost:8080/",
          "height": 74
        }
      },
      "source": [
        "gmm_UBM = load('GMM_300_NC.joblib')"
      ],
      "execution_count": 0,
      "outputs": [
        {
          "output_type": "stream",
          "text": [
            "/usr/local/lib/python3.6/dist-packages/sklearn/base.py:318: UserWarning: Trying to unpickle estimator GaussianMixture from version 0.21.2 when using version 0.22.2.post1. This might lead to breaking code or invalid results. Use at your own risk.\n",
            "  UserWarning)\n"
          ],
          "name": "stderr"
        }
      ]
    },
    {
      "cell_type": "code",
      "metadata": {
        "id": "_jZKLIJDKVWS",
        "colab_type": "code",
        "outputId": "d8d8cb67-a53a-4d94-d620-d5c342e9aaf6",
        "colab": {
          "base_uri": "https://localhost:8080/",
          "height": 1000
        }
      },
      "source": [
        "gmm_gabriel = map_adaptation(gmm_UBM,audios_gabriel)"
      ],
      "execution_count": 0,
      "outputs": [
        {
          "output_type": "stream",
          "text": [
            "-25.350192282713\n",
            "-24.14859343473505\n",
            "-23.535477109234794\n",
            "-23.135556007555138\n",
            "-22.84442683054503\n",
            "-22.628728470742455\n",
            "-22.468442673638936\n",
            "-22.345686469776236\n",
            "-22.246678175173138\n",
            "-22.160486478300925\n",
            "-22.07734917567208\n",
            "-21.995677862728456\n",
            "-21.92381737435374\n",
            "-21.86367596063844\n",
            "-21.809926010071273\n",
            "-21.758924778551552\n",
            "-21.71538675695911\n",
            "-21.681117034521147\n",
            "-21.65344427914715\n",
            "-21.629176887146656\n",
            "-21.606581017957392\n",
            "-21.585879094366895\n",
            "-21.566637243502967\n",
            "-21.548105394728005\n",
            "-21.529861203035292\n",
            "-21.51247008837487\n",
            "-21.495969223044767\n",
            "-21.47959969312719\n",
            "-21.4625369828702\n",
            "-21.44643729851482\n",
            "-21.433330457568427\n",
            "-21.42135689716439\n",
            "-21.40954963906453\n",
            "-21.39835176488001\n",
            "-21.3883957311166\n",
            "-21.37940167880516\n",
            "-21.370813838408388\n",
            "-21.362852568840033\n",
            "-21.355798897696914\n",
            "-21.349514095720327\n",
            "-21.343562332005817\n",
            "-21.33747052216825\n",
            "-21.33066700867259\n",
            "-21.322608847399398\n",
            "-21.31358712992318\n",
            "-21.304441195104125\n",
            "-21.29654423211487\n",
            "-21.290520040158135\n",
            "-21.285686336731704\n",
            "-21.281589065710392\n",
            "-21.278084674461446\n",
            "-21.27499730751947\n",
            "-21.272187254722223\n",
            "-21.269556997754105\n",
            "-21.267008399449466\n",
            "-21.264464802038894\n",
            "-21.26187971009453\n",
            "-21.259200945381558\n",
            "-21.25632198122135\n",
            "-21.253116671284925\n",
            "-21.249564662668256\n",
            "-21.245860275380497\n",
            "-21.24231864628215\n",
            "-21.238970438602752\n",
            "-21.23569590428542\n",
            "-21.232434738194332\n",
            "-21.229318552914407\n",
            "-21.226519160771268\n",
            "-21.22402105952913\n",
            "-21.221695086540638\n",
            "-21.219433620014925\n",
            "-21.217161305591276\n",
            "-21.214773932054477\n",
            "-21.212154164893107\n",
            "-21.209364665117135\n",
            "-21.206606565705506\n",
            "-21.203917803648487\n",
            "-21.20111032720437\n",
            "-21.197956997489598\n",
            "-21.19440337611465\n",
            "-21.190704261930573\n",
            "-21.187170780663024\n",
            "-21.183761174593677\n",
            "-21.180113951428808\n",
            "-21.176046651500645\n",
            "-21.17217514357131\n",
            "-21.169216598564034\n",
            "-21.166897932851928\n",
            "-21.164878258086013\n",
            "-21.162956870538817\n",
            "-21.160948339612368\n",
            "-21.158694019915117\n",
            "-21.156206628844714\n",
            "-21.153572059356094\n",
            "-21.150832243726754\n",
            "-21.148027337475856\n",
            "-21.145127700002675\n",
            "-21.142055646160475\n",
            "-21.138812668400256\n",
            "-21.135537900791046\n",
            "-21.132304818651694\n",
            "-21.129252217282843\n",
            "-21.126442827347283\n",
            "-21.123832975972043\n",
            "-21.121370568747192\n",
            "-21.119031089559716\n",
            "-21.11675402803487\n",
            "-21.11439613435473\n",
            "-21.112011871177973\n",
            "-21.109685422947543\n",
            "-21.107394639321146\n",
            "-21.105099323821094\n",
            "-21.102781703149663\n",
            "-21.10039998294869\n",
            "-21.097880902486857\n",
            "-21.095351750451577\n",
            "-21.09292320344261\n",
            "-21.090411733372274\n",
            "-21.08792479088653\n",
            "-21.085574582808015\n",
            "-21.083428474635493\n",
            "-21.081478213239976\n",
            "-21.079678214784998\n",
            "-21.077970094776088\n",
            "-21.07638340652644\n",
            "-21.075019378845287\n",
            "-21.073843781104305\n",
            "-21.07271047922503\n",
            "-21.071476661002627\n",
            "-21.070056670380296\n",
            "-21.068380670725073\n",
            "-21.066369638990373\n",
            "-21.063962364168464\n",
            "-21.06128116022659\n",
            "-21.058776123875305\n",
            "-21.056746055942043\n",
            "-21.055122281669934\n",
            "-21.053691072091908\n",
            "-21.052278913562958\n",
            "-21.050876316167944\n",
            "-21.049571614617406\n",
            "-21.048405010125087\n",
            "-21.047334078701574\n",
            "-21.046246875457715\n",
            "-21.044926755615037\n",
            "-21.0429315312559\n",
            "-21.039420850310673\n",
            "-21.033878569638134\n",
            "-21.028817563824685\n",
            "-21.025869267140436\n",
            "-21.024117875094426\n",
            "-21.02284472286721\n",
            "-21.02177002711372\n",
            "-21.02079445068414\n",
            "-21.01990806753702\n",
            "-21.019135463991148\n",
            "-21.01847516043888\n",
            "-21.01790249805286\n",
            "-21.01738832357924\n",
            "-21.01690344811073\n",
            "-21.01641590722984\n",
            "-21.015886225170018\n",
            "-21.015264479288682\n",
            "-21.014495328183727\n",
            "-21.01352856729981\n",
            "-21.0123375879251\n",
            "-21.010993227692175\n",
            "-21.009665643854206\n",
            "-21.008443079381866\n",
            "-21.007324473479787\n",
            "-21.006325727287066\n",
            "-21.005375362601153\n",
            "-21.004335353253285\n",
            "-21.003114119160117\n",
            "-21.00180430573131\n",
            "-21.00060824083199\n",
            "-20.99953072598252\n",
            "-20.998549711201083\n",
            "-20.99771468068607\n",
            "-20.99702723137007\n",
            "-20.996409160304154\n",
            "-20.995770373978253\n",
            "-20.995055647180635\n",
            "-20.994283115044347\n",
            "-20.993521419941068\n",
            "-20.992816742353213\n",
            "-20.992175015276963\n",
            "-20.99158477597957\n",
            "-20.991039825346895\n",
            "-20.990543159908125\n",
            "-20.990096228352595\n",
            "-20.989693709408026\n",
            "-20.989325571491495\n",
            "-20.988979176281774\n",
            "-20.98864085021494\n",
            "-20.988296579102034\n",
            "-20.987930353115093\n",
            "-20.987517104765733\n",
            "-20.98701081110927\n",
            "-20.986364865943774\n",
            "-20.98560472267304\n",
            "-20.984758820097014\n",
            "-20.983798292190453\n",
            "-20.982768701524595\n",
            "-20.981690946069257\n",
            "-20.980417006318394\n",
            "-20.978767761300453\n",
            "-20.976840595168003\n",
            "-20.974854214486374\n",
            "-20.972947411419632\n",
            "-20.971208709988982\n",
            "-20.96969144556767\n",
            "-20.968405268687743\n",
            "-20.967306749876236\n",
            "-20.96633001759109\n",
            "-20.96542029435402\n",
            "-20.964544974864136\n",
            "-20.963674405561232\n",
            "-20.962770502257293\n",
            "-20.96181179650533\n",
            "-20.960790131911303\n",
            "-20.959698713661776\n",
            "-20.958589995004733\n",
            "-20.957580306960633\n",
            "-20.956753547661993\n",
            "-20.956101565147968\n",
            "-20.95555577815171\n",
            "-20.95503185300737\n",
            "-20.954442012923355\n",
            "-20.953715954247947\n",
            "-20.95282665625178\n",
            "-20.95170312680608\n",
            "-20.950232539593696\n",
            "-20.94851041288086\n",
            "-20.946947414097842\n",
            "-20.945820257598857\n",
            "-20.94501553734505\n",
            "-20.94430567254301\n",
            "-20.943444945492914\n",
            "-20.94222522912065\n",
            "-20.940866699502788\n",
            "-20.939794899656594\n",
            "-20.938996546732902\n",
            "-20.938371133224454\n",
            "-20.937868895193905\n",
            "-20.93744935653106\n",
            "-20.937055913200613\n",
            "-20.93662207884566\n",
            "-20.936102948845324\n",
            "-20.935522253046145\n",
            "-20.93493070148449\n",
            "-20.934342685115546\n",
            "-20.93373158230945\n",
            "-20.933028381743817\n",
            "-20.93211491937609\n",
            "-20.93088034854632\n",
            "-20.9294381432194\n",
            "-20.928061016537036\n",
            "-20.92694090816512\n",
            "-20.926093834953576\n",
            "-20.9254384064957\n",
            "-20.924892410034545\n",
            "-20.924401235417385\n",
            "-20.923949207575664\n",
            "-20.923551034638148\n",
            "-20.923215557341724\n",
            "-20.922927667033115\n",
            "-20.922659498337534\n",
            "-20.922381294611693\n",
            "-20.92206333096506\n",
            "-20.921674946369883\n",
            "-20.921189877499476\n",
            "-20.92060703975362\n",
            "-20.919964777451508\n",
            "-20.919317305044302\n",
            "-20.91872386264407\n",
            "-20.918247774049956\n",
            "-20.917911409460803\n",
            "-20.917687103177194\n",
            "-20.91753682039616\n",
            "-20.917432590199365\n",
            "-20.917356806018663\n",
            "-20.917298663142336\n",
            "-20.917251463266567\n",
            "-20.917210970115576\n",
            "-20.91717443461336\n",
            "-20.91714001346687\n",
            "-20.91710641779857\n",
            "-20.917072697294294\n",
            "-20.917038105667206\n",
            "-20.91700201722286\n",
            "-20.916963878538112\n",
            "-20.916923187192065\n",
            "-20.91687949317688\n",
            "-20.916832420002603\n",
            "-20.916781703893566\n",
            "-20.916727252288673\n",
            "-20.916669224410366\n",
            "-20.9166081284481\n",
            "-20.916544905327868\n"
          ],
          "name": "stdout"
        }
      ]
    },
    {
      "cell_type": "code",
      "metadata": {
        "id": "zN1wT1IOutgU",
        "colab_type": "code",
        "outputId": "63fb3ba3-fc9e-4783-c4a5-5b7a214ffcf4",
        "colab": {
          "base_uri": "https://localhost:8080/",
          "height": 35
        }
      },
      "source": [
        "name_model = 'GMM_Gabriel'\n",
        "dump(gmm_gabriel, name_model+'.joblib')"
      ],
      "execution_count": 0,
      "outputs": [
        {
          "output_type": "execute_result",
          "data": {
            "text/plain": [
              "['GMM_Gabriel.joblib']"
            ]
          },
          "metadata": {
            "tags": []
          },
          "execution_count": 34
        }
      ]
    },
    {
      "cell_type": "markdown",
      "metadata": {
        "id": "KvdtF2OTUmN0",
        "colab_type": "text"
      },
      "source": [
        "# Modelos adaptados"
      ]
    },
    {
      "cell_type": "code",
      "metadata": {
        "id": "k3ju3PeDdzX9",
        "colab_type": "code",
        "colab": {
          "base_uri": "https://localhost:8080/",
          "height": 1000
        },
        "outputId": "d9d85848-1d66-4d63-ae05-948a3d05fe7f"
      },
      "source": [
        "! wget https://github.com/Integrador-VoiceStyleTransfer/Utilities/raw/master/Similitude/Speaker_Verification/Adaptions_Models/GMM_Angelower.joblib\n",
        "! wget https://github.com/Integrador-VoiceStyleTransfer/Utilities/raw/master/Similitude/Speaker_Verification/Adaptions_Models/GMM_Carlos.joblib\n",
        "! wget https://github.com/Integrador-VoiceStyleTransfer/Utilities/raw/master/Similitude/Speaker_Verification/Adaptions_Models/GMM_Gabriel.joblib\n",
        "! wget https://github.com/Integrador-VoiceStyleTransfer/Utilities/raw/master/Similitude/Speaker_Verification/Adaptions_Models/GMM_Jose.joblib\n",
        "! wget https://github.com/Integrador-VoiceStyleTransfer/Utilities/raw/master/Similitude/Speaker_Verification/Adaptions_Models/GMM_Juan.joblib\n",
        "! wget https://github.com/Integrador-VoiceStyleTransfer/Utilities/raw/master/Similitude/Speaker_Verification/Adaptions_Models/GMM_Leo.joblib"
      ],
      "execution_count": 13,
      "outputs": [
        {
          "output_type": "stream",
          "text": [
            "--2020-05-03 14:25:22--  https://github.com/Integrador-VoiceStyleTransfer/Utilities/raw/master/Similitude/Speaker_Verification/Adaptions_Models/GMM_Angelower.joblib\n",
            "Resolving github.com (github.com)... 140.82.112.3\n",
            "Connecting to github.com (github.com)|140.82.112.3|:443... connected.\n",
            "HTTP request sent, awaiting response... 302 Found\n",
            "Location: https://raw.githubusercontent.com/Integrador-VoiceStyleTransfer/Utilities/master/Similitude/Speaker_Verification/Adaptions_Models/GMM_Angelower.joblib [following]\n",
            "--2020-05-03 14:25:22--  https://raw.githubusercontent.com/Integrador-VoiceStyleTransfer/Utilities/master/Similitude/Speaker_Verification/Adaptions_Models/GMM_Angelower.joblib\n",
            "Resolving raw.githubusercontent.com (raw.githubusercontent.com)... 151.101.0.133, 151.101.64.133, 151.101.128.133, ...\n",
            "Connecting to raw.githubusercontent.com (raw.githubusercontent.com)|151.101.0.133|:443... connected.\n",
            "HTTP request sent, awaiting response... 200 OK\n",
            "Length: 195413 (191K) [application/octet-stream]\n",
            "Saving to: ‘GMM_Angelower.joblib’\n",
            "\n",
            "\rGMM_Angelower.jobli   0%[                    ]       0  --.-KB/s               \rGMM_Angelower.jobli 100%[===================>] 190.83K  --.-KB/s    in 0.04s   \n",
            "\n",
            "2020-05-03 14:25:23 (4.21 MB/s) - ‘GMM_Angelower.joblib’ saved [195413/195413]\n",
            "\n",
            "--2020-05-03 14:25:23--  https://github.com/Integrador-VoiceStyleTransfer/Utilities/raw/master/Similitude/Speaker_Verification/Adaptions_Models/GMM_Carlos.joblib\n",
            "Resolving github.com (github.com)... 140.82.114.4\n",
            "Connecting to github.com (github.com)|140.82.114.4|:443... connected.\n",
            "HTTP request sent, awaiting response... 302 Found\n",
            "Location: https://raw.githubusercontent.com/Integrador-VoiceStyleTransfer/Utilities/master/Similitude/Speaker_Verification/Adaptions_Models/GMM_Carlos.joblib [following]\n",
            "--2020-05-03 14:25:23--  https://raw.githubusercontent.com/Integrador-VoiceStyleTransfer/Utilities/master/Similitude/Speaker_Verification/Adaptions_Models/GMM_Carlos.joblib\n",
            "Resolving raw.githubusercontent.com (raw.githubusercontent.com)... 151.101.0.133, 151.101.64.133, 151.101.128.133, ...\n",
            "Connecting to raw.githubusercontent.com (raw.githubusercontent.com)|151.101.0.133|:443... connected.\n",
            "HTTP request sent, awaiting response... 200 OK\n",
            "Length: 195413 (191K) [application/octet-stream]\n",
            "Saving to: ‘GMM_Carlos.joblib’\n",
            "\n",
            "GMM_Carlos.joblib   100%[===================>] 190.83K  --.-KB/s    in 0.04s   \n",
            "\n",
            "2020-05-03 14:25:24 (4.30 MB/s) - ‘GMM_Carlos.joblib’ saved [195413/195413]\n",
            "\n",
            "--2020-05-03 14:25:25--  https://github.com/Integrador-VoiceStyleTransfer/Utilities/raw/master/Similitude/Speaker_Verification/Adaptions_Models/GMM_Gabriel.joblib\n",
            "Resolving github.com (github.com)... 140.82.114.3\n",
            "Connecting to github.com (github.com)|140.82.114.3|:443... connected.\n",
            "HTTP request sent, awaiting response... 302 Found\n",
            "Location: https://raw.githubusercontent.com/Integrador-VoiceStyleTransfer/Utilities/master/Similitude/Speaker_Verification/Adaptions_Models/GMM_Gabriel.joblib [following]\n",
            "--2020-05-03 14:25:25--  https://raw.githubusercontent.com/Integrador-VoiceStyleTransfer/Utilities/master/Similitude/Speaker_Verification/Adaptions_Models/GMM_Gabriel.joblib\n",
            "Resolving raw.githubusercontent.com (raw.githubusercontent.com)... 151.101.0.133, 151.101.64.133, 151.101.128.133, ...\n",
            "Connecting to raw.githubusercontent.com (raw.githubusercontent.com)|151.101.0.133|:443... connected.\n",
            "HTTP request sent, awaiting response... 200 OK\n",
            "Length: 195413 (191K) [application/octet-stream]\n",
            "Saving to: ‘GMM_Gabriel.joblib’\n",
            "\n",
            "GMM_Gabriel.joblib  100%[===================>] 190.83K  --.-KB/s    in 0.04s   \n",
            "\n",
            "2020-05-03 14:25:25 (4.26 MB/s) - ‘GMM_Gabriel.joblib’ saved [195413/195413]\n",
            "\n",
            "--2020-05-03 14:25:26--  https://github.com/Integrador-VoiceStyleTransfer/Utilities/raw/master/Similitude/Speaker_Verification/Adaptions_Models/GMM_Jose.joblib\n",
            "Resolving github.com (github.com)... 140.82.114.3\n",
            "Connecting to github.com (github.com)|140.82.114.3|:443... connected.\n",
            "HTTP request sent, awaiting response... 302 Found\n",
            "Location: https://raw.githubusercontent.com/Integrador-VoiceStyleTransfer/Utilities/master/Similitude/Speaker_Verification/Adaptions_Models/GMM_Jose.joblib [following]\n",
            "--2020-05-03 14:25:26--  https://raw.githubusercontent.com/Integrador-VoiceStyleTransfer/Utilities/master/Similitude/Speaker_Verification/Adaptions_Models/GMM_Jose.joblib\n",
            "Resolving raw.githubusercontent.com (raw.githubusercontent.com)... 151.101.0.133, 151.101.64.133, 151.101.128.133, ...\n",
            "Connecting to raw.githubusercontent.com (raw.githubusercontent.com)|151.101.0.133|:443... connected.\n",
            "HTTP request sent, awaiting response... 200 OK\n",
            "Length: 195413 (191K) [application/octet-stream]\n",
            "Saving to: ‘GMM_Jose.joblib’\n",
            "\n",
            "GMM_Jose.joblib     100%[===================>] 190.83K  --.-KB/s    in 0.05s   \n",
            "\n",
            "2020-05-03 14:25:26 (3.76 MB/s) - ‘GMM_Jose.joblib’ saved [195413/195413]\n",
            "\n",
            "--2020-05-03 14:25:27--  https://github.com/Integrador-VoiceStyleTransfer/Utilities/raw/master/Similitude/Speaker_Verification/Adaptions_Models/GMM_Juan.joblib\n",
            "Resolving github.com (github.com)... 140.82.112.3\n",
            "Connecting to github.com (github.com)|140.82.112.3|:443... connected.\n",
            "HTTP request sent, awaiting response... 302 Found\n",
            "Location: https://raw.githubusercontent.com/Integrador-VoiceStyleTransfer/Utilities/master/Similitude/Speaker_Verification/Adaptions_Models/GMM_Juan.joblib [following]\n",
            "--2020-05-03 14:25:27--  https://raw.githubusercontent.com/Integrador-VoiceStyleTransfer/Utilities/master/Similitude/Speaker_Verification/Adaptions_Models/GMM_Juan.joblib\n",
            "Resolving raw.githubusercontent.com (raw.githubusercontent.com)... 151.101.0.133, 151.101.64.133, 151.101.128.133, ...\n",
            "Connecting to raw.githubusercontent.com (raw.githubusercontent.com)|151.101.0.133|:443... connected.\n",
            "HTTP request sent, awaiting response... 200 OK\n",
            "Length: 195413 (191K) [application/octet-stream]\n",
            "Saving to: ‘GMM_Juan.joblib’\n",
            "\n",
            "GMM_Juan.joblib     100%[===================>] 190.83K  --.-KB/s    in 0.04s   \n",
            "\n",
            "2020-05-03 14:25:27 (4.19 MB/s) - ‘GMM_Juan.joblib’ saved [195413/195413]\n",
            "\n",
            "--2020-05-03 14:25:28--  https://github.com/Integrador-VoiceStyleTransfer/Utilities/raw/master/Similitude/Speaker_Verification/Adaptions_Models/GMM_Leo.joblib\n",
            "Resolving github.com (github.com)... 140.82.113.4\n",
            "Connecting to github.com (github.com)|140.82.113.4|:443... connected.\n",
            "HTTP request sent, awaiting response... 302 Found\n",
            "Location: https://raw.githubusercontent.com/Integrador-VoiceStyleTransfer/Utilities/master/Similitude/Speaker_Verification/Adaptions_Models/GMM_Leo.joblib [following]\n",
            "--2020-05-03 14:25:28--  https://raw.githubusercontent.com/Integrador-VoiceStyleTransfer/Utilities/master/Similitude/Speaker_Verification/Adaptions_Models/GMM_Leo.joblib\n",
            "Resolving raw.githubusercontent.com (raw.githubusercontent.com)... 151.101.0.133, 151.101.64.133, 151.101.128.133, ...\n",
            "Connecting to raw.githubusercontent.com (raw.githubusercontent.com)|151.101.0.133|:443... connected.\n",
            "HTTP request sent, awaiting response... 200 OK\n",
            "Length: 195413 (191K) [application/octet-stream]\n",
            "Saving to: ‘GMM_Leo.joblib’\n",
            "\n",
            "GMM_Leo.joblib      100%[===================>] 190.83K  --.-KB/s    in 0.04s   \n",
            "\n",
            "2020-05-03 14:25:29 (4.19 MB/s) - ‘GMM_Leo.joblib’ saved [195413/195413]\n",
            "\n"
          ],
          "name": "stdout"
        }
      ]
    },
    {
      "cell_type": "markdown",
      "metadata": {
        "id": "5IniEPheeBIT",
        "colab_type": "text"
      },
      "source": [
        "## Test Data"
      ]
    },
    {
      "cell_type": "markdown",
      "metadata": {
        "id": "mmjO5pHSxBat",
        "colab_type": "text"
      },
      "source": [
        "# Cargamos modelos"
      ]
    },
    {
      "cell_type": "code",
      "metadata": {
        "id": "SYA613ugw7op",
        "colab_type": "code",
        "colab": {}
      },
      "source": [
        "GMM_Angelower = load('GMM_Angelower.joblib')\n",
        "GMM_Carlos= load('GMM_Carlos.joblib')\n",
        "GMM_Gabriel= load('GMM_Gabriel.joblib')\n",
        "GMM_Jose= load('GMM_Jose.joblib')\n",
        "GMM_Juan= load('GMM_Juan.joblib')\n",
        "GMM_Leo= load('GMM_Leo.joblib')"
      ],
      "execution_count": 0,
      "outputs": []
    },
    {
      "cell_type": "markdown",
      "metadata": {
        "id": "XkW8gKxjUQ9K",
        "colab_type": "text"
      },
      "source": [
        "# Distance\n"
      ]
    },
    {
      "cell_type": "code",
      "metadata": {
        "id": "xMWWl0u7vlqh",
        "colab_type": "code",
        "colab": {}
      },
      "source": [
        "def distances_by_sound(speakers_models,sounds,sound_same='Sound_1'):\n",
        "    \n",
        "    n_Speakers= len(speakers_models)\n",
        "    distances = np.ones((n_Speakers,n_Speakers),dtype=np.float64)\n",
        "    names = []        \n",
        "    for i in range(n_Speakers): \n",
        "      gmm1 = speakers_models[i][1]\n",
        "      sound1= sounds[i]\n",
        "      names.append(speakers_models[i][0])\n",
        "      for j in range(n_Speakers):\n",
        "        gmm2 = speakers_models[j][1]\n",
        "        sound2= sounds[j]\n",
        "        D = distance_probabilities(gmm1,gmm2,sound1,sound2)\n",
        "        distances[i][j]=D\n",
        "\n",
        "    return pd.DataFrame(distances, columns=names, index=names)"
      ],
      "execution_count": 0,
      "outputs": []
    },
    {
      "cell_type": "code",
      "metadata": {
        "id": "ux6Ml1Go7ewD",
        "colab_type": "code",
        "colab": {}
      },
      "source": [
        "def distances_by_All_Sounds(speakers_models,sounds,sound_same='All'):\n",
        "    \n",
        "    n_Speakers= len(speakers_models)\n",
        "    distances = np.ones((n_Speakers,n_Speakers),dtype=np.float64)\n",
        "    names = []        \n",
        "    for i in range(n_Speakers): \n",
        "      gmm1 = speakers_models[i][1]\n",
        "      sound1= sounds[i]\n",
        "      names.append(speakers_models[i][0])\n",
        "      for j in range(n_Speakers):\n",
        "        gmm2 = speakers_models[j][1]\n",
        "        sound2= sounds[j]\n",
        "        D = distance_probabilities(gmm1,gmm2,sound1,sound2)\n",
        "        distances[i][j]=D\n",
        "\n",
        "    return pd.DataFrame(distances, columns=names, index=names)"
      ],
      "execution_count": 0,
      "outputs": []
    },
    {
      "cell_type": "code",
      "metadata": {
        "id": "9DmEwRhHUVi3",
        "colab_type": "code",
        "colab": {}
      },
      "source": [
        "def distance_probabilities(gmm1,gmm2,sound1,sound2):\n",
        "    nv1 = sound1.shape[0]\n",
        "    nv2 = sound2.shape[0]\n",
        "    \n",
        "    \n",
        "    score_gmm1_with_sound1 =gmm1.score(sound1) \n",
        "    score_gmm2_with_sound1 =gmm2.score(sound1)\n",
        "    \n",
        "        \n",
        "    \n",
        "    #print('SCORES SOUND 1',score_gmm1_with_sound1,score_gmm2_with_sound1)\n",
        "    \n",
        "    score_gmm1_with_sound2 = gmm1.score(sound2)\n",
        "    score_gmm2_with_sound2 = gmm2.score(sound2)\n",
        "    \n",
        "    #print('SCORES SOUND 2',score_gmm1_with_sound2,score_gmm2_with_sound2)\n",
        "    \n",
        "    #Remover (1/nv2)\n",
        "    \n",
        "    D12= (score_gmm2_with_sound2 - score_gmm1_with_sound2)\n",
        "    D21 = (score_gmm2_with_sound1 - score_gmm1_with_sound1)\n",
        "    \n",
        "    D=(np.absolute(D12 - D21))/2\n",
        "    return D"
      ],
      "execution_count": 0,
      "outputs": []
    },
    {
      "cell_type": "code",
      "metadata": {
        "id": "pTz_XI1JxjoT",
        "colab_type": "code",
        "colab": {}
      },
      "source": [
        "speakers_models = [('Angelower',GMM_Angelower),('Carlos',GMM_Carlos),('Gabriel',GMM_Gabriel),('Jose',GMM_Jose),('Juan',GMM_Juan),('Leo',GMM_Leo)]"
      ],
      "execution_count": 0,
      "outputs": []
    },
    {
      "cell_type": "code",
      "metadata": {
        "id": "WsnkztSbNUDT",
        "colab_type": "code",
        "colab": {}
      },
      "source": [
        "def createConfusion_matrix(sound_name):\n",
        "    audios_jose= pd.read_hdf('p228.hd5').values \n",
        "    audios_leo= pd.read_hdf('p230.hd5').values\n",
        "    audios_angelower= pd.read_hdf('p225.hd5').values\n",
        "    audios_juan= pd.read_hdf('p229.hd5').values\n",
        "    audios_carlos= pd.read_hdf('p226.hd5').values\n",
        "    audios_gabriel= pd.read_hdf('p227.hd5').values\n",
        "    sounds = [audios_angelower,audios_carlos,audios_gabriel,audios_jose,audios_juan,audios_leo]\n",
        "    df_distances = distances_by_sound(speakers_models,sounds,sound_same='Sound_1')\n",
        "    confusion_matrix = df_distances.values\n",
        "    class_names = df_distances.columns \n",
        "    print_confusion_matrix(confusion_matrix, class_names, figsize = (10,7), fontsize=12,sound_name=sound_name)"
      ],
      "execution_count": 0,
      "outputs": []
    },
    {
      "cell_type": "markdown",
      "metadata": {
        "id": "fGYxUn_GGRn3",
        "colab_type": "text"
      },
      "source": [
        "## Sound_1"
      ]
    },
    {
      "cell_type": "code",
      "metadata": {
        "id": "Ce-j1f2yGYZi",
        "colab_type": "code",
        "outputId": "60886e1f-1290-42a5-9fb4-132f448551c2",
        "colab": {
          "base_uri": "https://localhost:8080/",
          "height": 1000
        }
      },
      "source": [
        "#Sound 1\n",
        "! wget https://github.com/Integrador-VoiceStyleTransfer/Utilities/raw/master/Similitude/Speaker_Verification/MFCCS_Test/Sound_1/p225.hd5\n",
        "! wget https://github.com/Integrador-VoiceStyleTransfer/Utilities/raw/master/Similitude/Speaker_Verification/MFCCS_Test/Sound_1/p226.hd5\n",
        "! wget https://github.com/Integrador-VoiceStyleTransfer/Utilities/raw/master/Similitude/Speaker_Verification/MFCCS_Test/Sound_1/p227.hd5\n",
        "! wget https://github.com/Integrador-VoiceStyleTransfer/Utilities/raw/master/Similitude/Speaker_Verification/MFCCS_Test/Sound_1/p228.hd5\n",
        "! wget https://github.com/Integrador-VoiceStyleTransfer/Utilities/raw/master/Similitude/Speaker_Verification/MFCCS_Test/Sound_1/p229.hd5\n",
        "! wget https://github.com/Integrador-VoiceStyleTransfer/Utilities/raw/master/Similitude/Speaker_Verification/MFCCS_Test/Sound_1/p230.hd5\n"
      ],
      "execution_count": 0,
      "outputs": [
        {
          "output_type": "stream",
          "text": [
            "--2020-04-26 02:05:26--  https://github.com/Integrador-VoiceStyleTransfer/Utilities/raw/master/Similitude/Speaker_Verification/MFCCS_Test/Sound_1/p225.hd5\n",
            "Resolving github.com (github.com)... 140.82.113.4\n",
            "Connecting to github.com (github.com)|140.82.113.4|:443... connected.\n",
            "HTTP request sent, awaiting response... 302 Found\n",
            "Location: https://raw.githubusercontent.com/Integrador-VoiceStyleTransfer/Utilities/master/Similitude/Speaker_Verification/MFCCS_Test/Sound_1/p225.hd5 [following]\n",
            "--2020-04-26 02:05:26--  https://raw.githubusercontent.com/Integrador-VoiceStyleTransfer/Utilities/master/Similitude/Speaker_Verification/MFCCS_Test/Sound_1/p225.hd5\n",
            "Resolving raw.githubusercontent.com (raw.githubusercontent.com)... 151.101.0.133, 151.101.64.133, 151.101.128.133, ...\n",
            "Connecting to raw.githubusercontent.com (raw.githubusercontent.com)|151.101.0.133|:443... connected.\n",
            "HTTP request sent, awaiting response... 200 OK\n",
            "Length: 50448 (49K) [application/octet-stream]\n",
            "Saving to: ‘p225.hd5’\n",
            "\n",
            "p225.hd5            100%[===================>]  49.27K  --.-KB/s    in 0.01s   \n",
            "\n",
            "2020-04-26 02:05:27 (3.36 MB/s) - ‘p225.hd5’ saved [50448/50448]\n",
            "\n",
            "--2020-04-26 02:05:28--  https://github.com/Integrador-VoiceStyleTransfer/Utilities/raw/master/Similitude/Speaker_Verification/MFCCS_Test/Sound_1/p226.hd5\n",
            "Resolving github.com (github.com)... 140.82.112.3\n",
            "Connecting to github.com (github.com)|140.82.112.3|:443... connected.\n",
            "HTTP request sent, awaiting response... 302 Found\n",
            "Location: https://raw.githubusercontent.com/Integrador-VoiceStyleTransfer/Utilities/master/Similitude/Speaker_Verification/MFCCS_Test/Sound_1/p226.hd5 [following]\n",
            "--2020-04-26 02:05:28--  https://raw.githubusercontent.com/Integrador-VoiceStyleTransfer/Utilities/master/Similitude/Speaker_Verification/MFCCS_Test/Sound_1/p226.hd5\n",
            "Resolving raw.githubusercontent.com (raw.githubusercontent.com)... 151.101.0.133, 151.101.64.133, 151.101.128.133, ...\n",
            "Connecting to raw.githubusercontent.com (raw.githubusercontent.com)|151.101.0.133|:443... connected.\n",
            "HTTP request sent, awaiting response... 200 OK\n",
            "Length: 46224 (45K) [application/octet-stream]\n",
            "Saving to: ‘p226.hd5’\n",
            "\n",
            "p226.hd5            100%[===================>]  45.14K  --.-KB/s    in 0.01s   \n",
            "\n",
            "2020-04-26 02:05:28 (3.12 MB/s) - ‘p226.hd5’ saved [46224/46224]\n",
            "\n",
            "--2020-04-26 02:05:29--  https://github.com/Integrador-VoiceStyleTransfer/Utilities/raw/master/Similitude/Speaker_Verification/MFCCS_Test/Sound_1/p227.hd5\n",
            "Resolving github.com (github.com)... 192.30.255.113\n",
            "Connecting to github.com (github.com)|192.30.255.113|:443... connected.\n",
            "HTTP request sent, awaiting response... 302 Found\n",
            "Location: https://raw.githubusercontent.com/Integrador-VoiceStyleTransfer/Utilities/master/Similitude/Speaker_Verification/MFCCS_Test/Sound_1/p227.hd5 [following]\n",
            "--2020-04-26 02:05:30--  https://raw.githubusercontent.com/Integrador-VoiceStyleTransfer/Utilities/master/Similitude/Speaker_Verification/MFCCS_Test/Sound_1/p227.hd5\n",
            "Resolving raw.githubusercontent.com (raw.githubusercontent.com)... 151.101.0.133, 151.101.64.133, 151.101.128.133, ...\n",
            "Connecting to raw.githubusercontent.com (raw.githubusercontent.com)|151.101.0.133|:443... connected.\n",
            "HTTP request sent, awaiting response... 200 OK\n",
            "Length: 53000 (52K) [application/octet-stream]\n",
            "Saving to: ‘p227.hd5’\n",
            "\n",
            "p227.hd5            100%[===================>]  51.76K  --.-KB/s    in 0.01s   \n",
            "\n",
            "2020-04-26 02:05:30 (3.56 MB/s) - ‘p227.hd5’ saved [53000/53000]\n",
            "\n",
            "--2020-04-26 02:05:31--  https://github.com/Integrador-VoiceStyleTransfer/Utilities/raw/master/Similitude/Speaker_Verification/MFCCS_Test/Sound_1/p228.hd5\n",
            "Resolving github.com (github.com)... 140.82.113.4\n",
            "Connecting to github.com (github.com)|140.82.113.4|:443... connected.\n",
            "HTTP request sent, awaiting response... 302 Found\n",
            "Location: https://raw.githubusercontent.com/Integrador-VoiceStyleTransfer/Utilities/master/Similitude/Speaker_Verification/MFCCS_Test/Sound_1/p228.hd5 [following]\n",
            "--2020-04-26 02:05:31--  https://raw.githubusercontent.com/Integrador-VoiceStyleTransfer/Utilities/master/Similitude/Speaker_Verification/MFCCS_Test/Sound_1/p228.hd5\n",
            "Resolving raw.githubusercontent.com (raw.githubusercontent.com)... 151.101.0.133, 151.101.64.133, 151.101.128.133, ...\n",
            "Connecting to raw.githubusercontent.com (raw.githubusercontent.com)|151.101.0.133|:443... connected.\n",
            "HTTP request sent, awaiting response... 200 OK\n",
            "Length: 43144 (42K) [application/octet-stream]\n",
            "Saving to: ‘p228.hd5’\n",
            "\n",
            "p228.hd5            100%[===================>]  42.13K  --.-KB/s    in 0.01s   \n",
            "\n",
            "2020-04-26 02:05:32 (3.08 MB/s) - ‘p228.hd5’ saved [43144/43144]\n",
            "\n",
            "--2020-04-26 02:05:33--  https://github.com/Integrador-VoiceStyleTransfer/Utilities/raw/master/Similitude/Speaker_Verification/MFCCS_Test/Sound_1/p229.hd5\n",
            "Resolving github.com (github.com)... 192.30.255.112\n",
            "Connecting to github.com (github.com)|192.30.255.112|:443... connected.\n",
            "HTTP request sent, awaiting response... 302 Found\n",
            "Location: https://raw.githubusercontent.com/Integrador-VoiceStyleTransfer/Utilities/master/Similitude/Speaker_Verification/MFCCS_Test/Sound_1/p229.hd5 [following]\n",
            "--2020-04-26 02:05:33--  https://raw.githubusercontent.com/Integrador-VoiceStyleTransfer/Utilities/master/Similitude/Speaker_Verification/MFCCS_Test/Sound_1/p229.hd5\n",
            "Resolving raw.githubusercontent.com (raw.githubusercontent.com)... 151.101.0.133, 151.101.64.133, 151.101.128.133, ...\n",
            "Connecting to raw.githubusercontent.com (raw.githubusercontent.com)|151.101.0.133|:443... connected.\n",
            "HTTP request sent, awaiting response... 200 OK\n",
            "Length: 55816 (55K) [application/octet-stream]\n",
            "Saving to: ‘p229.hd5’\n",
            "\n",
            "p229.hd5            100%[===================>]  54.51K  --.-KB/s    in 0.01s   \n",
            "\n",
            "2020-04-26 02:05:33 (3.96 MB/s) - ‘p229.hd5’ saved [55816/55816]\n",
            "\n",
            "--2020-04-26 02:05:34--  https://github.com/Integrador-VoiceStyleTransfer/Utilities/raw/master/Similitude/Speaker_Verification/MFCCS_Test/Sound_1/p230.hd5\n",
            "Resolving github.com (github.com)... 140.82.112.3\n",
            "Connecting to github.com (github.com)|140.82.112.3|:443... connected.\n",
            "HTTP request sent, awaiting response... 302 Found\n",
            "Location: https://raw.githubusercontent.com/Integrador-VoiceStyleTransfer/Utilities/master/Similitude/Speaker_Verification/MFCCS_Test/Sound_1/p230.hd5 [following]\n",
            "--2020-04-26 02:05:34--  https://raw.githubusercontent.com/Integrador-VoiceStyleTransfer/Utilities/master/Similitude/Speaker_Verification/MFCCS_Test/Sound_1/p230.hd5\n",
            "Resolving raw.githubusercontent.com (raw.githubusercontent.com)... 151.101.0.133, 151.101.64.133, 151.101.128.133, ...\n",
            "Connecting to raw.githubusercontent.com (raw.githubusercontent.com)|151.101.0.133|:443... connected.\n",
            "HTTP request sent, awaiting response... 200 OK\n",
            "Length: 62856 (61K) [application/octet-stream]\n",
            "Saving to: ‘p230.hd5’\n",
            "\n",
            "p230.hd5            100%[===================>]  61.38K  --.-KB/s    in 0.01s   \n",
            "\n",
            "2020-04-26 02:05:34 (4.17 MB/s) - ‘p230.hd5’ saved [62856/62856]\n",
            "\n"
          ],
          "name": "stdout"
        }
      ]
    },
    {
      "cell_type": "code",
      "metadata": {
        "id": "nfbDXR9nFjXO",
        "colab_type": "code",
        "outputId": "109a1d7e-e2bb-4962-a9da-122b7523788d",
        "colab": {
          "base_uri": "https://localhost:8080/",
          "height": 492
        }
      },
      "source": [
        "createConfusion_matrix(sound_name='Sound_1')"
      ],
      "execution_count": 0,
      "outputs": [
        {
          "output_type": "display_data",
          "data": {
            "image/png": "[encoded data removed]",
            "text/plain": [
              "<Figure size 720x504 with 2 Axes>"
            ]
          },
          "metadata": {
            "tags": [],
            "needs_background": "light"
          }
        }
      ]
    },
    {
      "cell_type": "markdown",
      "metadata": {
        "id": "SCTGgk_6MsSm",
        "colab_type": "text"
      },
      "source": [
        "## Sound_2"
      ]
    },
    {
      "cell_type": "code",
      "metadata": {
        "id": "e74qxrJPNy9k",
        "colab_type": "code",
        "outputId": "e9e3c35e-e64f-467d-c6be-16d96961d00b",
        "colab": {
          "base_uri": "https://localhost:8080/",
          "height": 1000
        }
      },
      "source": [
        "#Sound 2\n",
        "! wget https://github.com/Integrador-VoiceStyleTransfer/Utilities/raw/master/Similitude/Speaker_Verification/MFCCS_Test/Sound_2/p225.hd5\n",
        "! wget https://github.com/Integrador-VoiceStyleTransfer/Utilities/raw/master/Similitude/Speaker_Verification/MFCCS_Test/Sound_2/p226.hd5\n",
        "! wget https://github.com/Integrador-VoiceStyleTransfer/Utilities/raw/master/Similitude/Speaker_Verification/MFCCS_Test/Sound_2/p227.hd5\n",
        "! wget https://github.com/Integrador-VoiceStyleTransfer/Utilities/raw/master/Similitude/Speaker_Verification/MFCCS_Test/Sound_2/p228.hd5\n",
        "! wget https://github.com/Integrador-VoiceStyleTransfer/Utilities/raw/master/Similitude/Speaker_Verification/MFCCS_Test/Sound_2/p229.hd5\n",
        "! wget https://github.com/Integrador-VoiceStyleTransfer/Utilities/raw/master/Similitude/Speaker_Verification/MFCCS_Test/Sound_2/p230.hd5\n"
      ],
      "execution_count": 0,
      "outputs": [
        {
          "output_type": "stream",
          "text": [
            "--2020-04-26 02:05:56--  https://github.com/Integrador-VoiceStyleTransfer/Utilities/raw/master/Similitude/Speaker_Verification/MFCCS_Test/Sound_2/p225.hd5\n",
            "Resolving github.com (github.com)... 192.30.255.112\n",
            "Connecting to github.com (github.com)|192.30.255.112|:443... connected.\n",
            "HTTP request sent, awaiting response... 302 Found\n",
            "Location: https://raw.githubusercontent.com/Integrador-VoiceStyleTransfer/Utilities/master/Similitude/Speaker_Verification/MFCCS_Test/Sound_2/p225.hd5 [following]\n",
            "--2020-04-26 02:05:57--  https://raw.githubusercontent.com/Integrador-VoiceStyleTransfer/Utilities/master/Similitude/Speaker_Verification/MFCCS_Test/Sound_2/p225.hd5\n",
            "Resolving raw.githubusercontent.com (raw.githubusercontent.com)... 151.101.0.133, 151.101.64.133, 151.101.128.133, ...\n",
            "Connecting to raw.githubusercontent.com (raw.githubusercontent.com)|151.101.0.133|:443... connected.\n",
            "HTTP request sent, awaiting response... 200 OK\n",
            "Length: 59952 (59K) [application/octet-stream]\n",
            "Saving to: ‘p225.hd5’\n",
            "\n",
            "\rp225.hd5              0%[                    ]       0  --.-KB/s               \rp225.hd5            100%[===================>]  58.55K  --.-KB/s    in 0.01s   \n",
            "\n",
            "2020-04-26 02:05:57 (3.97 MB/s) - ‘p225.hd5’ saved [59952/59952]\n",
            "\n",
            "--2020-04-26 02:05:58--  https://github.com/Integrador-VoiceStyleTransfer/Utilities/raw/master/Similitude/Speaker_Verification/MFCCS_Test/Sound_2/p226.hd5\n",
            "Resolving github.com (github.com)... 140.82.112.3\n",
            "Connecting to github.com (github.com)|140.82.112.3|:443... connected.\n",
            "HTTP request sent, awaiting response... 302 Found\n",
            "Location: https://raw.githubusercontent.com/Integrador-VoiceStyleTransfer/Utilities/master/Similitude/Speaker_Verification/MFCCS_Test/Sound_2/p226.hd5 [following]\n",
            "--2020-04-26 02:05:58--  https://raw.githubusercontent.com/Integrador-VoiceStyleTransfer/Utilities/master/Similitude/Speaker_Verification/MFCCS_Test/Sound_2/p226.hd5\n",
            "Resolving raw.githubusercontent.com (raw.githubusercontent.com)... 151.101.0.133, 151.101.64.133, 151.101.128.133, ...\n",
            "Connecting to raw.githubusercontent.com (raw.githubusercontent.com)|151.101.0.133|:443... connected.\n",
            "HTTP request sent, awaiting response... 200 OK\n",
            "Length: 58808 (57K) [application/octet-stream]\n",
            "Saving to: ‘p226.hd5’\n",
            "\n",
            "p226.hd5            100%[===================>]  57.43K  --.-KB/s    in 0.01s   \n",
            "\n",
            "2020-04-26 02:05:58 (3.78 MB/s) - ‘p226.hd5’ saved [58808/58808]\n",
            "\n",
            "--2020-04-26 02:05:59--  https://github.com/Integrador-VoiceStyleTransfer/Utilities/raw/master/Similitude/Speaker_Verification/MFCCS_Test/Sound_2/p227.hd5\n",
            "Resolving github.com (github.com)... 140.82.112.3\n",
            "Connecting to github.com (github.com)|140.82.112.3|:443... connected.\n",
            "HTTP request sent, awaiting response... 302 Found\n",
            "Location: https://raw.githubusercontent.com/Integrador-VoiceStyleTransfer/Utilities/master/Similitude/Speaker_Verification/MFCCS_Test/Sound_2/p227.hd5 [following]\n",
            "--2020-04-26 02:05:59--  https://raw.githubusercontent.com/Integrador-VoiceStyleTransfer/Utilities/master/Similitude/Speaker_Verification/MFCCS_Test/Sound_2/p227.hd5\n",
            "Resolving raw.githubusercontent.com (raw.githubusercontent.com)... 151.101.0.133, 151.101.64.133, 151.101.128.133, ...\n",
            "Connecting to raw.githubusercontent.com (raw.githubusercontent.com)|151.101.0.133|:443... connected.\n",
            "HTTP request sent, awaiting response... 200 OK\n",
            "Length: 66288 (65K) [application/octet-stream]\n",
            "Saving to: ‘p227.hd5’\n",
            "\n",
            "p227.hd5            100%[===================>]  64.73K  --.-KB/s    in 0.01s   \n",
            "\n",
            "2020-04-26 02:05:59 (4.32 MB/s) - ‘p227.hd5’ saved [66288/66288]\n",
            "\n",
            "--2020-04-26 02:06:00--  https://github.com/Integrador-VoiceStyleTransfer/Utilities/raw/master/Similitude/Speaker_Verification/MFCCS_Test/Sound_2/p228.hd5\n",
            "Resolving github.com (github.com)... 192.30.255.113\n",
            "Connecting to github.com (github.com)|192.30.255.113|:443... connected.\n",
            "HTTP request sent, awaiting response... 302 Found\n",
            "Location: https://raw.githubusercontent.com/Integrador-VoiceStyleTransfer/Utilities/master/Similitude/Speaker_Verification/MFCCS_Test/Sound_2/p228.hd5 [following]\n",
            "--2020-04-26 02:06:00--  https://raw.githubusercontent.com/Integrador-VoiceStyleTransfer/Utilities/master/Similitude/Speaker_Verification/MFCCS_Test/Sound_2/p228.hd5\n",
            "Resolving raw.githubusercontent.com (raw.githubusercontent.com)... 151.101.0.133, 151.101.64.133, 151.101.128.133, ...\n",
            "Connecting to raw.githubusercontent.com (raw.githubusercontent.com)|151.101.0.133|:443... connected.\n",
            "HTTP request sent, awaiting response... 200 OK\n",
            "Length: 51416 (50K) [application/octet-stream]\n",
            "Saving to: ‘p228.hd5’\n",
            "\n",
            "p228.hd5            100%[===================>]  50.21K  --.-KB/s    in 0.01s   \n",
            "\n",
            "2020-04-26 02:06:00 (3.53 MB/s) - ‘p228.hd5’ saved [51416/51416]\n",
            "\n",
            "--2020-04-26 02:06:01--  https://github.com/Integrador-VoiceStyleTransfer/Utilities/raw/master/Similitude/Speaker_Verification/MFCCS_Test/Sound_2/p229.hd5\n",
            "Resolving github.com (github.com)... 192.30.255.113\n",
            "Connecting to github.com (github.com)|192.30.255.113|:443... connected.\n",
            "HTTP request sent, awaiting response... 302 Found\n",
            "Location: https://raw.githubusercontent.com/Integrador-VoiceStyleTransfer/Utilities/master/Similitude/Speaker_Verification/MFCCS_Test/Sound_2/p229.hd5 [following]\n",
            "--2020-04-26 02:06:01--  https://raw.githubusercontent.com/Integrador-VoiceStyleTransfer/Utilities/master/Similitude/Speaker_Verification/MFCCS_Test/Sound_2/p229.hd5\n",
            "Resolving raw.githubusercontent.com (raw.githubusercontent.com)... 151.101.0.133, 151.101.64.133, 151.101.128.133, ...\n",
            "Connecting to raw.githubusercontent.com (raw.githubusercontent.com)|151.101.0.133|:443... connected.\n",
            "HTTP request sent, awaiting response... 200 OK\n",
            "Length: 67784 (66K) [application/octet-stream]\n",
            "Saving to: ‘p229.hd5’\n",
            "\n",
            "p229.hd5            100%[===================>]  66.20K  --.-KB/s    in 0.02s   \n",
            "\n",
            "2020-04-26 02:06:01 (3.99 MB/s) - ‘p229.hd5’ saved [67784/67784]\n",
            "\n",
            "--2020-04-26 02:06:02--  https://github.com/Integrador-VoiceStyleTransfer/Utilities/raw/master/Similitude/Speaker_Verification/MFCCS_Test/Sound_2/p230.hd5\n",
            "Resolving github.com (github.com)... 140.82.113.3\n",
            "Connecting to github.com (github.com)|140.82.113.3|:443... connected.\n",
            "HTTP request sent, awaiting response... 302 Found\n",
            "Location: https://raw.githubusercontent.com/Integrador-VoiceStyleTransfer/Utilities/master/Similitude/Speaker_Verification/MFCCS_Test/Sound_2/p230.hd5 [following]\n",
            "--2020-04-26 02:06:02--  https://raw.githubusercontent.com/Integrador-VoiceStyleTransfer/Utilities/master/Similitude/Speaker_Verification/MFCCS_Test/Sound_2/p230.hd5\n",
            "Resolving raw.githubusercontent.com (raw.githubusercontent.com)... 151.101.0.133, 151.101.64.133, 151.101.128.133, ...\n",
            "Connecting to raw.githubusercontent.com (raw.githubusercontent.com)|151.101.0.133|:443... connected.\n",
            "HTTP request sent, awaiting response... 200 OK\n",
            "Length: 75528 (74K) [application/octet-stream]\n",
            "Saving to: ‘p230.hd5’\n",
            "\n",
            "p230.hd5            100%[===================>]  73.76K  --.-KB/s    in 0.01s   \n",
            "\n",
            "2020-04-26 02:06:02 (4.97 MB/s) - ‘p230.hd5’ saved [75528/75528]\n",
            "\n"
          ],
          "name": "stdout"
        }
      ]
    },
    {
      "cell_type": "code",
      "metadata": {
        "id": "qbwFlriANvSu",
        "colab_type": "code",
        "outputId": "124ea3d6-5431-4a16-e2dc-7aaba3953c6a",
        "colab": {
          "base_uri": "https://localhost:8080/",
          "height": 492
        }
      },
      "source": [
        "createConfusion_matrix(sound_name='Sound_2')"
      ],
      "execution_count": 0,
      "outputs": [
        {
          "output_type": "display_data",
          "data": {
            "image/png": "[encoded data removed]",
            "text/plain": [
              "<Figure size 720x504 with 2 Axes>"
            ]
          },
          "metadata": {
            "tags": [],
            "needs_background": "light"
          }
        }
      ]
    },
    {
      "cell_type": "markdown",
      "metadata": {
        "id": "KpmTTz8iMuQr",
        "colab_type": "text"
      },
      "source": [
        "## Sound_3"
      ]
    },
    {
      "cell_type": "code",
      "metadata": {
        "id": "FTz9s9F6OJTa",
        "colab_type": "code",
        "outputId": "437ad3c8-f612-4f81-9339-61e2311ed1d2",
        "colab": {
          "base_uri": "https://localhost:8080/",
          "height": 1000
        }
      },
      "source": [
        "#Sound 3\n",
        "! wget https://github.com/Integrador-VoiceStyleTransfer/Utilities/raw/master/Similitude/Speaker_Verification/MFCCS_Test/Sound_3/p225.hd5\n",
        "! wget https://github.com/Integrador-VoiceStyleTransfer/Utilities/raw/master/Similitude/Speaker_Verification/MFCCS_Test/Sound_3/p226.hd5\n",
        "! wget https://github.com/Integrador-VoiceStyleTransfer/Utilities/raw/master/Similitude/Speaker_Verification/MFCCS_Test/Sound_3/p227.hd5\n",
        "! wget https://github.com/Integrador-VoiceStyleTransfer/Utilities/raw/master/Similitude/Speaker_Verification/MFCCS_Test/Sound_3/p228.hd5\n",
        "! wget https://github.com/Integrador-VoiceStyleTransfer/Utilities/raw/master/Similitude/Speaker_Verification/MFCCS_Test/Sound_3/p229.hd5\n",
        "! wget https://github.com/Integrador-VoiceStyleTransfer/Utilities/raw/master/Similitude/Speaker_Verification/MFCCS_Test/Sound_3/p230.hd5\n"
      ],
      "execution_count": 0,
      "outputs": [
        {
          "output_type": "stream",
          "text": [
            "--2020-04-26 02:06:42--  https://github.com/Integrador-VoiceStyleTransfer/Utilities/raw/master/Similitude/Speaker_Verification/MFCCS_Test/Sound_3/p225.hd5\n",
            "Resolving github.com (github.com)... 140.82.114.4\n",
            "Connecting to github.com (github.com)|140.82.114.4|:443... connected.\n",
            "HTTP request sent, awaiting response... 302 Found\n",
            "Location: https://raw.githubusercontent.com/Integrador-VoiceStyleTransfer/Utilities/master/Similitude/Speaker_Verification/MFCCS_Test/Sound_3/p225.hd5 [following]\n",
            "--2020-04-26 02:06:42--  https://raw.githubusercontent.com/Integrador-VoiceStyleTransfer/Utilities/master/Similitude/Speaker_Verification/MFCCS_Test/Sound_3/p225.hd5\n",
            "Resolving raw.githubusercontent.com (raw.githubusercontent.com)... 151.101.0.133, 151.101.64.133, 151.101.128.133, ...\n",
            "Connecting to raw.githubusercontent.com (raw.githubusercontent.com)|151.101.0.133|:443... connected.\n",
            "HTTP request sent, awaiting response... 200 OK\n",
            "Length: 49480 (48K) [application/octet-stream]\n",
            "Saving to: ‘p225.hd5’\n",
            "\n",
            "\rp225.hd5              0%[                    ]       0  --.-KB/s               \rp225.hd5            100%[===================>]  48.32K  --.-KB/s    in 0.01s   \n",
            "\n",
            "2020-04-26 02:06:42 (3.24 MB/s) - ‘p225.hd5’ saved [49480/49480]\n",
            "\n",
            "--2020-04-26 02:06:43--  https://github.com/Integrador-VoiceStyleTransfer/Utilities/raw/master/Similitude/Speaker_Verification/MFCCS_Test/Sound_3/p226.hd5\n",
            "Resolving github.com (github.com)... 140.82.114.4\n",
            "Connecting to github.com (github.com)|140.82.114.4|:443... connected.\n",
            "HTTP request sent, awaiting response... 302 Found\n",
            "Location: https://raw.githubusercontent.com/Integrador-VoiceStyleTransfer/Utilities/master/Similitude/Speaker_Verification/MFCCS_Test/Sound_3/p226.hd5 [following]\n",
            "--2020-04-26 02:06:44--  https://raw.githubusercontent.com/Integrador-VoiceStyleTransfer/Utilities/master/Similitude/Speaker_Verification/MFCCS_Test/Sound_3/p226.hd5\n",
            "Resolving raw.githubusercontent.com (raw.githubusercontent.com)... 151.101.0.133, 151.101.64.133, 151.101.128.133, ...\n",
            "Connecting to raw.githubusercontent.com (raw.githubusercontent.com)|151.101.0.133|:443... connected.\n",
            "HTTP request sent, awaiting response... 200 OK\n",
            "Length: 54584 (53K) [application/octet-stream]\n",
            "Saving to: ‘p226.hd5’\n",
            "\n",
            "p226.hd5            100%[===================>]  53.30K  --.-KB/s    in 0.01s   \n",
            "\n",
            "2020-04-26 02:06:44 (3.54 MB/s) - ‘p226.hd5’ saved [54584/54584]\n",
            "\n",
            "--2020-04-26 02:06:45--  https://github.com/Integrador-VoiceStyleTransfer/Utilities/raw/master/Similitude/Speaker_Verification/MFCCS_Test/Sound_3/p227.hd5\n",
            "Resolving github.com (github.com)... 192.30.255.113\n",
            "Connecting to github.com (github.com)|192.30.255.113|:443... connected.\n",
            "HTTP request sent, awaiting response... 302 Found\n",
            "Location: https://raw.githubusercontent.com/Integrador-VoiceStyleTransfer/Utilities/master/Similitude/Speaker_Verification/MFCCS_Test/Sound_3/p227.hd5 [following]\n",
            "--2020-04-26 02:06:45--  https://raw.githubusercontent.com/Integrador-VoiceStyleTransfer/Utilities/master/Similitude/Speaker_Verification/MFCCS_Test/Sound_3/p227.hd5\n",
            "Resolving raw.githubusercontent.com (raw.githubusercontent.com)... 151.101.0.133, 151.101.64.133, 151.101.128.133, ...\n",
            "Connecting to raw.githubusercontent.com (raw.githubusercontent.com)|151.101.0.133|:443... connected.\n",
            "HTTP request sent, awaiting response... 200 OK\n",
            "Length: 62768 (61K) [application/octet-stream]\n",
            "Saving to: ‘p227.hd5’\n",
            "\n",
            "p227.hd5            100%[===================>]  61.30K  --.-KB/s    in 0.02s   \n",
            "\n",
            "2020-04-26 02:06:45 (3.99 MB/s) - ‘p227.hd5’ saved [62768/62768]\n",
            "\n",
            "--2020-04-26 02:06:46--  https://github.com/Integrador-VoiceStyleTransfer/Utilities/raw/master/Similitude/Speaker_Verification/MFCCS_Test/Sound_3/p228.hd5\n",
            "Resolving github.com (github.com)... 140.82.112.4\n",
            "Connecting to github.com (github.com)|140.82.112.4|:443... connected.\n",
            "HTTP request sent, awaiting response... 302 Found\n",
            "Location: https://raw.githubusercontent.com/Integrador-VoiceStyleTransfer/Utilities/master/Similitude/Speaker_Verification/MFCCS_Test/Sound_3/p228.hd5 [following]\n",
            "--2020-04-26 02:06:46--  https://raw.githubusercontent.com/Integrador-VoiceStyleTransfer/Utilities/master/Similitude/Speaker_Verification/MFCCS_Test/Sound_3/p228.hd5\n",
            "Resolving raw.githubusercontent.com (raw.githubusercontent.com)... 151.101.0.133, 151.101.64.133, 151.101.128.133, ...\n",
            "Connecting to raw.githubusercontent.com (raw.githubusercontent.com)|151.101.0.133|:443... connected.\n",
            "HTTP request sent, awaiting response... 200 OK\n",
            "Length: 53616 (52K) [application/octet-stream]\n",
            "Saving to: ‘p228.hd5’\n",
            "\n",
            "p228.hd5            100%[===================>]  52.36K  --.-KB/s    in 0.01s   \n",
            "\n",
            "2020-04-26 02:06:46 (3.70 MB/s) - ‘p228.hd5’ saved [53616/53616]\n",
            "\n",
            "--2020-04-26 02:06:47--  https://github.com/Integrador-VoiceStyleTransfer/Utilities/raw/master/Similitude/Speaker_Verification/MFCCS_Test/Sound_3/p229.hd5\n",
            "Resolving github.com (github.com)... 140.82.114.3\n",
            "Connecting to github.com (github.com)|140.82.114.3|:443... connected.\n",
            "HTTP request sent, awaiting response... 302 Found\n",
            "Location: https://raw.githubusercontent.com/Integrador-VoiceStyleTransfer/Utilities/master/Similitude/Speaker_Verification/MFCCS_Test/Sound_3/p229.hd5 [following]\n",
            "--2020-04-26 02:06:48--  https://raw.githubusercontent.com/Integrador-VoiceStyleTransfer/Utilities/master/Similitude/Speaker_Verification/MFCCS_Test/Sound_3/p229.hd5\n",
            "Resolving raw.githubusercontent.com (raw.githubusercontent.com)... 151.101.0.133, 151.101.64.133, 151.101.128.133, ...\n",
            "Connecting to raw.githubusercontent.com (raw.githubusercontent.com)|151.101.0.133|:443... connected.\n",
            "HTTP request sent, awaiting response... 200 OK\n",
            "Length: 62152 (61K) [application/octet-stream]\n",
            "Saving to: ‘p229.hd5’\n",
            "\n",
            "p229.hd5            100%[===================>]  60.70K  --.-KB/s    in 0.01s   \n",
            "\n",
            "2020-04-26 02:06:48 (3.96 MB/s) - ‘p229.hd5’ saved [62152/62152]\n",
            "\n",
            "--2020-04-26 02:06:48--  https://github.com/Integrador-VoiceStyleTransfer/Utilities/raw/master/Similitude/Speaker_Verification/MFCCS_Test/Sound_3/p230.hd5\n",
            "Resolving github.com (github.com)... 140.82.113.3\n",
            "Connecting to github.com (github.com)|140.82.113.3|:443... connected.\n",
            "HTTP request sent, awaiting response... 302 Found\n",
            "Location: https://raw.githubusercontent.com/Integrador-VoiceStyleTransfer/Utilities/master/Similitude/Speaker_Verification/MFCCS_Test/Sound_3/p230.hd5 [following]\n",
            "--2020-04-26 02:06:49--  https://raw.githubusercontent.com/Integrador-VoiceStyleTransfer/Utilities/master/Similitude/Speaker_Verification/MFCCS_Test/Sound_3/p230.hd5\n",
            "Resolving raw.githubusercontent.com (raw.githubusercontent.com)... 151.101.0.133, 151.101.64.133, 151.101.128.133, ...\n",
            "Connecting to raw.githubusercontent.com (raw.githubusercontent.com)|151.101.0.133|:443... connected.\n",
            "HTTP request sent, awaiting response... 200 OK\n",
            "Length: 67080 (66K) [application/octet-stream]\n",
            "Saving to: ‘p230.hd5’\n",
            "\n",
            "p230.hd5            100%[===================>]  65.51K  --.-KB/s    in 0.02s   \n",
            "\n",
            "2020-04-26 02:06:49 (4.23 MB/s) - ‘p230.hd5’ saved [67080/67080]\n",
            "\n"
          ],
          "name": "stdout"
        }
      ]
    },
    {
      "cell_type": "code",
      "metadata": {
        "id": "rWeyr-GYMQIl",
        "colab_type": "code",
        "outputId": "c08a6b57-d6d6-4afd-cab1-911386592a2b",
        "colab": {
          "base_uri": "https://localhost:8080/",
          "height": 492
        }
      },
      "source": [
        "createConfusion_matrix(sound_name='Sound_3')"
      ],
      "execution_count": 0,
      "outputs": [
        {
          "output_type": "display_data",
          "data": {
            "image/png": "[encoded data removed]",
            "text/plain": [
              "<Figure size 720x504 with 2 Axes>"
            ]
          },
          "metadata": {
            "tags": [],
            "needs_background": "light"
          }
        }
      ]
    },
    {
      "cell_type": "markdown",
      "metadata": {
        "id": "3KrBIrqLMvkv",
        "colab_type": "text"
      },
      "source": [
        "## Sound_4"
      ]
    },
    {
      "cell_type": "code",
      "metadata": {
        "id": "AYXRRxqOMQAJ",
        "colab_type": "code",
        "outputId": "33c36a89-da45-4060-db30-d03af2a74b8d",
        "colab": {
          "base_uri": "https://localhost:8080/",
          "height": 1000
        }
      },
      "source": [
        "#Sound 4\n",
        "! wget https://github.com/Integrador-VoiceStyleTransfer/Utilities/raw/master/Similitude/Speaker_Verification/MFCCS_Test/Sound_4/p225.hd5\n",
        "! wget https://github.com/Integrador-VoiceStyleTransfer/Utilities/raw/master/Similitude/Speaker_Verification/MFCCS_Test/Sound_4/p226.hd5\n",
        "! wget https://github.com/Integrador-VoiceStyleTransfer/Utilities/raw/master/Similitude/Speaker_Verification/MFCCS_Test/Sound_4/p227.hd5\n",
        "! wget https://github.com/Integrador-VoiceStyleTransfer/Utilities/raw/master/Similitude/Speaker_Verification/MFCCS_Test/Sound_4/p228.hd5\n",
        "! wget https://github.com/Integrador-VoiceStyleTransfer/Utilities/raw/master/Similitude/Speaker_Verification/MFCCS_Test/Sound_4/p229.hd5\n",
        "! wget https://github.com/Integrador-VoiceStyleTransfer/Utilities/raw/master/Similitude/Speaker_Verification/MFCCS_Test/Sound_4/p230.hd5\n"
      ],
      "execution_count": 0,
      "outputs": [
        {
          "output_type": "stream",
          "text": [
            "--2020-04-26 02:07:22--  https://github.com/Integrador-VoiceStyleTransfer/Utilities/raw/master/Similitude/Speaker_Verification/MFCCS_Test/Sound_4/p225.hd5\n",
            "Resolving github.com (github.com)... 192.30.255.112\n",
            "Connecting to github.com (github.com)|192.30.255.112|:443... connected.\n",
            "HTTP request sent, awaiting response... 302 Found\n",
            "Location: https://raw.githubusercontent.com/Integrador-VoiceStyleTransfer/Utilities/master/Similitude/Speaker_Verification/MFCCS_Test/Sound_4/p225.hd5 [following]\n",
            "--2020-04-26 02:07:22--  https://raw.githubusercontent.com/Integrador-VoiceStyleTransfer/Utilities/master/Similitude/Speaker_Verification/MFCCS_Test/Sound_4/p225.hd5\n",
            "Resolving raw.githubusercontent.com (raw.githubusercontent.com)... 151.101.0.133, 151.101.64.133, 151.101.128.133, ...\n",
            "Connecting to raw.githubusercontent.com (raw.githubusercontent.com)|151.101.0.133|:443... connected.\n",
            "HTTP request sent, awaiting response... 200 OK\n",
            "Length: 64704 (63K) [application/octet-stream]\n",
            "Saving to: ‘p225.hd5’\n",
            "\n",
            "\rp225.hd5              0%[                    ]       0  --.-KB/s               \rp225.hd5            100%[===================>]  63.19K  --.-KB/s    in 0.02s   \n",
            "\n",
            "2020-04-26 02:07:22 (4.11 MB/s) - ‘p225.hd5’ saved [64704/64704]\n",
            "\n",
            "--2020-04-26 02:07:23--  https://github.com/Integrador-VoiceStyleTransfer/Utilities/raw/master/Similitude/Speaker_Verification/MFCCS_Test/Sound_4/p226.hd5\n",
            "Resolving github.com (github.com)... 140.82.114.4\n",
            "Connecting to github.com (github.com)|140.82.114.4|:443... connected.\n",
            "HTTP request sent, awaiting response... 302 Found\n",
            "Location: https://raw.githubusercontent.com/Integrador-VoiceStyleTransfer/Utilities/master/Similitude/Speaker_Verification/MFCCS_Test/Sound_4/p226.hd5 [following]\n",
            "--2020-04-26 02:07:23--  https://raw.githubusercontent.com/Integrador-VoiceStyleTransfer/Utilities/master/Similitude/Speaker_Verification/MFCCS_Test/Sound_4/p226.hd5\n",
            "Resolving raw.githubusercontent.com (raw.githubusercontent.com)... 151.101.0.133, 151.101.64.133, 151.101.128.133, ...\n",
            "Connecting to raw.githubusercontent.com (raw.githubusercontent.com)|151.101.0.133|:443... connected.\n",
            "HTTP request sent, awaiting response... 200 OK\n",
            "Length: 64704 (63K) [application/octet-stream]\n",
            "Saving to: ‘p226.hd5’\n",
            "\n",
            "p226.hd5            100%[===================>]  63.19K  --.-KB/s    in 0.02s   \n",
            "\n",
            "2020-04-26 02:07:23 (4.00 MB/s) - ‘p226.hd5’ saved [64704/64704]\n",
            "\n",
            "--2020-04-26 02:07:24--  https://github.com/Integrador-VoiceStyleTransfer/Utilities/raw/master/Similitude/Speaker_Verification/MFCCS_Test/Sound_4/p227.hd5\n",
            "Resolving github.com (github.com)... 140.82.112.4\n",
            "Connecting to github.com (github.com)|140.82.112.4|:443... connected.\n",
            "HTTP request sent, awaiting response... 302 Found\n",
            "Location: https://raw.githubusercontent.com/Integrador-VoiceStyleTransfer/Utilities/master/Similitude/Speaker_Verification/MFCCS_Test/Sound_4/p227.hd5 [following]\n",
            "--2020-04-26 02:07:24--  https://raw.githubusercontent.com/Integrador-VoiceStyleTransfer/Utilities/master/Similitude/Speaker_Verification/MFCCS_Test/Sound_4/p227.hd5\n",
            "Resolving raw.githubusercontent.com (raw.githubusercontent.com)... 151.101.0.133, 151.101.64.133, 151.101.128.133, ...\n",
            "Connecting to raw.githubusercontent.com (raw.githubusercontent.com)|151.101.0.133|:443... connected.\n",
            "HTTP request sent, awaiting response... 200 OK\n",
            "Length: 79576 (78K) [application/octet-stream]\n",
            "Saving to: ‘p227.hd5’\n",
            "\n",
            "p227.hd5            100%[===================>]  77.71K  --.-KB/s    in 0.02s   \n",
            "\n",
            "2020-04-26 02:07:24 (4.61 MB/s) - ‘p227.hd5’ saved [79576/79576]\n",
            "\n",
            "--2020-04-26 02:07:25--  https://github.com/Integrador-VoiceStyleTransfer/Utilities/raw/master/Similitude/Speaker_Verification/MFCCS_Test/Sound_4/p228.hd5\n",
            "Resolving github.com (github.com)... 140.82.114.3\n",
            "Connecting to github.com (github.com)|140.82.114.3|:443... connected.\n",
            "HTTP request sent, awaiting response... 302 Found\n",
            "Location: https://raw.githubusercontent.com/Integrador-VoiceStyleTransfer/Utilities/master/Similitude/Speaker_Verification/MFCCS_Test/Sound_4/p228.hd5 [following]\n",
            "--2020-04-26 02:07:25--  https://raw.githubusercontent.com/Integrador-VoiceStyleTransfer/Utilities/master/Similitude/Speaker_Verification/MFCCS_Test/Sound_4/p228.hd5\n",
            "Resolving raw.githubusercontent.com (raw.githubusercontent.com)... 151.101.0.133, 151.101.64.133, 151.101.128.133, ...\n",
            "Connecting to raw.githubusercontent.com (raw.githubusercontent.com)|151.101.0.133|:443... connected.\n",
            "HTTP request sent, awaiting response... 200 OK\n",
            "Length: 60568 (59K) [application/octet-stream]\n",
            "Saving to: ‘p228.hd5’\n",
            "\n",
            "p228.hd5            100%[===================>]  59.15K  --.-KB/s    in 0.01s   \n",
            "\n",
            "2020-04-26 02:07:26 (3.91 MB/s) - ‘p228.hd5’ saved [60568/60568]\n",
            "\n",
            "--2020-04-26 02:07:26--  https://github.com/Integrador-VoiceStyleTransfer/Utilities/raw/master/Similitude/Speaker_Verification/MFCCS_Test/Sound_4/p229.hd5\n",
            "Resolving github.com (github.com)... 192.30.255.112\n",
            "Connecting to github.com (github.com)|192.30.255.112|:443... connected.\n",
            "HTTP request sent, awaiting response... 302 Found\n",
            "Location: https://raw.githubusercontent.com/Integrador-VoiceStyleTransfer/Utilities/master/Similitude/Speaker_Verification/MFCCS_Test/Sound_4/p229.hd5 [following]\n",
            "--2020-04-26 02:07:27--  https://raw.githubusercontent.com/Integrador-VoiceStyleTransfer/Utilities/master/Similitude/Speaker_Verification/MFCCS_Test/Sound_4/p229.hd5\n",
            "Resolving raw.githubusercontent.com (raw.githubusercontent.com)... 151.101.0.133, 151.101.64.133, 151.101.128.133, ...\n",
            "Connecting to raw.githubusercontent.com (raw.githubusercontent.com)|151.101.0.133|:443... connected.\n",
            "HTTP request sent, awaiting response... 200 OK\n",
            "Length: 81864 (80K) [application/octet-stream]\n",
            "Saving to: ‘p229.hd5’\n",
            "\n",
            "p229.hd5            100%[===================>]  79.95K  --.-KB/s    in 0.02s   \n",
            "\n",
            "2020-04-26 02:07:27 (4.81 MB/s) - ‘p229.hd5’ saved [81864/81864]\n",
            "\n",
            "--2020-04-26 02:07:28--  https://github.com/Integrador-VoiceStyleTransfer/Utilities/raw/master/Similitude/Speaker_Verification/MFCCS_Test/Sound_4/p230.hd5\n",
            "Resolving github.com (github.com)... 192.30.255.112\n",
            "Connecting to github.com (github.com)|192.30.255.112|:443... connected.\n",
            "HTTP request sent, awaiting response... 302 Found\n",
            "Location: https://raw.githubusercontent.com/Integrador-VoiceStyleTransfer/Utilities/master/Similitude/Speaker_Verification/MFCCS_Test/Sound_4/p230.hd5 [following]\n",
            "--2020-04-26 02:07:28--  https://raw.githubusercontent.com/Integrador-VoiceStyleTransfer/Utilities/master/Similitude/Speaker_Verification/MFCCS_Test/Sound_4/p230.hd5\n",
            "Resolving raw.githubusercontent.com (raw.githubusercontent.com)... 151.101.0.133, 151.101.64.133, 151.101.128.133, ...\n",
            "Connecting to raw.githubusercontent.com (raw.githubusercontent.com)|151.101.0.133|:443... connected.\n",
            "HTTP request sent, awaiting response... 200 OK\n",
            "Length: 86088 (84K) [application/octet-stream]\n",
            "Saving to: ‘p230.hd5’\n",
            "\n",
            "p230.hd5            100%[===================>]  84.07K  --.-KB/s    in 0.02s   \n",
            "\n",
            "2020-04-26 02:07:28 (5.21 MB/s) - ‘p230.hd5’ saved [86088/86088]\n",
            "\n"
          ],
          "name": "stdout"
        }
      ]
    },
    {
      "cell_type": "code",
      "metadata": {
        "id": "1qRx3d4lMwct",
        "colab_type": "code",
        "outputId": "a7eb8d97-933b-4fbd-b727-bbb20456496d",
        "colab": {
          "base_uri": "https://localhost:8080/",
          "height": 492
        }
      },
      "source": [
        "createConfusion_matrix(sound_name='Sound_4')"
      ],
      "execution_count": 0,
      "outputs": [
        {
          "output_type": "display_data",
          "data": {
            "image/png": "[encoded data removed]",
            "text/plain": [
              "<Figure size 720x504 with 2 Axes>"
            ]
          },
          "metadata": {
            "tags": [],
            "needs_background": "light"
          }
        }
      ]
    },
    {
      "cell_type": "markdown",
      "metadata": {
        "id": "55P0FNIIMwoS",
        "colab_type": "text"
      },
      "source": [
        "## Sound_5"
      ]
    },
    {
      "cell_type": "code",
      "metadata": {
        "id": "mutpWEJnN5YH",
        "colab_type": "code",
        "outputId": "75195033-7e57-49af-ee0c-c71b8b038609",
        "colab": {
          "base_uri": "https://localhost:8080/",
          "height": 1000
        }
      },
      "source": [
        "#Sound 2\n",
        "! wget https://github.com/Integrador-VoiceStyleTransfer/Utilities/raw/master/Similitude/Speaker_Verification/MFCCS_Test/Sound_5/p225.hd5\n",
        "! wget https://github.com/Integrador-VoiceStyleTransfer/Utilities/raw/master/Similitude/Speaker_Verification/MFCCS_Test/Sound_5/p226.hd5\n",
        "! wget https://github.com/Integrador-VoiceStyleTransfer/Utilities/raw/master/Similitude/Speaker_Verification/MFCCS_Test/Sound_5/p227.hd5\n",
        "! wget https://github.com/Integrador-VoiceStyleTransfer/Utilities/raw/master/Similitude/Speaker_Verification/MFCCS_Test/Sound_5/p228.hd5\n",
        "! wget https://github.com/Integrador-VoiceStyleTransfer/Utilities/raw/master/Similitude/Speaker_Verification/MFCCS_Test/Sound_5/p229.hd5\n",
        "! wget https://github.com/Integrador-VoiceStyleTransfer/Utilities/raw/master/Similitude/Speaker_Verification/MFCCS_Test/Sound_5/p230.hd5\n"
      ],
      "execution_count": 0,
      "outputs": [
        {
          "output_type": "stream",
          "text": [
            "--2020-04-26 02:09:29--  https://github.com/Integrador-VoiceStyleTransfer/Utilities/raw/master/Similitude/Speaker_Verification/MFCCS_Test/Sound_5/p225.hd5\n",
            "Resolving github.com (github.com)... 192.30.255.113\n",
            "Connecting to github.com (github.com)|192.30.255.113|:443... connected.\n",
            "HTTP request sent, awaiting response... 302 Found\n",
            "Location: https://raw.githubusercontent.com/Integrador-VoiceStyleTransfer/Utilities/master/Similitude/Speaker_Verification/MFCCS_Test/Sound_5/p225.hd5 [following]\n",
            "--2020-04-26 02:09:29--  https://raw.githubusercontent.com/Integrador-VoiceStyleTransfer/Utilities/master/Similitude/Speaker_Verification/MFCCS_Test/Sound_5/p225.hd5\n",
            "Resolving raw.githubusercontent.com (raw.githubusercontent.com)... 151.101.0.133, 151.101.64.133, 151.101.128.133, ...\n",
            "Connecting to raw.githubusercontent.com (raw.githubusercontent.com)|151.101.0.133|:443... connected.\n",
            "HTTP request sent, awaiting response... 200 OK\n",
            "Length: 58368 (57K) [application/octet-stream]\n",
            "Saving to: ‘p225.hd5’\n",
            "\n",
            "\rp225.hd5              0%[                    ]       0  --.-KB/s               \rp225.hd5            100%[===================>]  57.00K  --.-KB/s    in 0.01s   \n",
            "\n",
            "2020-04-26 02:09:30 (3.93 MB/s) - ‘p225.hd5’ saved [58368/58368]\n",
            "\n",
            "--2020-04-26 02:09:31--  https://github.com/Integrador-VoiceStyleTransfer/Utilities/raw/master/Similitude/Speaker_Verification/MFCCS_Test/Sound_5/p226.hd5\n",
            "Resolving github.com (github.com)... 192.30.255.112\n",
            "Connecting to github.com (github.com)|192.30.255.112|:443... connected.\n",
            "HTTP request sent, awaiting response... 302 Found\n",
            "Location: https://raw.githubusercontent.com/Integrador-VoiceStyleTransfer/Utilities/master/Similitude/Speaker_Verification/MFCCS_Test/Sound_5/p226.hd5 [following]\n",
            "--2020-04-26 02:09:31--  https://raw.githubusercontent.com/Integrador-VoiceStyleTransfer/Utilities/master/Similitude/Speaker_Verification/MFCCS_Test/Sound_5/p226.hd5\n",
            "Resolving raw.githubusercontent.com (raw.githubusercontent.com)... 151.101.0.133, 151.101.64.133, 151.101.128.133, ...\n",
            "Connecting to raw.githubusercontent.com (raw.githubusercontent.com)|151.101.0.133|:443... connected.\n",
            "HTTP request sent, awaiting response... 200 OK\n",
            "Length: 57664 (56K) [application/octet-stream]\n",
            "Saving to: ‘p226.hd5’\n",
            "\n",
            "p226.hd5            100%[===================>]  56.31K  --.-KB/s    in 0.01s   \n",
            "\n",
            "2020-04-26 02:09:31 (3.94 MB/s) - ‘p226.hd5’ saved [57664/57664]\n",
            "\n",
            "--2020-04-26 02:09:32--  https://github.com/Integrador-VoiceStyleTransfer/Utilities/raw/master/Similitude/Speaker_Verification/MFCCS_Test/Sound_5/p227.hd5\n",
            "Resolving github.com (github.com)... 192.30.255.112\n",
            "Connecting to github.com (github.com)|192.30.255.112|:443... connected.\n",
            "HTTP request sent, awaiting response... 302 Found\n",
            "Location: https://raw.githubusercontent.com/Integrador-VoiceStyleTransfer/Utilities/master/Similitude/Speaker_Verification/MFCCS_Test/Sound_5/p227.hd5 [following]\n",
            "--2020-04-26 02:09:32--  https://raw.githubusercontent.com/Integrador-VoiceStyleTransfer/Utilities/master/Similitude/Speaker_Verification/MFCCS_Test/Sound_5/p227.hd5\n",
            "Resolving raw.githubusercontent.com (raw.githubusercontent.com)... 151.101.0.133, 151.101.64.133, 151.101.128.133, ...\n",
            "Connecting to raw.githubusercontent.com (raw.githubusercontent.com)|151.101.0.133|:443... connected.\n",
            "HTTP request sent, awaiting response... 200 OK\n",
            "Length: 64704 (63K) [application/octet-stream]\n",
            "Saving to: ‘p227.hd5’\n",
            "\n",
            "p227.hd5            100%[===================>]  63.19K  --.-KB/s    in 0.01s   \n",
            "\n",
            "2020-04-26 02:09:32 (4.13 MB/s) - ‘p227.hd5’ saved [64704/64704]\n",
            "\n",
            "--2020-04-26 02:09:33--  https://github.com/Integrador-VoiceStyleTransfer/Utilities/raw/master/Similitude/Speaker_Verification/MFCCS_Test/Sound_5/p228.hd5\n",
            "Resolving github.com (github.com)... 140.82.112.4\n",
            "Connecting to github.com (github.com)|140.82.112.4|:443... connected.\n",
            "HTTP request sent, awaiting response... 302 Found\n",
            "Location: https://raw.githubusercontent.com/Integrador-VoiceStyleTransfer/Utilities/master/Similitude/Speaker_Verification/MFCCS_Test/Sound_5/p228.hd5 [following]\n",
            "--2020-04-26 02:09:34--  https://raw.githubusercontent.com/Integrador-VoiceStyleTransfer/Utilities/master/Similitude/Speaker_Verification/MFCCS_Test/Sound_5/p228.hd5\n",
            "Resolving raw.githubusercontent.com (raw.githubusercontent.com)... 151.101.0.133, 151.101.64.133, 151.101.128.133, ...\n",
            "Connecting to raw.githubusercontent.com (raw.githubusercontent.com)|151.101.0.133|:443... connected.\n",
            "HTTP request sent, awaiting response... 200 OK\n",
            "Length: 55200 (54K) [application/octet-stream]\n",
            "Saving to: ‘p228.hd5’\n",
            "\n",
            "p228.hd5            100%[===================>]  53.91K  --.-KB/s    in 0.02s   \n",
            "\n",
            "2020-04-26 02:09:34 (3.45 MB/s) - ‘p228.hd5’ saved [55200/55200]\n",
            "\n",
            "--2020-04-26 02:09:35--  https://github.com/Integrador-VoiceStyleTransfer/Utilities/raw/master/Similitude/Speaker_Verification/MFCCS_Test/Sound_5/p229.hd5\n",
            "Resolving github.com (github.com)... 140.82.113.4\n",
            "Connecting to github.com (github.com)|140.82.113.4|:443... connected.\n",
            "HTTP request sent, awaiting response... 302 Found\n",
            "Location: https://raw.githubusercontent.com/Integrador-VoiceStyleTransfer/Utilities/master/Similitude/Speaker_Verification/MFCCS_Test/Sound_5/p229.hd5 [following]\n",
            "--2020-04-26 02:09:35--  https://raw.githubusercontent.com/Integrador-VoiceStyleTransfer/Utilities/master/Similitude/Speaker_Verification/MFCCS_Test/Sound_5/p229.hd5\n",
            "Resolving raw.githubusercontent.com (raw.githubusercontent.com)... 151.101.0.133, 151.101.64.133, 151.101.128.133, ...\n",
            "Connecting to raw.githubusercontent.com (raw.githubusercontent.com)|151.101.0.133|:443... connected.\n",
            "HTTP request sent, awaiting response... 200 OK\n",
            "Length: 66376 (65K) [application/octet-stream]\n",
            "Saving to: ‘p229.hd5’\n",
            "\n",
            "p229.hd5            100%[===================>]  64.82K  --.-KB/s    in 0.02s   \n",
            "\n",
            "2020-04-26 02:09:35 (4.06 MB/s) - ‘p229.hd5’ saved [66376/66376]\n",
            "\n",
            "--2020-04-26 02:09:36--  https://github.com/Integrador-VoiceStyleTransfer/Utilities/raw/master/Similitude/Speaker_Verification/MFCCS_Test/Sound_5/p230.hd5\n",
            "Resolving github.com (github.com)... 192.30.255.113\n",
            "Connecting to github.com (github.com)|192.30.255.113|:443... connected.\n",
            "HTTP request sent, awaiting response... 302 Found\n",
            "Location: https://raw.githubusercontent.com/Integrador-VoiceStyleTransfer/Utilities/master/Similitude/Speaker_Verification/MFCCS_Test/Sound_5/p230.hd5 [following]\n",
            "--2020-04-26 02:09:36--  https://raw.githubusercontent.com/Integrador-VoiceStyleTransfer/Utilities/master/Similitude/Speaker_Verification/MFCCS_Test/Sound_5/p230.hd5\n",
            "Resolving raw.githubusercontent.com (raw.githubusercontent.com)... 151.101.0.133, 151.101.64.133, 151.101.128.133, ...\n",
            "Connecting to raw.githubusercontent.com (raw.githubusercontent.com)|151.101.0.133|:443... connected.\n",
            "HTTP request sent, awaiting response... 200 OK\n",
            "Length: 79048 (77K) [application/octet-stream]\n",
            "Saving to: ‘p230.hd5’\n",
            "\n",
            "p230.hd5            100%[===================>]  77.20K  --.-KB/s    in 0.02s   \n",
            "\n",
            "2020-04-26 02:09:37 (4.80 MB/s) - ‘p230.hd5’ saved [79048/79048]\n",
            "\n"
          ],
          "name": "stdout"
        }
      ]
    },
    {
      "cell_type": "code",
      "metadata": {
        "id": "hrVDEcVIN5bF",
        "colab_type": "code",
        "outputId": "adb7ebe7-3502-4882-d306-f2181ebbde05",
        "colab": {
          "base_uri": "https://localhost:8080/",
          "height": 492
        }
      },
      "source": [
        "createConfusion_matrix(sound_name='Sound_5')"
      ],
      "execution_count": 0,
      "outputs": [
        {
          "output_type": "display_data",
          "data": {
            "image/png": "[encoded data removed]",
            "text/plain": [
              "<Figure size 720x504 with 2 Axes>"
            ]
          },
          "metadata": {
            "tags": [],
            "needs_background": "light"
          }
        }
      ]
    },
    {
      "cell_type": "code",
      "metadata": {
        "id": "SdCg4CiULlIh",
        "colab_type": "code",
        "colab": {}
      },
      "source": [
        "def print_confusion_matrix(confusion_matrix, class_names, figsize = (10,7), fontsize=12,sound_name='Sound_1'):\n",
        "    \"\"\"Prints a confusion matrix, as returned by sklearn.metrics.confusion_matrix, as a heatmap.\n",
        "    \n",
        "    Arguments\n",
        "    ---------\n",
        "    confusion_matrix: numpy.ndarray\n",
        "        The numpy.ndarray object returned from a call to sklearn.metrics.confusion_matrix. \n",
        "        Similarly constructed ndarrays can also be used.\n",
        "    class_names: list\n",
        "        An ordered list of class names, in the order they index the given confusion matrix.\n",
        "    figsize: tuple\n",
        "        A 2-long tuple, the first value determining the horizontal size of the ouputted figure,\n",
        "        the second determining the vertical size. Defaults to (10,7).\n",
        "    fontsize: int\n",
        "        Font size for axes labels. Defaults to 14.\n",
        "        \n",
        "    Returns\n",
        "    -------\n",
        "    matplotlib.figure.Figure\n",
        "        The resulting confusion matrix figure\n",
        "    \"\"\"\n",
        "    df_cm = pd.DataFrame(\n",
        "        confusion_matrix, index=class_names, columns=class_names, \n",
        "    )\n",
        "    fig = plt.figure(figsize=figsize)\n",
        "    try:\n",
        "        heatmap = sns.heatmap(df_cm, annot=True, fmt=\".2f\")\n",
        "    except ValueError:\n",
        "        raise ValueError(\"Confusion matrix values must be integers.\")\n",
        "    heatmap.yaxis.set_ticklabels(heatmap.yaxis.get_ticklabels(), rotation=0, ha='right', fontsize=fontsize)\n",
        "    heatmap.xaxis.set_ticklabels(heatmap.xaxis.get_ticklabels(), rotation=30, ha='right', fontsize=fontsize)\n",
        "    plt.ylabel('Speaker 1')\n",
        "    plt.xlabel('Speaker 2')\n",
        "    plt.title(sound_name)\n",
        "    #return fig"
      ],
      "execution_count": 0,
      "outputs": []
    },
    {
      "cell_type": "markdown",
      "metadata": {
        "id": "i3UazBMw8Fc9",
        "colab_type": "text"
      },
      "source": [
        "# Todos los audios"
      ]
    },
    {
      "cell_type": "code",
      "metadata": {
        "id": "gyCduwsy8JOm",
        "colab_type": "code",
        "colab": {
          "base_uri": "https://localhost:8080/",
          "height": 492
        },
        "outputId": "80779cd1-4952-4825-ae99-a115eb01a04f"
      },
      "source": [
        "createConfusion_matrix(sound_name='All sounds')"
      ],
      "execution_count": 23,
      "outputs": [
        {
          "output_type": "display_data",
          "data": {
            "image/png": "[encoded data removed]",
            "text/plain": [
              "<Figure size 720x504 with 2 Axes>"
            ]
          },
          "metadata": {
            "tags": [],
            "needs_background": "light"
          }
        }
      ]
    }
  ]
}