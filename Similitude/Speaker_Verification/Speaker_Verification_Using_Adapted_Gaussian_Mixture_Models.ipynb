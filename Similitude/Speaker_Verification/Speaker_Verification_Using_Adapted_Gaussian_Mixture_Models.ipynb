{
 "cells": [
  {
   "cell_type": "markdown",
   "metadata": {},
   "source": [
    "Speaker Verification Using Adapted Gaussain Mixture Models"
   ]
  },
  {
   "cell_type": "code",
   "execution_count": 1,
   "metadata": {},
   "outputs": [],
   "source": [
    "from sklearn.mixture import GaussianMixture\n",
    "import pylab as pl\n",
    "from scipy import linalg\n",
    "import numpy as np\n",
    "import matplotlib as mpl\n",
    "from joblib import dump, load\n",
    "import pandas as pd"
   ]
  },
  {
   "cell_type": "markdown",
   "metadata": {},
   "source": [
    "# Data - Train"
   ]
  },
  {
   "cell_type": "markdown",
   "metadata": {},
   "source": [
    "Se extraen los MFCCS de 5 audios de una duración promedio de 7 segundo.\n",
    "- Angelower p225 \n",
    "- Carlos p226\n",
    "- Gabriel p227\n",
    "- Jose p228\n",
    "- Juan p229\n",
    "- Leon p230"
   ]
  },
  {
   "cell_type": "code",
   "execution_count": 142,
   "metadata": {},
   "outputs": [],
   "source": [
    "PATH_MFCS ='./MFCCS_Train/'\n",
    "speakers = [225,226,227,228,229,230]\n",
    "audios_jose = pd.read_hdf(PATH_MFCS+'/p'+'228'+'.hd5').values\n",
    "audios_leo = pd.read_hdf(PATH_MFCS+'/p'+'230'+'.hd5').values\n",
    "audios_angelower = pd.read_hdf(PATH_MFCS+'/p'+'225'+'.hd5').values\n",
    "audios_gabriel = pd.read_hdf(PATH_MFCS+'/p'+'227'+'.hd5').values\n",
    "audios_juan=pd.read_hdf(PATH_MFCS+'/p'+'229'+'.hd5').values\n",
    "audios_carlos= pd.read_hdf(PATH_MFCS+'/p'+'226'+'.hd5').values"
   ]
  },
  {
   "cell_type": "code",
   "execution_count": 143,
   "metadata": {},
   "outputs": [
    {
     "data": {
      "text/plain": [
       "(2588, 20)"
      ]
     },
     "execution_count": 143,
     "metadata": {},
     "output_type": "execute_result"
    }
   ],
   "source": [
    "audios_jose.shape"
   ]
  },
  {
   "cell_type": "code",
   "execution_count": null,
   "metadata": {},
   "outputs": [],
   "source": [
    "audios_juan.shape"
   ]
  },
  {
   "cell_type": "markdown",
   "metadata": {},
   "source": [
    "# Load UBM Model"
   ]
  },
  {
   "cell_type": "markdown",
   "metadata": {},
   "source": [
    "GMM de 300 componentes, entrado con 20 speakers, cada uno con un promedio de 350 audios."
   ]
  },
  {
   "cell_type": "code",
   "execution_count": 153,
   "metadata": {},
   "outputs": [],
   "source": [
    "gmm_UBM = load('GMM_300_NC.joblib')"
   ]
  },
  {
   "cell_type": "code",
   "execution_count": 154,
   "metadata": {},
   "outputs": [
    {
     "data": {
      "text/plain": [
       "GaussianMixture(covariance_type='diag', init_params='kmeans', max_iter=15,\n",
       "                means_init=None, n_components=300, n_init=1,\n",
       "                precisions_init=None, random_state=None, reg_covar=1e-06,\n",
       "                tol=0.001, verbose=1, verbose_interval=1, warm_start=False,\n",
       "                weights_init=None)"
      ]
     },
     "execution_count": 154,
     "metadata": {},
     "output_type": "execute_result"
    }
   ],
   "source": [
    "gmm_UBM"
   ]
  },
  {
   "cell_type": "code",
   "execution_count": 155,
   "metadata": {},
   "outputs": [
    {
     "data": {
      "text/plain": [
       "array([[-3.72092763e+02,  7.90531104e+01,  5.75087773e+01, ...,\n",
       "         1.95589305e+00, -5.42388895e+00,  1.31865869e+01],\n",
       "       [-6.40186012e+02,  6.51182066e+01,  4.77050119e+01, ...,\n",
       "         1.02605349e+01,  1.03537936e+01,  1.04918980e+01],\n",
       "       [-4.42519519e+02,  1.62691426e+02,  5.65444069e+01, ...,\n",
       "         3.48107743e+00,  3.47658404e+00,  5.90776896e+00],\n",
       "       ...,\n",
       "       [-4.18289128e+02, -6.26675689e-01, -1.00534455e+01, ...,\n",
       "         2.05060145e+01,  5.20795478e+00,  1.31309701e+01],\n",
       "       [-4.08525935e+02, -6.49790849e+01,  7.48685844e+00, ...,\n",
       "         1.85930022e+01,  7.63451773e+00,  1.93786638e+01],\n",
       "       [-6.66046679e+02,  4.18304648e+01,  4.05385905e+01, ...,\n",
       "         1.28114425e+01,  1.19357271e+01,  1.11988715e+01]])"
      ]
     },
     "execution_count": 155,
     "metadata": {},
     "output_type": "execute_result"
    }
   ],
   "source": [
    "gmm_UBM.means_"
   ]
  },
  {
   "cell_type": "code",
   "execution_count": 156,
   "metadata": {},
   "outputs": [
    {
     "data": {
      "text/plain": [
       "(300, 20)"
      ]
     },
     "execution_count": 156,
     "metadata": {},
     "output_type": "execute_result"
    }
   ],
   "source": [
    "gmm_UBM.covariances_.shape"
   ]
  },
  {
   "cell_type": "markdown",
   "metadata": {},
   "source": [
    "# Adaptation of Speaker Model "
   ]
  },
  {
   "cell_type": "markdown",
   "metadata": {},
   "source": [
    "Bayesian learning or maximum a posteriori (MAP) estimation"
   ]
  },
  {
   "cell_type": "markdown",
   "metadata": {},
   "source": [
    "# 1 Determine the probabilistic alignment of the training vectors into the UBM mixture components\n",
    "Given a UBM and training vectors from the hypothesized speaker, X = {x 1 , . . . , x T }, we first determine\n",
    "the probabilistic alignment of the training vectors into the UBM mixture components. That is, for mixture i in the UBM, we compute"
   ]
  },
  {
   "cell_type": "code",
   "execution_count": 157,
   "metadata": {},
   "outputs": [],
   "source": [
    "def map_adaptation(gmm,data,max_iterations=5000,likelihood_threshold= 1e-20, relevance_factor = 16):\n",
    "    T = data.shape[0] #Número de ventanas\n",
    "    D = data.shape[1]  # Dimensiones (Número de coeficientes MFCCS)\n",
    "    M = gmm.n_components #Número de componentes\n",
    "    \n",
    "    #Parametros del UBM\n",
    "    mu_k = gmm.means_\n",
    "    cov_k = gmm.covariances_\n",
    "    pi_k = gmm.weights_\n",
    "    \n",
    "    #Inicializamos los parametros del nuevo modelo, los cuales se actualizarán usando el Algoritmo de EM\n",
    "    mu_new = np.zeros((M,D)) #Vector de medias (300,20) # cada compoenente tiene un vector de medias (1,20)\n",
    "    cov_new = np.ones((M,D))#Matriz de covarianza\n",
    "    weights_new = np.zeros((M,1))#Vector de pesos\n",
    "    \n",
    "    #Variables auxiliares\n",
    "    n_i = np.zeros((T,M)) #Vector de probabilidades por compoenentes (300,1) probabilidad de cada componente\n",
    "    \n",
    "    #Probabilidades\n",
    "    # Estas son usadas como condiciona de parada de la adaptación\n",
    "    old_likelihood = gmm.score(data)\n",
    "    new_likelihood = 0 # Ya que no se ha creado el modelo nuevo(Adaptado)\n",
    "    iterations = 0\n",
    "    # likelihood ratios (LLR) \n",
    "    while(abs(old_likelihood - new_likelihood) > likelihood_threshold and iterations < max_iterations):\n",
    "        iterations +=1\n",
    "        old_likelihood = new_likelihood # Actualizamos la probabilidad antigua, que va ser \n",
    "        \n",
    "    #1 Paso: first determine the probabilistic alignment of the training vectors into the UBM mixture components\n",
    "        \n",
    "        z_n_k = gmm.predict_proba(data) # (T,300) probabilidad de que un vector pertenezca a la componente M.\n",
    "        n_i = np.sum(z_n_k,axis=0)   # Suma de las probabilidades (300,1) de todos los tiempos en las componentes\n",
    "        \n",
    "    #2 Paso: Use Pr(i | x t ) and x t to compute the sufficient statistics for the weight, mean, and variance parameters  \n",
    "              \n",
    "        \n",
    "        for i in range(M): # Por cada componente\n",
    "            Ei = np.zeros((1,D))\n",
    "            #Eii = np.zeros((1,D))\n",
    "            for t in range(T): #Por cada vector t=0 ,.... T=N_Windows\n",
    "                xt=data[t,:]\n",
    "                #xtt=xt*xt\n",
    "                Ei =Ei+ np.dot(z_n_k[t][i],xt)\n",
    "                #Eii+=z_n_k[t][i]*xtt\n",
    "            #Normalizamos, dividiendo por n_i\n",
    "            mu_new[i]=(1/n_i[i])*Ei\n",
    "        #Calculamos el coeficiente de adaptación \n",
    "        adaptation_coefficient = n_i/(n_i+relevance_factor)\n",
    "    \n",
    "    #3 Paso: Calculo el nuevo valor de los parametros usando el coeficiente de adaptación\n",
    "        for i in range(M):\n",
    "            #Actualizo vector de medias\n",
    "            mu_k[i] = (adaptation_coefficient[i]*mu_new[i])+((1-adaptation_coefficient[i])*mu_k[i])\n",
    "            #Actualizo vector de pesos, pero necesito el factor de escala.\n",
    "            #pi_k[i]\n",
    "            #Actualizo matriz de covarianza\n",
    "            #cov_k[i]\n",
    "    #4 Paso: actualizo parametros del modelo a retorna\n",
    "        gmm.means_=mu_k\n",
    "        \n",
    "        \n",
    "    \n",
    "    #5 Paso: calculo las nuevas probabilidades del modelo\n",
    "        log_likelihood = gmm.score(data)\n",
    "        \n",
    "        new_likelihood = log_likelihood\n",
    "        print(log_likelihood)\n",
    "    return gmm"
   ]
  },
  {
   "cell_type": "code",
   "execution_count": null,
   "metadata": {},
   "outputs": [
    {
     "name": "stdout",
     "output_type": "stream",
     "text": [
      "-73.55280576004986\n",
      "-72.44488278708398\n",
      "-71.92857706297127\n",
      "-71.60192010145624\n",
      "-71.37847142281844\n",
      "-71.21692461901064\n",
      "-71.0964062575396\n",
      "-70.99846087500933\n",
      "-70.91064568290705\n",
      "-70.82866852987313\n",
      "-70.75335461590913\n",
      "-70.68337728067726\n",
      "-70.62180359879905\n",
      "-70.5696269956613\n",
      "-70.52446031513627\n",
      "-70.48116032019128\n",
      "-70.43674297987017\n",
      "-70.39201082029527\n",
      "-70.34624096111297\n",
      "-70.30301723532467\n",
      "-70.26638757969755\n",
      "-70.2330951753308\n",
      "-70.20394275829453\n",
      "-70.17869369028348\n",
      "-70.15706578103749\n",
      "-70.13747530204708\n",
      "-70.11740300327565\n",
      "-70.09784346589608\n",
      "-70.08150345871405\n",
      "-70.06636957578314\n",
      "-70.05221985439985\n",
      "-70.039099214843\n",
      "-70.02731351490613\n",
      "-70.01684180020342\n",
      "-70.00761187310616\n",
      "-69.99936514641112\n",
      "-69.9916250683277\n",
      "-69.9839995452954\n",
      "-69.9762203424977\n",
      "-69.96838043317017\n",
      "-69.9608871434453\n",
      "-69.95407725133802\n",
      "-69.94790252760073\n",
      "-69.94209805985129\n",
      "-69.93660203358888\n",
      "-69.93166183229152\n",
      "-69.92730474077229\n",
      "-69.92332967652993\n",
      "-69.91945342472646\n",
      "-69.9154314363701\n",
      "-69.9110762834452\n",
      "-69.90637184841293\n",
      "-69.90145086348433\n",
      "-69.89643063214048\n",
      "-69.89140279949663\n",
      "-69.88661202552669\n",
      "-69.88220635489722\n",
      "-69.8781402374622\n",
      "-69.87444604882232\n",
      "-69.87110978071232\n",
      "-69.86808528983563\n",
      "-69.86530736161048\n",
      "-69.86269517305043\n",
      "-69.86012426742917\n",
      "-69.85739225407913\n",
      "-69.85421579709958\n",
      "-69.85047319401895\n",
      "-69.8466288965775\n",
      "-69.8429457619945\n",
      "-69.83911364581712\n",
      "-69.83435768976543\n",
      "-69.82793620120793\n",
      "-69.81999272496968\n",
      "-69.81288103470737\n",
      "-69.80799712625726\n",
      "-69.8041938965526\n",
      "-69.8009087741049\n",
      "-69.79796926501457\n",
      "-69.795309625869\n",
      "-69.79278403019784\n",
      "-69.79024056131364\n",
      "-69.78757366637574\n",
      "-69.78473608936909\n",
      "-69.78174047960157\n",
      "-69.77863388552272\n",
      "-69.77548821842936\n",
      "-69.77239537672388\n",
      "-69.76943894486092\n",
      "-69.76675248923281\n",
      "-69.76443967222085\n",
      "-69.76246291770795\n",
      "-69.76071808290584\n",
      "-69.75908952246175\n",
      "-69.75745006673525\n",
      "-69.75565166690554\n",
      "-69.75353637600097\n",
      "-69.75113874856044\n",
      "-69.74877617785536\n",
      "-69.746447424891\n",
      "-69.74428968780171\n",
      "-69.74240502422019\n",
      "-69.74064347242127\n",
      "-69.73890048427532\n",
      "-69.73714838063839\n",
      "-69.7354292469141\n",
      "-69.73377367287601\n",
      "-69.73214188072788\n",
      "-69.7304677193167\n",
      "-69.72869872672419\n",
      "-69.7267594220988\n",
      "-69.72457244184329\n",
      "-69.7219730406917\n",
      "-69.71897670419257\n",
      "-69.71633600382658\n",
      "-69.71433968884303\n",
      "-69.71283524901006\n",
      "-69.7116340480452\n",
      "-69.71058073484951\n",
      "-69.70957214502702\n"
     ]
    }
   ],
   "source": [
    "gmm_juan = map_adaptation(gmm_UBM,audios_juan)"
   ]
  },
  {
   "cell_type": "code",
   "execution_count": null,
   "metadata": {},
   "outputs": [],
   "source": [
    "gmm_juan.predict_proba(audios_juan)"
   ]
  },
  {
   "cell_type": "code",
   "execution_count": null,
   "metadata": {},
   "outputs": [],
   "source": [
    "gmm_juan.means_"
   ]
  },
  {
   "cell_type": "code",
   "execution_count": null,
   "metadata": {},
   "outputs": [],
   "source": []
  },
  {
   "cell_type": "code",
   "execution_count": null,
   "metadata": {},
   "outputs": [],
   "source": []
  },
  {
   "cell_type": "code",
   "execution_count": null,
   "metadata": {},
   "outputs": [],
   "source": []
  },
  {
   "cell_type": "code",
   "execution_count": null,
   "metadata": {},
   "outputs": [],
   "source": []
  },
  {
   "cell_type": "code",
   "execution_count": null,
   "metadata": {},
   "outputs": [],
   "source": []
  },
  {
   "cell_type": "code",
   "execution_count": null,
   "metadata": {},
   "outputs": [],
   "source": []
  },
  {
   "cell_type": "code",
   "execution_count": null,
   "metadata": {},
   "outputs": [],
   "source": []
  },
  {
   "cell_type": "code",
   "execution_count": null,
   "metadata": {},
   "outputs": [],
   "source": []
  },
  {
   "cell_type": "code",
   "execution_count": null,
   "metadata": {},
   "outputs": [],
   "source": []
  },
  {
   "cell_type": "code",
   "execution_count": null,
   "metadata": {},
   "outputs": [],
   "source": []
  },
  {
   "cell_type": "code",
   "execution_count": 6,
   "metadata": {},
   "outputs": [],
   "source": [
    "def distance_probabilities(gmm1,gmm2,sound1,sound2):\n",
    "    nv1 = sound1.shape[0]\n",
    "    nv2 = sound2.shape[0]\n",
    "    \n",
    "    score_gmm1_with_sound1 =gmm1.score(sound1)\n",
    "    score_gmm2_with_sound1 =gmm2.score(sound1)\n",
    "    \n",
    "    score_gmm1_with_sound2 = gmm1.score(sound2)\n",
    "    score_gmm2_with_sound2 = gmm2.score(sound2)\n",
    "    \n",
    "    D12= (1/nv2)*(score_gmm2_with_sound2 - score_gmm1_with_sound2)\n",
    "    D21 = (1/nv1)*(score_gmm2_with_sound1 - score_gmm1_with_sound1)\n",
    "    \n",
    "    D=(np.absolute(D12 - D21))/2\n",
    "    return D"
   ]
  },
  {
   "cell_type": "code",
   "execution_count": null,
   "metadata": {},
   "outputs": [],
   "source": []
  }
 ],
 "metadata": {
  "kernelspec": {
   "display_name": "Python 3",
   "language": "python",
   "name": "python3"
  },
  "language_info": {
   "codemirror_mode": {
    "name": "ipython",
    "version": 3
   },
   "file_extension": ".py",
   "mimetype": "text/x-python",
   "name": "python",
   "nbconvert_exporter": "python",
   "pygments_lexer": "ipython3",
   "version": "3.7.4"
  }
 },
 "nbformat": 4,
 "nbformat_minor": 2
}
