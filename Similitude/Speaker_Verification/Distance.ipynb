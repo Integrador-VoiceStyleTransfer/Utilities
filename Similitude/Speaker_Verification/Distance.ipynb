{
 "cells": [
  {
   "cell_type": "code",
   "execution_count": 3,
   "metadata": {},
   "outputs": [],
   "source": [
    "from sklearn.mixture import GaussianMixture\n",
    "import pylab as pl\n",
    "from scipy import linalg\n",
    "import numpy as np\n",
    "import matplotlib as mpl\n",
    "from joblib import dump, load\n",
    "import pandas as pd"
   ]
  },
  {
   "cell_type": "markdown",
   "metadata": {},
   "source": [
    "# Load Model"
   ]
  },
  {
   "cell_type": "code",
   "execution_count": null,
   "metadata": {},
   "outputs": [],
   "source": []
  },
  {
   "cell_type": "code",
   "execution_count": null,
   "metadata": {},
   "outputs": [],
   "source": []
  },
  {
   "cell_type": "code",
   "execution_count": null,
   "metadata": {},
   "outputs": [],
   "source": []
  },
  {
   "cell_type": "code",
   "execution_count": null,
   "metadata": {},
   "outputs": [],
   "source": []
  },
  {
   "cell_type": "markdown",
   "metadata": {},
   "source": [
    "# Load Data"
   ]
  },
  {
   "cell_type": "code",
   "execution_count": null,
   "metadata": {},
   "outputs": [],
   "source": []
  },
  {
   "cell_type": "code",
   "execution_count": null,
   "metadata": {},
   "outputs": [],
   "source": []
  },
  {
   "cell_type": "code",
   "execution_count": null,
   "metadata": {},
   "outputs": [],
   "source": []
  },
  {
   "cell_type": "code",
   "execution_count": null,
   "metadata": {},
   "outputs": [],
   "source": []
  },
  {
   "cell_type": "code",
   "execution_count": null,
   "metadata": {},
   "outputs": [],
   "source": []
  },
  {
   "cell_type": "code",
   "execution_count": null,
   "metadata": {},
   "outputs": [],
   "source": []
  },
  {
   "cell_type": "code",
   "execution_count": null,
   "metadata": {},
   "outputs": [],
   "source": []
  },
  {
   "cell_type": "code",
   "execution_count": null,
   "metadata": {},
   "outputs": [],
   "source": []
  },
  {
   "cell_type": "code",
   "execution_count": null,
   "metadata": {},
   "outputs": [],
   "source": []
  },
  {
   "cell_type": "code",
   "execution_count": null,
   "metadata": {},
   "outputs": [],
   "source": []
  },
  {
   "cell_type": "code",
   "execution_count": 1,
   "metadata": {},
   "outputs": [],
   "source": [
    "def distance_probabilities(gmm1,gmm2,sound1,sound2):\n",
    "    nv1 = sound1.shape[0]\n",
    "    nv2 = sound2.shape[0]\n",
    "    \n",
    "    \n",
    "    score_gmm1_with_sound1 =gmm1.score(sound1) \n",
    "    score_gmm2_with_sound1 =gmm2.score(sound1)\n",
    "    \n",
    "        \n",
    "    \n",
    "    print('SCORES SOUND 1',score_gmm1_with_sound1,score_gmm2_with_sound1)\n",
    "    \n",
    "    score_gmm1_with_sound2 = gmm1.score(sound2)\n",
    "    score_gmm2_with_sound2 = gmm2.score(sound2)\n",
    "    \n",
    "    print('SCORES SOUND 2',score_gmm1_with_sound2,score_gmm2_with_sound2)\n",
    "    \n",
    "    #Remover (1/nv2)\n",
    "    \n",
    "    D12= (score_gmm2_with_sound2 - score_gmm1_with_sound2)\n",
    "    D21 = (score_gmm2_with_sound1 - score_gmm1_with_sound1)\n",
    "    \n",
    "    D=(np.absolute(D12 - D21))/2\n",
    "    return D"
   ]
  },
  {
   "cell_type": "code",
   "execution_count": null,
   "metadata": {},
   "outputs": [],
   "source": []
  }
 ],
 "metadata": {
  "kernelspec": {
   "display_name": "Python 3",
   "language": "python",
   "name": "python3"
  },
  "language_info": {
   "codemirror_mode": {
    "name": "ipython",
    "version": 3
   },
   "file_extension": ".py",
   "mimetype": "text/x-python",
   "name": "python",
   "nbconvert_exporter": "python",
   "pygments_lexer": "ipython3",
   "version": "3.7.4"
  }
 },
 "nbformat": 4,
 "nbformat_minor": 2
}
